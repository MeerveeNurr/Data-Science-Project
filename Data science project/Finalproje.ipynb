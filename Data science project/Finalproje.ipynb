{
 "cells": [
  {
   "cell_type": "code",
   "execution_count": 169,
   "id": "17e561a6-4e0e-4fbc-b87b-4395ecd053ab",
   "metadata": {
    "tags": []
   },
   "outputs": [],
   "source": [
    "from warnings import filterwarnings  #uyarı mesajlarını görmezden geliyoruz.\n",
    "filterwarnings('ignore')"
   ]
  },
  {
   "cell_type": "markdown",
   "id": "95b8ad8e-322a-4f23-aabb-7b282de9ff2e",
   "metadata": {},
   "source": [
    "**BASİT DOĞRUSAL REGRESYON**"
   ]
  },
  {
   "cell_type": "markdown",
   "id": "ad6ca16f-5a3e-48e6-a8fe-77bef9a995bb",
   "metadata": {
    "tags": []
   },
   "source": [
    "import pandas as pd\n",
    "ad = pd.read_excel(\"güncellenmiş_veriSeti.xlsx\", usecols=[0, 2,3,6])\n",
    "df = ad.copy()\n",
    "df.head()"
   ]
  },
  {
   "cell_type": "code",
   "execution_count": 171,
   "id": "9d4b9574-d175-426d-86ab-73395dcf61ed",
   "metadata": {
    "tags": []
   },
   "outputs": [
    {
     "name": "stdout",
     "output_type": "stream",
     "text": [
      "<class 'pandas.core.frame.DataFrame'>\n",
      "RangeIndex: 1338 entries, 0 to 1337\n",
      "Data columns (total 4 columns):\n",
      " #   Column    Non-Null Count  Dtype  \n",
      "---  ------    --------------  -----  \n",
      " 0   age       1338 non-null   float64\n",
      " 1   bmi       1338 non-null   float64\n",
      " 2   children  1338 non-null   int64  \n",
      " 3   charges   1338 non-null   float64\n",
      "dtypes: float64(3), int64(1)\n",
      "memory usage: 41.9 KB\n"
     ]
    }
   ],
   "source": [
    "df.info()"
   ]
  },
  {
   "cell_type": "code",
   "execution_count": 172,
   "id": "8a22f81a-a444-4de2-8549-81cd04f4d1a2",
   "metadata": {
    "tags": []
   },
   "outputs": [
    {
     "data": {
      "text/plain": [
       "False"
      ]
     },
     "execution_count": 172,
     "metadata": {},
     "output_type": "execute_result"
    }
   ],
   "source": [
    "df.isnull().values.any() #eksik değer olup olmadığını değerlendirelim"
   ]
  },
  {
   "cell_type": "code",
   "execution_count": 173,
   "id": "fb1ae9c0-e06e-43e4-ba2b-3c9bf08a4818",
   "metadata": {
    "tags": []
   },
   "outputs": [
    {
     "data": {
      "text/html": [
       "<div>\n",
       "<style scoped>\n",
       "    .dataframe tbody tr th:only-of-type {\n",
       "        vertical-align: middle;\n",
       "    }\n",
       "\n",
       "    .dataframe tbody tr th {\n",
       "        vertical-align: top;\n",
       "    }\n",
       "\n",
       "    .dataframe thead th {\n",
       "        text-align: right;\n",
       "    }\n",
       "</style>\n",
       "<table border=\"1\" class=\"dataframe\">\n",
       "  <thead>\n",
       "    <tr style=\"text-align: right;\">\n",
       "      <th></th>\n",
       "      <th>age</th>\n",
       "      <th>bmi</th>\n",
       "      <th>children</th>\n",
       "      <th>charges</th>\n",
       "    </tr>\n",
       "  </thead>\n",
       "  <tbody>\n",
       "    <tr>\n",
       "      <th>age</th>\n",
       "      <td>1.000000</td>\n",
       "      <td>0.099255</td>\n",
       "      <td>0.064242</td>\n",
       "      <td>0.284585</td>\n",
       "    </tr>\n",
       "    <tr>\n",
       "      <th>bmi</th>\n",
       "      <td>0.099255</td>\n",
       "      <td>1.000000</td>\n",
       "      <td>0.003858</td>\n",
       "      <td>0.200596</td>\n",
       "    </tr>\n",
       "    <tr>\n",
       "      <th>children</th>\n",
       "      <td>0.064242</td>\n",
       "      <td>0.003858</td>\n",
       "      <td>1.000000</td>\n",
       "      <td>0.079189</td>\n",
       "    </tr>\n",
       "    <tr>\n",
       "      <th>charges</th>\n",
       "      <td>0.284585</td>\n",
       "      <td>0.200596</td>\n",
       "      <td>0.079189</td>\n",
       "      <td>1.000000</td>\n",
       "    </tr>\n",
       "  </tbody>\n",
       "</table>\n",
       "</div>"
      ],
      "text/plain": [
       "               age       bmi  children   charges\n",
       "age       1.000000  0.099255  0.064242  0.284585\n",
       "bmi       0.099255  1.000000  0.003858  0.200596\n",
       "children  0.064242  0.003858  1.000000  0.079189\n",
       "charges   0.284585  0.200596  0.079189  1.000000"
      ]
     },
     "execution_count": 173,
     "metadata": {},
     "output_type": "execute_result"
    }
   ],
   "source": [
    "df.corr() #değişkenlerin korelasyonlarını incelememizi sağlar"
   ]
  },
  {
   "cell_type": "markdown",
   "id": "ada26ad4-e15b-4a05-b530-70cf179cd7f2",
   "metadata": {},
   "source": [
    "-->\"age\" ve \"charges\" arasındaki korelasyon (0.284585):\n",
    "Pozitif bir korelasyon vardır, yani yaş arttıkça sigorta ücretleri de artma eğilimindedir.\n",
    "\n",
    "-->\"bmi\" ve \"charges\" arasındaki korelasyon (0.200596):\n",
    "Yine pozitif bir korelasyon vardır, yani Vücut Kitle İndeksi (BMI) arttıkça sigorta ücretleri de artma eğilimindedir.\n",
    "\n",
    "-->\"children\" ve \"charges\" arasındaki korelasyon (0.079189):\n",
    "Pozitif bir korelasyon vardır, ancak bu değer diğerlerine göre daha düşüktür. Yani çocuk sayısı arttıkça sigorta ücretleri de artma eğilimindedir, ancak bu ilişki daha zayıftır."
   ]
  },
  {
   "cell_type": "markdown",
   "id": "18291fdc-0b1b-4bd0-816c-86d78da9f052",
   "metadata": {},
   "source": [
    "**scikit-learn ile Modelleme**"
   ]
  },
  {
   "cell_type": "code",
   "execution_count": 174,
   "id": "791fe0ce-786c-438a-af80-5a2816e690a0",
   "metadata": {
    "tags": []
   },
   "outputs": [],
   "source": [
    "from sklearn.linear_model import LinearRegression"
   ]
  },
  {
   "cell_type": "code",
   "execution_count": 175,
   "id": "c73be5bd-482d-40e0-997a-b4a45f3fb176",
   "metadata": {
    "tags": []
   },
   "outputs": [],
   "source": [
    "X = df[[\"bmi\"]] # x bağımsız değişken,\n",
    "y = df[\"charges\"] #y bağımlı değişken"
   ]
  },
  {
   "cell_type": "markdown",
   "id": "b0005dbf-12e9-49d5-becc-cd7ad19aedab",
   "metadata": {},
   "source": [
    "Burada X değerini kullanarak Y değerini tahmin etmeye çalışıyoruz."
   ]
  },
  {
   "cell_type": "code",
   "execution_count": 176,
   "id": "20ca5fa5-a5c2-45f1-ac4d-90fd1a086b4a",
   "metadata": {
    "tags": []
   },
   "outputs": [
    {
     "data": {
      "text/html": [
       "<div>\n",
       "<style scoped>\n",
       "    .dataframe tbody tr th:only-of-type {\n",
       "        vertical-align: middle;\n",
       "    }\n",
       "\n",
       "    .dataframe tbody tr th {\n",
       "        vertical-align: top;\n",
       "    }\n",
       "\n",
       "    .dataframe thead th {\n",
       "        text-align: right;\n",
       "    }\n",
       "</style>\n",
       "<table border=\"1\" class=\"dataframe\">\n",
       "  <thead>\n",
       "    <tr style=\"text-align: right;\">\n",
       "      <th></th>\n",
       "      <th>bmi</th>\n",
       "    </tr>\n",
       "  </thead>\n",
       "  <tbody>\n",
       "    <tr>\n",
       "      <th>0</th>\n",
       "      <td>27.900</td>\n",
       "    </tr>\n",
       "    <tr>\n",
       "      <th>1</th>\n",
       "      <td>33.770</td>\n",
       "    </tr>\n",
       "    <tr>\n",
       "      <th>2</th>\n",
       "      <td>33.000</td>\n",
       "    </tr>\n",
       "    <tr>\n",
       "      <th>3</th>\n",
       "      <td>22.705</td>\n",
       "    </tr>\n",
       "    <tr>\n",
       "      <th>4</th>\n",
       "      <td>28.880</td>\n",
       "    </tr>\n",
       "    <tr>\n",
       "      <th>...</th>\n",
       "      <td>...</td>\n",
       "    </tr>\n",
       "    <tr>\n",
       "      <th>1333</th>\n",
       "      <td>30.970</td>\n",
       "    </tr>\n",
       "    <tr>\n",
       "      <th>1334</th>\n",
       "      <td>31.920</td>\n",
       "    </tr>\n",
       "    <tr>\n",
       "      <th>1335</th>\n",
       "      <td>36.850</td>\n",
       "    </tr>\n",
       "    <tr>\n",
       "      <th>1336</th>\n",
       "      <td>25.800</td>\n",
       "    </tr>\n",
       "    <tr>\n",
       "      <th>1337</th>\n",
       "      <td>29.070</td>\n",
       "    </tr>\n",
       "  </tbody>\n",
       "</table>\n",
       "<p>1338 rows × 1 columns</p>\n",
       "</div>"
      ],
      "text/plain": [
       "         bmi\n",
       "0     27.900\n",
       "1     33.770\n",
       "2     33.000\n",
       "3     22.705\n",
       "4     28.880\n",
       "...      ...\n",
       "1333  30.970\n",
       "1334  31.920\n",
       "1335  36.850\n",
       "1336  25.800\n",
       "1337  29.070\n",
       "\n",
       "[1338 rows x 1 columns]"
      ]
     },
     "execution_count": 176,
     "metadata": {},
     "output_type": "execute_result"
    }
   ],
   "source": [
    "X"
   ]
  },
  {
   "cell_type": "code",
   "execution_count": 177,
   "id": "c3960b06-1461-4495-a667-0fbb96e4e60f",
   "metadata": {
    "tags": []
   },
   "outputs": [
    {
     "data": {
      "text/plain": [
       "0       16884.92400\n",
       "1       13313.37510\n",
       "2        4449.46200\n",
       "3       21984.47061\n",
       "4        3866.85520\n",
       "           ...     \n",
       "1333    10600.54830\n",
       "1334     2205.98080\n",
       "1335     1629.83350\n",
       "1336     2007.94500\n",
       "1337    29141.36030\n",
       "Name: charges, Length: 1338, dtype: float64"
      ]
     },
     "execution_count": 177,
     "metadata": {},
     "output_type": "execute_result"
    }
   ],
   "source": [
    "y"
   ]
  },
  {
   "cell_type": "markdown",
   "id": "5f041f58-f6f0-4cc6-89a2-fbd8d8d95c56",
   "metadata": {
    "tags": []
   },
   "source": [
    "reg = LinearRegression() #fit fonksiyonu, modelin eğitilmesini sağlar\n",
    "model = reg.fit(X, y)"
   ]
  },
  {
   "cell_type": "markdown",
   "id": "ff5c7be6-4ec5-4895-82d5-0dbeef1b4634",
   "metadata": {},
   "source": [
    "**y=b0 + b1*xi**  #Bu denklem, basit doğrusal regresyonun matematiksel temsilidir"
   ]
  },
  {
   "cell_type": "code",
   "execution_count": 178,
   "id": "2388d80c-a251-4260-a30c-d37370661fba",
   "metadata": {
    "tags": []
   },
   "outputs": [
    {
     "data": {
      "text/plain": [
       "1314.3109460589494"
      ]
     },
     "execution_count": 178,
     "metadata": {},
     "output_type": "execute_result"
    }
   ],
   "source": [
    "model = LinearRegression()\n",
    "model.fit(X, y)\n",
    "\n",
    "model.intercept_ #sabit katsayıyı verir (bo)"
   ]
  },
  {
   "cell_type": "code",
   "execution_count": 179,
   "id": "39cd9615-2f8c-47ba-9652-94f9569ac73f",
   "metadata": {
    "tags": []
   },
   "outputs": [
    {
     "data": {
      "text/plain": [
       "array([391.2228497])"
      ]
     },
     "execution_count": 179,
     "metadata": {},
     "output_type": "execute_result"
    }
   ],
   "source": [
    "model.coef_ #bağımsız değişkene ait katsayıyı verir (b1)"
   ]
  },
  {
   "cell_type": "markdown",
   "id": "a694ef8b-e6f5-419c-bf15-713534c67aae",
   "metadata": {},
   "source": [
    "Yani bu demek oluyor ki Y=1314.3+391.2*x"
   ]
  },
  {
   "cell_type": "markdown",
   "id": "23d684f4-1a86-4f44-ac17-af7f5fb89029",
   "metadata": {},
   "source": [
    "**TAHMİN**"
   ]
  },
  {
   "cell_type": "markdown",
   "id": "a91a4c3c-3615-4ae4-95dc-8cfa8d9a2d5e",
   "metadata": {},
   "source": [
    "Örnek olarak; BMİ si 27 olan bir bireyin masraflarını bu denkleme göre hesaplamaya çalışalım"
   ]
  },
  {
   "cell_type": "markdown",
   "id": "0792ecfb-6e4a-471a-bd8a-00f870b9cd25",
   "metadata": {},
   "source": [
    "Y=1314.3+391.2*27=11876,7"
   ]
  },
  {
   "cell_type": "code",
   "execution_count": 180,
   "id": "832ddc38-0cb5-4bd9-9724-7c125eb19996",
   "metadata": {
    "tags": []
   },
   "outputs": [
    {
     "data": {
      "text/plain": [
       "array([11877.32788785])"
      ]
     },
     "execution_count": 180,
     "metadata": {},
     "output_type": "execute_result"
    }
   ],
   "source": [
    "model.predict([[27]]) #Tahmin için predict metodu kullanılır"
   ]
  },
  {
   "cell_type": "code",
   "execution_count": 181,
   "id": "a95eccb7-ddd3-4a24-a357-de335dffb851",
   "metadata": {
    "tags": []
   },
   "outputs": [],
   "source": [
    "yeni_veri = [[5],[50],[150]] #birden gözlem için tahmin #5,50 ve 150 değerlerine sahip 3 farklı gözlemi temsil eder."
   ]
  },
  {
   "cell_type": "code",
   "execution_count": 182,
   "id": "59845c03-1502-4473-8d38-b0a345fdcc14",
   "metadata": {
    "tags": []
   },
   "outputs": [
    {
     "data": {
      "text/plain": [
       "array([ 3270.42519454, 20875.45343087, 59997.73840048])"
      ]
     },
     "execution_count": 182,
     "metadata": {},
     "output_type": "execute_result"
    }
   ],
   "source": [
    "model.predict(yeni_veri)"
   ]
  },
  {
   "cell_type": "markdown",
   "id": "13e15447-436d-4818-9ef8-d8ca0993cea6",
   "metadata": {},
   "source": [
    "**Artıklar ve Makine Öğrenmesindeki Önemi**"
   ]
  },
  {
   "cell_type": "code",
   "execution_count": 183,
   "id": "2db807cb-ab24-4a0f-bb35-17c5aec2362f",
   "metadata": {
    "tags": []
   },
   "outputs": [],
   "source": [
    "from sklearn.metrics import mean_squared_error, r2_score #sklearn içerisinde kullanacağımız 2 metriği import ettik"
   ]
  },
  {
   "cell_type": "code",
   "execution_count": 184,
   "id": "bfdb87e2-cede-4fbe-9599-3e799dd8abbd",
   "metadata": {
    "tags": []
   },
   "outputs": [],
   "source": [
    "y_pred=model.predict(X)"
   ]
  },
  {
   "cell_type": "code",
   "execution_count": 185,
   "id": "4f5d023d-308c-4af4-ae08-aa1f1c9ef253",
   "metadata": {
    "tags": []
   },
   "outputs": [],
   "source": [
    "mse = mean_squared_error(y, y_pred)  #(mean squared error) (hata kareleri ortalaması)"
   ]
  },
  {
   "cell_type": "code",
   "execution_count": 186,
   "id": "8c66a1f1-d84e-4d7a-9400-ca223b13d3c6",
   "metadata": {
    "tags": []
   },
   "outputs": [
    {
     "data": {
      "text/plain": [
       "135802489.80531207"
      ]
     },
     "execution_count": 186,
     "metadata": {},
     "output_type": "execute_result"
    }
   ],
   "source": [
    "mse"
   ]
  },
  {
   "cell_type": "code",
   "execution_count": 187,
   "id": "c0483f39-7310-49aa-a520-03a972e69010",
   "metadata": {
    "tags": []
   },
   "outputs": [],
   "source": [
    "import numpy as np\n",
    "rmse = np.sqrt(mse) #hata kareleri ortalaması karekökü"
   ]
  },
  {
   "cell_type": "code",
   "execution_count": 188,
   "id": "941d8c7b-ba9b-4d74-878d-853408a5d9e5",
   "metadata": {
    "tags": []
   },
   "outputs": [
    {
     "data": {
      "text/plain": [
       "11653.43253317717"
      ]
     },
     "execution_count": 188,
     "metadata": {},
     "output_type": "execute_result"
    }
   ],
   "source": [
    "rmse"
   ]
  },
  {
   "cell_type": "code",
   "execution_count": 189,
   "id": "922c06fe-7b58-49b6-8b15-075d4e39e156",
   "metadata": {
    "tags": []
   },
   "outputs": [],
   "source": [
    "r2=r2_score(y, y_pred)"
   ]
  },
  {
   "cell_type": "code",
   "execution_count": 190,
   "id": "dc98e9ac-5437-4121-a570-a5ad84fc5c8e",
   "metadata": {
    "tags": []
   },
   "outputs": [
    {
     "data": {
      "text/plain": [
       "0.04023891299916915"
      ]
     },
     "execution_count": 190,
     "metadata": {},
     "output_type": "execute_result"
    }
   ],
   "source": [
    "r2"
   ]
  },
  {
   "cell_type": "markdown",
   "id": "88a8d31a-3ac3-4abd-b433-36ca3e4f3b3b",
   "metadata": {},
   "source": [
    "r2= Bağımsız değişkenin bağımlı değişkendeki değişkenliği açıklama başarısıdır. Yani elimizdeki BMİ değişkeni CHARGES değişkeninde yer alan değişkenliğin yaklaşık %40'ını açıklayabilmektedir."
   ]
  },
  {
   "cell_type": "code",
   "execution_count": 191,
   "id": "0dc2a016-75ef-4e9c-a76d-3ce8ffca30b8",
   "metadata": {
    "tags": []
   },
   "outputs": [],
   "source": [
    "Adj_r2 = 1 - ((1-r2) * (len(y)-1)/(len(y)-X.shape[1]-1))"
   ]
  },
  {
   "cell_type": "code",
   "execution_count": 192,
   "id": "3f3b4e5a-0cba-4a94-b2df-38caa6dbfd84",
   "metadata": {
    "tags": []
   },
   "outputs": [
    {
     "data": {
      "text/plain": [
       "0.03952052895201286"
      ]
     },
     "execution_count": 192,
     "metadata": {},
     "output_type": "execute_result"
    }
   ],
   "source": [
    "Adj_r2"
   ]
  },
  {
   "cell_type": "markdown",
   "id": "f40a2a4a-7e85-421b-9d09-c8f65d5f38fb",
   "metadata": {},
   "source": [
    "Düzeltilmiş r kare , r karenin her parametre eklenmesine karşı olan duyarlılığını düzenleyen, törpüleyen, duyarlılığı daha az olan bir metriktir. Dolayısıyla Adj. R-squared: (Düzeltilmiş R kare) değeri bizim için daha düzgün, önemli bir değer olacaktır."
   ]
  },
  {
   "cell_type": "code",
   "execution_count": 193,
   "id": "3574b133-751b-41ce-a444-aa0cdd8cfe47",
   "metadata": {
    "tags": []
   },
   "outputs": [
    {
     "data": {
      "text/plain": [
       "array([12229.42845258, 14525.9065803 , 14224.66498603, 10197.02574841,\n",
       "       12612.82684528, 11384.38709724, 14396.8030399 , 12166.83279663,\n",
       "       12984.48855249, 11423.50938221])"
      ]
     },
     "execution_count": 193,
     "metadata": {},
     "output_type": "execute_result"
    }
   ],
   "source": [
    "model.predict(X)[0:10] #model aracılığı ile tahmin edilen değerler.Üretilen bağımlı değişkenin tahmini değerlerinin ilk 10 gözlemini içerir."
   ]
  },
  {
   "cell_type": "code",
   "execution_count": 194,
   "id": "102f89df-eb34-4bb6-865c-c6f6637f975e",
   "metadata": {
    "tags": []
   },
   "outputs": [
    {
     "data": {
      "text/plain": [
       "0    16884.92400\n",
       "1    13313.37510\n",
       "2     4449.46200\n",
       "3    21984.47061\n",
       "4     3866.85520\n",
       "5     3756.62160\n",
       "6     8240.58960\n",
       "7     7281.50560\n",
       "8     6406.41070\n",
       "9    28923.13692\n",
       "Name: charges, dtype: float64"
      ]
     },
     "execution_count": 194,
     "metadata": {},
     "output_type": "execute_result"
    }
   ],
   "source": [
    "y[0:10]"
   ]
  },
  {
   "cell_type": "code",
   "execution_count": 195,
   "id": "24fc5a79-faaf-4e30-8060-15cdf0ed331a",
   "metadata": {
    "tags": []
   },
   "outputs": [],
   "source": [
    "k_t = pd.DataFrame({\"gercek_y\": y[0:10],\n",
    "                   \"tahmin_y\": model.predict(X)[0:10]}) "
   ]
  },
  {
   "cell_type": "code",
   "execution_count": 196,
   "id": "93454f0a-d529-4e4a-969a-92441770618a",
   "metadata": {
    "tags": []
   },
   "outputs": [
    {
     "data": {
      "text/html": [
       "<div>\n",
       "<style scoped>\n",
       "    .dataframe tbody tr th:only-of-type {\n",
       "        vertical-align: middle;\n",
       "    }\n",
       "\n",
       "    .dataframe tbody tr th {\n",
       "        vertical-align: top;\n",
       "    }\n",
       "\n",
       "    .dataframe thead th {\n",
       "        text-align: right;\n",
       "    }\n",
       "</style>\n",
       "<table border=\"1\" class=\"dataframe\">\n",
       "  <thead>\n",
       "    <tr style=\"text-align: right;\">\n",
       "      <th></th>\n",
       "      <th>gercek_y</th>\n",
       "      <th>tahmin_y</th>\n",
       "    </tr>\n",
       "  </thead>\n",
       "  <tbody>\n",
       "    <tr>\n",
       "      <th>0</th>\n",
       "      <td>16884.92400</td>\n",
       "      <td>12229.428453</td>\n",
       "    </tr>\n",
       "    <tr>\n",
       "      <th>1</th>\n",
       "      <td>13313.37510</td>\n",
       "      <td>14525.906580</td>\n",
       "    </tr>\n",
       "    <tr>\n",
       "      <th>2</th>\n",
       "      <td>4449.46200</td>\n",
       "      <td>14224.664986</td>\n",
       "    </tr>\n",
       "    <tr>\n",
       "      <th>3</th>\n",
       "      <td>21984.47061</td>\n",
       "      <td>10197.025748</td>\n",
       "    </tr>\n",
       "    <tr>\n",
       "      <th>4</th>\n",
       "      <td>3866.85520</td>\n",
       "      <td>12612.826845</td>\n",
       "    </tr>\n",
       "    <tr>\n",
       "      <th>5</th>\n",
       "      <td>3756.62160</td>\n",
       "      <td>11384.387097</td>\n",
       "    </tr>\n",
       "    <tr>\n",
       "      <th>6</th>\n",
       "      <td>8240.58960</td>\n",
       "      <td>14396.803040</td>\n",
       "    </tr>\n",
       "    <tr>\n",
       "      <th>7</th>\n",
       "      <td>7281.50560</td>\n",
       "      <td>12166.832797</td>\n",
       "    </tr>\n",
       "    <tr>\n",
       "      <th>8</th>\n",
       "      <td>6406.41070</td>\n",
       "      <td>12984.488552</td>\n",
       "    </tr>\n",
       "    <tr>\n",
       "      <th>9</th>\n",
       "      <td>28923.13692</td>\n",
       "      <td>11423.509382</td>\n",
       "    </tr>\n",
       "  </tbody>\n",
       "</table>\n",
       "</div>"
      ],
      "text/plain": [
       "      gercek_y      tahmin_y\n",
       "0  16884.92400  12229.428453\n",
       "1  13313.37510  14525.906580\n",
       "2   4449.46200  14224.664986\n",
       "3  21984.47061  10197.025748\n",
       "4   3866.85520  12612.826845\n",
       "5   3756.62160  11384.387097\n",
       "6   8240.58960  14396.803040\n",
       "7   7281.50560  12166.832797\n",
       "8   6406.41070  12984.488552\n",
       "9  28923.13692  11423.509382"
      ]
     },
     "execution_count": 196,
     "metadata": {},
     "output_type": "execute_result"
    }
   ],
   "source": [
    "k_t"
   ]
  },
  {
   "cell_type": "markdown",
   "id": "a43e61a7-23d3-46e4-9b61-706bc58dc91d",
   "metadata": {},
   "source": [
    "Karşılaştırma amacıyla gerçek ve tahmin edilen 10 charges değerini dataframe'e aktarıyoruz."
   ]
  },
  {
   "cell_type": "code",
   "execution_count": 197,
   "id": "43f0019c-80b1-42d1-bb8e-b268e882cc53",
   "metadata": {
    "tags": []
   },
   "outputs": [],
   "source": [
    "residuals = y-y_pred\n",
    "resid=residuals[0:10]"
   ]
  },
  {
   "cell_type": "code",
   "execution_count": 198,
   "id": "da90a044-3cd6-4a4c-937c-edb27391154d",
   "metadata": {
    "tags": []
   },
   "outputs": [],
   "source": [
    "import matplotlib.pyplot as plt"
   ]
  },
  {
   "cell_type": "markdown",
   "id": "d85f0919-98cf-4e8b-abc2-4700be778657",
   "metadata": {},
   "source": [
    " Bu satırlarda, gerçek bağımlı değişken değerleri (y) ile modelin yaptığı tahminlerin (y_pred) farkını alarak geriye kalan (hata) değerleri elde ediyoruz. Ve bu hata değerlerini görselleştiriyoruz."
   ]
  },
  {
   "cell_type": "code",
   "execution_count": 199,
   "id": "514f805e-4c04-4798-a3f5-d2506ab144de",
   "metadata": {
    "tags": []
   },
   "outputs": [
    {
     "data": {
      "text/plain": [
       "[<matplotlib.lines.Line2D at 0x221a666bb10>]"
      ]
     },
     "execution_count": 199,
     "metadata": {},
     "output_type": "execute_result"
    },
    {
     "data": {
      "image/png": "[encoded data removed]",
      "text/plain": [
       "<Figure size 640x480 with 1 Axes>"
      ]
     },
     "metadata": {},
     "output_type": "display_data"
    }
   ],
   "source": [
    "plt.plot(residuals)"
   ]
  },
  {
   "cell_type": "markdown",
   "id": "16c51654-4227-48aa-9112-96ba12860f22",
   "metadata": {},
   "source": [
    "**Doğrusal Olmayan Regreson Modelleri** "
   ]
  },
  {
   "cell_type": "markdown",
   "id": "7824f175-eede-497d-99d5-598895b0e2b2",
   "metadata": {
    "tags": []
   },
   "source": [
    "**SINIFLANDIRMA MODELLERİ**"
   ]
  },
  {
   "cell_type": "markdown",
   "id": "c735cdf7-e3ff-4e1a-919f-7d50dbeba6ce",
   "metadata": {},
   "source": [
    "**KNN (K- EN YAKIN KOMŞU MODELİ)**"
   ]
  },
  {
   "cell_type": "code",
   "execution_count": 200,
   "id": "bffdf23b-48c0-4abb-8322-938b45b6878d",
   "metadata": {
    "tags": []
   },
   "outputs": [],
   "source": [
    "import numpy as np\n",
    "import pandas as pd \n",
    "from sklearn.model_selection import train_test_split, GridSearchCV,cross_val_score\n",
    "from sklearn.metrics import mean_squared_error, r2_score\n",
    "import matplotlib.pyplot as plt\n",
    "from sklearn.preprocessing import scale \n",
    "from sklearn import model_selection\n",
    "from sklearn.tree import DecisionTreeRegressor, DecisionTreeClassifier\n",
    "from sklearn.neighbors import KNeighborsRegressor\n",
    "from sklearn.ensemble import BaggingRegressor\n",
    "\n",
    "from warnings import filterwarnings\n",
    "filterwarnings('ignore')"
   ]
  },
  {
   "cell_type": "code",
   "execution_count": 201,
   "id": "61db2af2-2776-4457-ab78-4c831ee03020",
   "metadata": {
    "tags": []
   },
   "outputs": [
    {
     "data": {
      "text/html": [
       "<div>\n",
       "<style scoped>\n",
       "    .dataframe tbody tr th:only-of-type {\n",
       "        vertical-align: middle;\n",
       "    }\n",
       "\n",
       "    .dataframe tbody tr th {\n",
       "        vertical-align: top;\n",
       "    }\n",
       "\n",
       "    .dataframe thead th {\n",
       "        text-align: right;\n",
       "    }\n",
       "</style>\n",
       "<table border=\"1\" class=\"dataframe\">\n",
       "  <thead>\n",
       "    <tr style=\"text-align: right;\">\n",
       "      <th></th>\n",
       "      <th>age</th>\n",
       "      <th>sex</th>\n",
       "      <th>bmi</th>\n",
       "      <th>children</th>\n",
       "      <th>smoker</th>\n",
       "      <th>region</th>\n",
       "      <th>charges</th>\n",
       "    </tr>\n",
       "  </thead>\n",
       "  <tbody>\n",
       "    <tr>\n",
       "      <th>0</th>\n",
       "      <td>19.000000</td>\n",
       "      <td>female</td>\n",
       "      <td>27.900</td>\n",
       "      <td>0</td>\n",
       "      <td>yes</td>\n",
       "      <td>southwest</td>\n",
       "      <td>16884.92400</td>\n",
       "    </tr>\n",
       "    <tr>\n",
       "      <th>1</th>\n",
       "      <td>18.000000</td>\n",
       "      <td>male</td>\n",
       "      <td>33.770</td>\n",
       "      <td>1</td>\n",
       "      <td>no</td>\n",
       "      <td>southeast</td>\n",
       "      <td>13313.37510</td>\n",
       "    </tr>\n",
       "    <tr>\n",
       "      <th>2</th>\n",
       "      <td>28.000000</td>\n",
       "      <td>male</td>\n",
       "      <td>33.000</td>\n",
       "      <td>3</td>\n",
       "      <td>no</td>\n",
       "      <td>southeast</td>\n",
       "      <td>4449.46200</td>\n",
       "    </tr>\n",
       "    <tr>\n",
       "      <th>3</th>\n",
       "      <td>33.000000</td>\n",
       "      <td>male</td>\n",
       "      <td>22.705</td>\n",
       "      <td>0</td>\n",
       "      <td>no</td>\n",
       "      <td>northwest</td>\n",
       "      <td>21984.47061</td>\n",
       "    </tr>\n",
       "    <tr>\n",
       "      <th>4</th>\n",
       "      <td>39.047471</td>\n",
       "      <td>male</td>\n",
       "      <td>28.880</td>\n",
       "      <td>0</td>\n",
       "      <td>no</td>\n",
       "      <td>northwest</td>\n",
       "      <td>3866.85520</td>\n",
       "    </tr>\n",
       "  </tbody>\n",
       "</table>\n",
       "</div>"
      ],
      "text/plain": [
       "         age     sex     bmi  children smoker     region      charges\n",
       "0  19.000000  female  27.900         0    yes  southwest  16884.92400\n",
       "1  18.000000    male  33.770         1     no  southeast  13313.37510\n",
       "2  28.000000    male  33.000         3     no  southeast   4449.46200\n",
       "3  33.000000    male  22.705         0     no  northwest  21984.47061\n",
       "4  39.047471    male  28.880         0     no  northwest   3866.85520"
      ]
     },
     "execution_count": 201,
     "metadata": {},
     "output_type": "execute_result"
    }
   ],
   "source": [
    "hit = pd.read_excel(\"güncellenmiş_veriSeti.xlsx\")\n",
    "df = hit.copy()\n",
    "df.head()"
   ]
  },
  {
   "cell_type": "markdown",
   "id": "b32095ca-f9a8-497e-b589-880af7b102b3",
   "metadata": {},
   "source": [
    "Değişkenlerin değerlerin sayısını ve kaç kez tekrarlandıklarını yazıyoruz."
   ]
  },
  {
   "cell_type": "code",
   "execution_count": 202,
   "id": "86cef022-8d45-41cc-a411-d5b7ffd077c2",
   "metadata": {
    "tags": []
   },
   "outputs": [
    {
     "data": {
      "text/plain": [
       "sex\n",
       "male      677\n",
       "female    661\n",
       "Name: count, dtype: int64"
      ]
     },
     "execution_count": 202,
     "metadata": {},
     "output_type": "execute_result"
    }
   ],
   "source": [
    "df[\"sex\"].value_counts()"
   ]
  },
  {
   "cell_type": "code",
   "execution_count": 203,
   "id": "a4398e65-b3ef-436e-a339-8d2ad6844c4a",
   "metadata": {
    "tags": []
   },
   "outputs": [
    {
     "data": {
      "text/plain": [
       "smoker\n",
       "no     1064\n",
       "yes     274\n",
       "Name: count, dtype: int64"
      ]
     },
     "execution_count": 203,
     "metadata": {},
     "output_type": "execute_result"
    }
   ],
   "source": [
    "df[\"smoker\"].value_counts()"
   ]
  },
  {
   "cell_type": "code",
   "execution_count": 204,
   "id": "66512e57-2607-44ba-af3e-68dd74a05ab3",
   "metadata": {
    "tags": []
   },
   "outputs": [
    {
     "data": {
      "text/plain": [
       "region\n",
       "southeast    365\n",
       "southwest    325\n",
       "northwest    325\n",
       "northeast    323\n",
       "Name: count, dtype: int64"
      ]
     },
     "execution_count": 204,
     "metadata": {},
     "output_type": "execute_result"
    }
   ],
   "source": [
    "df[\"region\"].value_counts()"
   ]
  },
  {
   "cell_type": "code",
   "execution_count": 205,
   "id": "a2bd804e-cdb5-48c8-905a-a1787253e2a8",
   "metadata": {
    "tags": []
   },
   "outputs": [
    {
     "data": {
      "text/html": [
       "<div>\n",
       "<style scoped>\n",
       "    .dataframe tbody tr th:only-of-type {\n",
       "        vertical-align: middle;\n",
       "    }\n",
       "\n",
       "    .dataframe tbody tr th {\n",
       "        vertical-align: top;\n",
       "    }\n",
       "\n",
       "    .dataframe thead th {\n",
       "        text-align: right;\n",
       "    }\n",
       "</style>\n",
       "<table border=\"1\" class=\"dataframe\">\n",
       "  <thead>\n",
       "    <tr style=\"text-align: right;\">\n",
       "      <th></th>\n",
       "      <th>sex_female</th>\n",
       "      <th>sex_male</th>\n",
       "      <th>smoker_no</th>\n",
       "      <th>smoker_yes</th>\n",
       "      <th>region_northeast</th>\n",
       "      <th>region_northwest</th>\n",
       "      <th>region_southeast</th>\n",
       "      <th>region_southwest</th>\n",
       "    </tr>\n",
       "  </thead>\n",
       "  <tbody>\n",
       "    <tr>\n",
       "      <th>0</th>\n",
       "      <td>1</td>\n",
       "      <td>0</td>\n",
       "      <td>0</td>\n",
       "      <td>1</td>\n",
       "      <td>0</td>\n",
       "      <td>0</td>\n",
       "      <td>0</td>\n",
       "      <td>1</td>\n",
       "    </tr>\n",
       "    <tr>\n",
       "      <th>1</th>\n",
       "      <td>0</td>\n",
       "      <td>1</td>\n",
       "      <td>1</td>\n",
       "      <td>0</td>\n",
       "      <td>0</td>\n",
       "      <td>0</td>\n",
       "      <td>1</td>\n",
       "      <td>0</td>\n",
       "    </tr>\n",
       "    <tr>\n",
       "      <th>2</th>\n",
       "      <td>0</td>\n",
       "      <td>1</td>\n",
       "      <td>1</td>\n",
       "      <td>0</td>\n",
       "      <td>0</td>\n",
       "      <td>0</td>\n",
       "      <td>1</td>\n",
       "      <td>0</td>\n",
       "    </tr>\n",
       "    <tr>\n",
       "      <th>3</th>\n",
       "      <td>0</td>\n",
       "      <td>1</td>\n",
       "      <td>1</td>\n",
       "      <td>0</td>\n",
       "      <td>0</td>\n",
       "      <td>1</td>\n",
       "      <td>0</td>\n",
       "      <td>0</td>\n",
       "    </tr>\n",
       "    <tr>\n",
       "      <th>4</th>\n",
       "      <td>0</td>\n",
       "      <td>1</td>\n",
       "      <td>1</td>\n",
       "      <td>0</td>\n",
       "      <td>0</td>\n",
       "      <td>1</td>\n",
       "      <td>0</td>\n",
       "      <td>0</td>\n",
       "    </tr>\n",
       "  </tbody>\n",
       "</table>\n",
       "</div>"
      ],
      "text/plain": [
       "   sex_female  sex_male  smoker_no  smoker_yes  region_northeast  \\\n",
       "0           1         0          0           1                 0   \n",
       "1           0         1          1           0                 0   \n",
       "2           0         1          1           0                 0   \n",
       "3           0         1          1           0                 0   \n",
       "4           0         1          1           0                 0   \n",
       "\n",
       "   region_northwest  region_southeast  region_southwest  \n",
       "0                 0                 0                 1  \n",
       "1                 0                 1                 0  \n",
       "2                 0                 1                 0  \n",
       "3                 1                 0                 0  \n",
       "4                 1                 0                 0  "
      ]
     },
     "execution_count": 205,
     "metadata": {},
     "output_type": "execute_result"
    }
   ],
   "source": [
    "#Kategorik değişkenler için one hot dönüşümü gerçekleştirdik  #true değerleri 1 false değerleri 0 yazdırıyoruz.\n",
    "dms = pd.get_dummies(df[['sex', 'smoker', 'region']])\n",
    "dms = dms.astype(int)\n",
    "dms.head()\n"
   ]
  },
  {
   "cell_type": "code",
   "execution_count": 206,
   "id": "ba384e40-0cec-45dd-91a8-99b2210871b7",
   "metadata": {
    "tags": []
   },
   "outputs": [
    {
     "data": {
      "text/html": [
       "<div>\n",
       "<style scoped>\n",
       "    .dataframe tbody tr th:only-of-type {\n",
       "        vertical-align: middle;\n",
       "    }\n",
       "\n",
       "    .dataframe tbody tr th {\n",
       "        vertical-align: top;\n",
       "    }\n",
       "\n",
       "    .dataframe thead th {\n",
       "        text-align: right;\n",
       "    }\n",
       "</style>\n",
       "<table border=\"1\" class=\"dataframe\">\n",
       "  <thead>\n",
       "    <tr style=\"text-align: right;\">\n",
       "      <th></th>\n",
       "      <th>sex_male</th>\n",
       "      <th>smoker_yes</th>\n",
       "      <th>region_northwest</th>\n",
       "      <th>region_southeast</th>\n",
       "      <th>region_southwest</th>\n",
       "    </tr>\n",
       "  </thead>\n",
       "  <tbody>\n",
       "    <tr>\n",
       "      <th>0</th>\n",
       "      <td>0</td>\n",
       "      <td>1</td>\n",
       "      <td>0</td>\n",
       "      <td>0</td>\n",
       "      <td>1</td>\n",
       "    </tr>\n",
       "    <tr>\n",
       "      <th>1</th>\n",
       "      <td>1</td>\n",
       "      <td>0</td>\n",
       "      <td>0</td>\n",
       "      <td>1</td>\n",
       "      <td>0</td>\n",
       "    </tr>\n",
       "    <tr>\n",
       "      <th>2</th>\n",
       "      <td>1</td>\n",
       "      <td>0</td>\n",
       "      <td>0</td>\n",
       "      <td>1</td>\n",
       "      <td>0</td>\n",
       "    </tr>\n",
       "    <tr>\n",
       "      <th>3</th>\n",
       "      <td>1</td>\n",
       "      <td>0</td>\n",
       "      <td>1</td>\n",
       "      <td>0</td>\n",
       "      <td>0</td>\n",
       "    </tr>\n",
       "    <tr>\n",
       "      <th>4</th>\n",
       "      <td>1</td>\n",
       "      <td>0</td>\n",
       "      <td>1</td>\n",
       "      <td>0</td>\n",
       "      <td>0</td>\n",
       "    </tr>\n",
       "  </tbody>\n",
       "</table>\n",
       "</div>"
      ],
      "text/plain": [
       "   sex_male  smoker_yes  region_northwest  region_southeast  region_southwest\n",
       "0         0           1                 0                 0                 1\n",
       "1         1           0                 0                 1                 0\n",
       "2         1           0                 0                 1                 0\n",
       "3         1           0                 1                 0                 0\n",
       "4         1           0                 1                 0                 0"
      ]
     },
     "execution_count": 206,
     "metadata": {},
     "output_type": "execute_result"
    }
   ],
   "source": [
    " #dummy tuzağına yakalandığımız için bu durumu ortadan bu şekilde kaldırmamız gerekiyor\n",
    "dms = pd.get_dummies(df[['sex', 'smoker', 'region']], drop_first=True)\n",
    "dms = dms.astype(int)\n",
    "dms.head()"
   ]
  },
  {
   "cell_type": "code",
   "execution_count": 207,
   "id": "d6fe913c-f027-4a5c-a963-5308b559563e",
   "metadata": {
    "tags": []
   },
   "outputs": [],
   "source": [
    "y = df[\"charges\"] # bağımlı değişkeni y'ye atadık"
   ]
  },
  {
   "cell_type": "code",
   "execution_count": 208,
   "id": "d1501a88-6f52-4ffd-b472-01b54e7cea98",
   "metadata": {
    "tags": []
   },
   "outputs": [],
   "source": [
    "X_ = df.drop([\"charges\",\"sex\",\"smoker\",\"region\"], axis = 1).astype(\"float64\") #kategorik değişkenleri yazdırdık"
   ]
  },
  {
   "cell_type": "code",
   "execution_count": 209,
   "id": "16988686-c3a4-4826-886c-144dd7ab0ed2",
   "metadata": {
    "tags": []
   },
   "outputs": [
    {
     "data": {
      "text/html": [
       "<div>\n",
       "<style scoped>\n",
       "    .dataframe tbody tr th:only-of-type {\n",
       "        vertical-align: middle;\n",
       "    }\n",
       "\n",
       "    .dataframe tbody tr th {\n",
       "        vertical-align: top;\n",
       "    }\n",
       "\n",
       "    .dataframe thead th {\n",
       "        text-align: right;\n",
       "    }\n",
       "</style>\n",
       "<table border=\"1\" class=\"dataframe\">\n",
       "  <thead>\n",
       "    <tr style=\"text-align: right;\">\n",
       "      <th></th>\n",
       "      <th>age</th>\n",
       "      <th>bmi</th>\n",
       "      <th>children</th>\n",
       "    </tr>\n",
       "  </thead>\n",
       "  <tbody>\n",
       "    <tr>\n",
       "      <th>0</th>\n",
       "      <td>19.000000</td>\n",
       "      <td>27.900</td>\n",
       "      <td>0.0</td>\n",
       "    </tr>\n",
       "    <tr>\n",
       "      <th>1</th>\n",
       "      <td>18.000000</td>\n",
       "      <td>33.770</td>\n",
       "      <td>1.0</td>\n",
       "    </tr>\n",
       "    <tr>\n",
       "      <th>2</th>\n",
       "      <td>28.000000</td>\n",
       "      <td>33.000</td>\n",
       "      <td>3.0</td>\n",
       "    </tr>\n",
       "    <tr>\n",
       "      <th>3</th>\n",
       "      <td>33.000000</td>\n",
       "      <td>22.705</td>\n",
       "      <td>0.0</td>\n",
       "    </tr>\n",
       "    <tr>\n",
       "      <th>4</th>\n",
       "      <td>39.047471</td>\n",
       "      <td>28.880</td>\n",
       "      <td>0.0</td>\n",
       "    </tr>\n",
       "    <tr>\n",
       "      <th>...</th>\n",
       "      <td>...</td>\n",
       "      <td>...</td>\n",
       "      <td>...</td>\n",
       "    </tr>\n",
       "    <tr>\n",
       "      <th>1333</th>\n",
       "      <td>50.000000</td>\n",
       "      <td>30.970</td>\n",
       "      <td>3.0</td>\n",
       "    </tr>\n",
       "    <tr>\n",
       "      <th>1334</th>\n",
       "      <td>18.000000</td>\n",
       "      <td>31.920</td>\n",
       "      <td>0.0</td>\n",
       "    </tr>\n",
       "    <tr>\n",
       "      <th>1335</th>\n",
       "      <td>18.000000</td>\n",
       "      <td>36.850</td>\n",
       "      <td>0.0</td>\n",
       "    </tr>\n",
       "    <tr>\n",
       "      <th>1336</th>\n",
       "      <td>21.000000</td>\n",
       "      <td>25.800</td>\n",
       "      <td>0.0</td>\n",
       "    </tr>\n",
       "    <tr>\n",
       "      <th>1337</th>\n",
       "      <td>61.000000</td>\n",
       "      <td>29.070</td>\n",
       "      <td>0.0</td>\n",
       "    </tr>\n",
       "  </tbody>\n",
       "</table>\n",
       "<p>1338 rows × 3 columns</p>\n",
       "</div>"
      ],
      "text/plain": [
       "            age     bmi  children\n",
       "0     19.000000  27.900       0.0\n",
       "1     18.000000  33.770       1.0\n",
       "2     28.000000  33.000       3.0\n",
       "3     33.000000  22.705       0.0\n",
       "4     39.047471  28.880       0.0\n",
       "...         ...     ...       ...\n",
       "1333  50.000000  30.970       3.0\n",
       "1334  18.000000  31.920       0.0\n",
       "1335  18.000000  36.850       0.0\n",
       "1336  21.000000  25.800       0.0\n",
       "1337  61.000000  29.070       0.0\n",
       "\n",
       "[1338 rows x 3 columns]"
      ]
     },
     "execution_count": 209,
     "metadata": {},
     "output_type": "execute_result"
    }
   ],
   "source": [
    "X_"
   ]
  },
  {
   "cell_type": "code",
   "execution_count": 211,
   "id": "810fac2c-f097-4098-9165-f7794150145a",
   "metadata": {
    "tags": []
   },
   "outputs": [
    {
     "data": {
      "text/html": [
       "<div>\n",
       "<style scoped>\n",
       "    .dataframe tbody tr th:only-of-type {\n",
       "        vertical-align: middle;\n",
       "    }\n",
       "\n",
       "    .dataframe tbody tr th {\n",
       "        vertical-align: top;\n",
       "    }\n",
       "\n",
       "    .dataframe thead th {\n",
       "        text-align: right;\n",
       "    }\n",
       "</style>\n",
       "<table border=\"1\" class=\"dataframe\">\n",
       "  <thead>\n",
       "    <tr style=\"text-align: right;\">\n",
       "      <th></th>\n",
       "      <th>age</th>\n",
       "      <th>bmi</th>\n",
       "      <th>children</th>\n",
       "      <th>sex_male</th>\n",
       "      <th>smoker_yes</th>\n",
       "      <th>region_northwest</th>\n",
       "      <th>region_southeast</th>\n",
       "      <th>region_southwest</th>\n",
       "    </tr>\n",
       "  </thead>\n",
       "  <tbody>\n",
       "    <tr>\n",
       "      <th>0</th>\n",
       "      <td>19.000000</td>\n",
       "      <td>27.900</td>\n",
       "      <td>0.0</td>\n",
       "      <td>0</td>\n",
       "      <td>1</td>\n",
       "      <td>0</td>\n",
       "      <td>0</td>\n",
       "      <td>1</td>\n",
       "    </tr>\n",
       "    <tr>\n",
       "      <th>1</th>\n",
       "      <td>18.000000</td>\n",
       "      <td>33.770</td>\n",
       "      <td>1.0</td>\n",
       "      <td>1</td>\n",
       "      <td>0</td>\n",
       "      <td>0</td>\n",
       "      <td>1</td>\n",
       "      <td>0</td>\n",
       "    </tr>\n",
       "    <tr>\n",
       "      <th>2</th>\n",
       "      <td>28.000000</td>\n",
       "      <td>33.000</td>\n",
       "      <td>3.0</td>\n",
       "      <td>1</td>\n",
       "      <td>0</td>\n",
       "      <td>0</td>\n",
       "      <td>1</td>\n",
       "      <td>0</td>\n",
       "    </tr>\n",
       "    <tr>\n",
       "      <th>3</th>\n",
       "      <td>33.000000</td>\n",
       "      <td>22.705</td>\n",
       "      <td>0.0</td>\n",
       "      <td>1</td>\n",
       "      <td>0</td>\n",
       "      <td>1</td>\n",
       "      <td>0</td>\n",
       "      <td>0</td>\n",
       "    </tr>\n",
       "    <tr>\n",
       "      <th>4</th>\n",
       "      <td>39.047471</td>\n",
       "      <td>28.880</td>\n",
       "      <td>0.0</td>\n",
       "      <td>1</td>\n",
       "      <td>0</td>\n",
       "      <td>1</td>\n",
       "      <td>0</td>\n",
       "      <td>0</td>\n",
       "    </tr>\n",
       "  </tbody>\n",
       "</table>\n",
       "</div>"
      ],
      "text/plain": [
       "         age     bmi  children  sex_male  smoker_yes  region_northwest  \\\n",
       "0  19.000000  27.900       0.0         0           1                 0   \n",
       "1  18.000000  33.770       1.0         1           0                 0   \n",
       "2  28.000000  33.000       3.0         1           0                 0   \n",
       "3  33.000000  22.705       0.0         1           0                 1   \n",
       "4  39.047471  28.880       0.0         1           0                 1   \n",
       "\n",
       "   region_southeast  region_southwest  \n",
       "0                 0                 1  \n",
       "1                 1                 0  \n",
       "2                 1                 0  \n",
       "3                 0                 0  \n",
       "4                 0                 0  "
      ]
     },
     "execution_count": 211,
     "metadata": {},
     "output_type": "execute_result"
    }
   ],
   "source": [
    "X = pd.concat([X_, dms], axis = 1)#sayısal bağımlı değişken ile düzenlediğimiz kategorik değişkenleri birleştirip X'e tüm bağımsız değişkenleri atmış oluyoruz\n",
    "dms = dms.astype(int)\n",
    "X = X.fillna(0)\n",
    "X.head()"
   ]
  },
  {
   "cell_type": "markdown",
   "id": "d999e528-d69d-4944-92f0-b455413282c1",
   "metadata": {},
   "source": [
    "**TAHMİN**"
   ]
  },
  {
   "cell_type": "code",
   "execution_count": 217,
   "id": "1176407a-0ff0-43a3-9fbd-7494a138efa4",
   "metadata": {
    "tags": []
   },
   "outputs": [],
   "source": [
    "y_pred = knn_model.predict(X_test)"
   ]
  },
  {
   "cell_type": "code",
   "execution_count": 218,
   "id": "3dacaa60-42a3-43f5-966d-25f8631b27af",
   "metadata": {
    "tags": []
   },
   "outputs": [],
   "source": [
    "rmse=np.sqrt(mean_squared_error(y_test, y_pred)) #Gerçek y_test değerleri ile modelin tahmin ettiği y_pred değerleri arasındaki ortalama karesel hatayı hesaplar."
   ]
  },
  {
   "cell_type": "code",
   "execution_count": 219,
   "id": "6b60906d-dd78-4ebf-848b-63e922d771ec",
   "metadata": {
    "tags": []
   },
   "outputs": [
    {
     "data": {
      "text/plain": [
       "11767.326026355116"
      ]
     },
     "execution_count": 219,
     "metadata": {},
     "output_type": "execute_result"
    }
   ],
   "source": [
    "rmse"
   ]
  },
  {
   "cell_type": "markdown",
   "id": "8e17414e-66b2-47f7-a62a-cc50ae468a70",
   "metadata": {},
   "source": [
    "#farklı k değerlerine karşılık eğitim rmse hatası nasıl değişiyor kontrol edelim"
   ]
  },
  {
   "cell_type": "code",
   "execution_count": 220,
   "id": "add20ae9-b2b1-4049-be67-2aea835e4bc9",
   "metadata": {
    "tags": []
   },
   "outputs": [
    {
     "name": "stdout",
     "output_type": "stream",
     "text": [
      "k = 1 için RMSE değeri:  740.0483068588311\n",
      "k = 2 için RMSE değeri:  6586.743550726094\n",
      "k = 3 için RMSE değeri:  7937.096233321588\n",
      "k = 4 için RMSE değeri:  8852.887807380208\n",
      "k = 5 için RMSE değeri:  9218.738741646679\n",
      "k = 6 için RMSE değeri:  9622.151395598066\n",
      "k = 7 için RMSE değeri:  9749.495285584351\n",
      "k = 8 için RMSE değeri:  9916.079750959272\n",
      "k = 9 için RMSE değeri:  10058.914025664913\n",
      "k = 10 için RMSE değeri:  10135.822742223361\n"
     ]
    }
   ],
   "source": [
    "RMSE = [] \n",
    "\n",
    "for k in range(10):\n",
    "    k = k+1\n",
    "    knn_model = KNeighborsRegressor(n_neighbors = k).fit(X_train, y_train)\n",
    "    y_pred = knn_model.predict(X_train) \n",
    "    rmse = np.sqrt(mean_squared_error(y_train,y_pred)) \n",
    "    RMSE.append(rmse) \n",
    "    print(\"k =\" , k , \"için RMSE değeri: \", rmse)"
   ]
  },
  {
   "cell_type": "markdown",
   "id": "d40b0616-31b0-4350-b9dd-69d1e28da4ce",
   "metadata": {},
   "source": [
    "**MODEL TUNİNG**"
   ]
  },
  {
   "cell_type": "code",
   "execution_count": 221,
   "id": "4c0527ad-eb85-4222-a220-f6d8c160f081",
   "metadata": {
    "tags": []
   },
   "outputs": [],
   "source": [
    "from sklearn.model_selection import GridSearchCV"
   ]
  },
  {
   "cell_type": "code",
   "execution_count": 222,
   "id": "0d1f114d-655e-413b-9d86-33fbc5d9938b",
   "metadata": {
    "tags": []
   },
   "outputs": [],
   "source": [
    "knn_params = {'n_neighbors': np.arange(1,20,1)} # bir sözlük yapısı oluşturuyoruz\n",
    "#metodun aldığı parametresi ne ise o şekilde bir isimlendirme yapmak gerekiyor. KNeighborsRegressor, n_neighbors isminde ir paramtre alıyordu.\n",
    "#1'den 20 ye kadar k (komşu) değerleri ürettik"
   ]
  },
  {
   "cell_type": "code",
   "execution_count": 223,
   "id": "e853e5a6-269d-49c9-8204-725c06464b8a",
   "metadata": {
    "tags": []
   },
   "outputs": [],
   "source": [
    "knn = KNeighborsRegressor()"
   ]
  },
  {
   "cell_type": "code",
   "execution_count": 224,
   "id": "7de28f4d-3ce1-419a-8124-d398475d596f",
   "metadata": {
    "tags": []
   },
   "outputs": [],
   "source": [
    "knn_cv_model = GridSearchCV(knn, knn_params, cv = 7).fit(X_train, y_train)\n",
    "#knn_cv_model nesnesi tanımladık"
   ]
  },
  {
   "cell_type": "code",
   "execution_count": 225,
   "id": "f6dc4f6c-1037-49fb-b3c7-605bf5c4ac41",
   "metadata": {
    "tags": []
   },
   "outputs": [
    {
     "data": {
      "text/plain": [
       "19"
      ]
     },
     "execution_count": 225,
     "metadata": {},
     "output_type": "execute_result"
    }
   ],
   "source": [
    "knn_cv_model.best_params_[\"n_neighbors\"] # bulunan en uygun parametre değerini verir\n",
    "#best_params fonksiyonu \"mean_validation_score\" değerine göre bir sıralama yapıyor. "
   ]
  },
  {
   "cell_type": "code",
   "execution_count": 226,
   "id": "66da051c-edbc-4bcb-b76e-844cce6c238e",
   "metadata": {
    "tags": []
   },
   "outputs": [],
   "source": [
    "knn_tuned = KNeighborsRegressor(n_neighbors = knn_cv_model.best_params_[\"n_neighbors\"])#tune edilmiş knn modelini kuralım\n",
    "#tune edilmiş modelin nesnesini oluşturduk"
   ]
  },
  {
   "cell_type": "code",
   "execution_count": 227,
   "id": "b4af0cff-9eb9-4947-95bd-822d5b81770e",
   "metadata": {
    "tags": []
   },
   "outputs": [
    {
     "data": {
      "text/html": [
       "<style>#sk-container-id-6 {color: black;}#sk-container-id-6 pre{padding: 0;}#sk-container-id-6 div.sk-toggleable {background-color: white;}#sk-container-id-6 label.sk-toggleable__label {cursor: pointer;display: block;width: 100%;margin-bottom: 0;padding: 0.3em;box-sizing: border-box;text-align: center;}#sk-container-id-6 label.sk-toggleable__label-arrow:before {content: \"▸\";float: left;margin-right: 0.25em;color: #696969;}#sk-container-id-6 label.sk-toggleable__label-arrow:hover:before {color: black;}#sk-container-id-6 div.sk-estimator:hover label.sk-toggleable__label-arrow:before {color: black;}#sk-container-id-6 div.sk-toggleable__content {max-height: 0;max-width: 0;overflow: hidden;text-align: left;background-color: #f0f8ff;}#sk-container-id-6 div.sk-toggleable__content pre {margin: 0.2em;color: black;border-radius: 0.25em;background-color: #f0f8ff;}#sk-container-id-6 input.sk-toggleable__control:checked~div.sk-toggleable__content {max-height: 200px;max-width: 100%;overflow: auto;}#sk-container-id-6 input.sk-toggleable__control:checked~label.sk-toggleable__label-arrow:before {content: \"▾\";}#sk-container-id-6 div.sk-estimator input.sk-toggleable__control:checked~label.sk-toggleable__label {background-color: #d4ebff;}#sk-container-id-6 div.sk-label input.sk-toggleable__control:checked~label.sk-toggleable__label {background-color: #d4ebff;}#sk-container-id-6 input.sk-hidden--visually {border: 0;clip: rect(1px 1px 1px 1px);clip: rect(1px, 1px, 1px, 1px);height: 1px;margin: -1px;overflow: hidden;padding: 0;position: absolute;width: 1px;}#sk-container-id-6 div.sk-estimator {font-family: monospace;background-color: #f0f8ff;border: 1px dotted black;border-radius: 0.25em;box-sizing: border-box;margin-bottom: 0.5em;}#sk-container-id-6 div.sk-estimator:hover {background-color: #d4ebff;}#sk-container-id-6 div.sk-parallel-item::after {content: \"\";width: 100%;border-bottom: 1px solid gray;flex-grow: 1;}#sk-container-id-6 div.sk-label:hover label.sk-toggleable__label {background-color: #d4ebff;}#sk-container-id-6 div.sk-serial::before {content: \"\";position: absolute;border-left: 1px solid gray;box-sizing: border-box;top: 0;bottom: 0;left: 50%;z-index: 0;}#sk-container-id-6 div.sk-serial {display: flex;flex-direction: column;align-items: center;background-color: white;padding-right: 0.2em;padding-left: 0.2em;position: relative;}#sk-container-id-6 div.sk-item {position: relative;z-index: 1;}#sk-container-id-6 div.sk-parallel {display: flex;align-items: stretch;justify-content: center;background-color: white;position: relative;}#sk-container-id-6 div.sk-item::before, #sk-container-id-6 div.sk-parallel-item::before {content: \"\";position: absolute;border-left: 1px solid gray;box-sizing: border-box;top: 0;bottom: 0;left: 50%;z-index: -1;}#sk-container-id-6 div.sk-parallel-item {display: flex;flex-direction: column;z-index: 1;position: relative;background-color: white;}#sk-container-id-6 div.sk-parallel-item:first-child::after {align-self: flex-end;width: 50%;}#sk-container-id-6 div.sk-parallel-item:last-child::after {align-self: flex-start;width: 50%;}#sk-container-id-6 div.sk-parallel-item:only-child::after {width: 0;}#sk-container-id-6 div.sk-dashed-wrapped {border: 1px dashed gray;margin: 0 0.4em 0.5em 0.4em;box-sizing: border-box;padding-bottom: 0.4em;background-color: white;}#sk-container-id-6 div.sk-label label {font-family: monospace;font-weight: bold;display: inline-block;line-height: 1.2em;}#sk-container-id-6 div.sk-label-container {text-align: center;}#sk-container-id-6 div.sk-container {/* jupyter's `normalize.less` sets `[hidden] { display: none; }` but bootstrap.min.css set `[hidden] { display: none !important; }` so we also need the `!important` here to be able to override the default hidden behavior on the sphinx rendered scikit-learn.org. See: https://github.com/scikit-learn/scikit-learn/issues/21755 */display: inline-block !important;position: relative;}#sk-container-id-6 div.sk-text-repr-fallback {display: none;}</style><div id=\"sk-container-id-6\" class=\"sk-top-container\"><div class=\"sk-text-repr-fallback\"><pre>KNeighborsRegressor(n_neighbors=19)</pre><b>In a Jupyter environment, please rerun this cell to show the HTML representation or trust the notebook. <br />On GitHub, the HTML representation is unable to render, please try loading this page with nbviewer.org.</b></div><div class=\"sk-container\" hidden><div class=\"sk-item\"><div class=\"sk-estimator sk-toggleable\"><input class=\"sk-toggleable__control sk-hidden--visually\" id=\"sk-estimator-id-6\" type=\"checkbox\" checked><label for=\"sk-estimator-id-6\" class=\"sk-toggleable__label sk-toggleable__label-arrow\">KNeighborsRegressor</label><div class=\"sk-toggleable__content\"><pre>KNeighborsRegressor(n_neighbors=19)</pre></div></div></div></div></div>"
      ],
      "text/plain": [
       "KNeighborsRegressor(n_neighbors=19)"
      ]
     },
     "execution_count": 227,
     "metadata": {},
     "output_type": "execute_result"
    }
   ],
   "source": [
    "knn_tuned.fit(X_train, y_train) #knn_tuned nesnesini eğitim verileri üzerinde fit edelim"
   ]
  },
  {
   "cell_type": "code",
   "execution_count": 228,
   "id": "b8f8bcce-2b62-4fd0-bc40-d6ffde849898",
   "metadata": {
    "tags": []
   },
   "outputs": [
    {
     "data": {
      "text/plain": [
       "array([ 8966.52895787, 10367.88246576, 27295.47350684, 14159.86676366,\n",
       "        7019.24983632, 15556.000091  ,  9659.10554045, 15317.62119682,\n",
       "        8948.46338368, 15003.23857471, 12834.93625632, 18018.81886158,\n",
       "       12380.10223261, 10749.32706579, 13044.03241155, 14825.42687418,\n",
       "       16612.16013211,  9347.45566368, 15686.07307632, 15406.65601205,\n",
       "        6702.73565103, 19007.18260787, 11547.52363418, 12839.45823576,\n",
       "        8842.42355684, 14910.48668789, 12140.3339789 , 14431.75951576,\n",
       "        6675.61624997,  6619.73508155, 11313.70763684,  8317.47803158,\n",
       "       18970.75137363,  8167.64084158,  6949.38059579, 13838.78973942,\n",
       "       15316.34803787,  5357.4863405 , 17928.16213684, 26685.41047574,\n",
       "       14941.72051308, 11799.02130626, 26705.63413211, 16686.09199474,\n",
       "        8862.43973945, 21033.34140468, 12256.70260471, 12527.55466366,\n",
       "       18008.07358421, 14962.370491  , 12197.34664737, 11333.23184997,\n",
       "        9059.70800789, 18845.57811313, 16242.02575208, 12324.86527576,\n",
       "       11216.94907468, 11818.75210892, 11661.17009468, 19046.80340521,\n",
       "       18456.08535368,  9624.31892734, 10919.07628261,  7557.12355097,\n",
       "       13844.80124945, 13839.60655471,  9068.25927421, 19545.37680468,\n",
       "       10771.37384205, 13908.79858837, 21160.60437837,  9846.92942632,\n",
       "        8857.80415626, 15574.93071995, 16296.9035915 ,  7873.87203782,\n",
       "        9098.26161997, 16479.88566421, 14803.65276421,  6088.64891047,\n",
       "       10287.29391947,  9066.29906579,  8053.95734263, 20374.24639576,\n",
       "        5974.83793684, 11471.94538737, 16414.55185158,  9493.96329995,\n",
       "        7543.48776839, 11703.96338947,  7029.63163842, 12942.37447361,\n",
       "        7882.49717158, 14361.87423471, 15913.46114787, 13984.84232158,\n",
       "        9840.88559313, 16991.89304313,  7557.12355097,  7525.21557368,\n",
       "        9664.36050421,  7100.96303258, 16501.07489474, 16076.88918211,\n",
       "       12465.37956892, 14941.70562468, 12996.83280155, 14904.81772366,\n",
       "       12109.06104258, 12356.3069605 , 10732.27157892, 14208.77981153,\n",
       "       13307.75041468, 13392.33975784,  8578.39088995,  9616.05250737,\n",
       "        8684.63081632, 10464.43817732, 25491.39044105, 15416.50921316,\n",
       "       10610.53355737,  9097.96107211, 11019.48265153,  6082.60018576,\n",
       "       17248.45082945, 13020.29252734,  8212.96207103, 12060.65340313,\n",
       "       11492.86066942, 12971.73935261, 22209.97564474, 16061.55639629,\n",
       "        9337.91112105, 22614.14714737, 12324.91180524, 15720.39750997,\n",
       "       10507.71204997, 10262.22689574, 14752.84252787,  8046.5194605 ,\n",
       "       14717.89726787, 10423.00971842,  8476.73629   ,  9677.99447   ,\n",
       "        9591.41982632, 10852.07517837, 10313.88628316, 14573.27301682,\n",
       "       13059.00596732, 12449.42254997, 15755.81267418,  8331.44265789,\n",
       "       14999.56279471,  9648.13375524, 10586.62609992, 16224.83994263,\n",
       "        8861.94336155, 18698.84170474, 11759.62392205, 21260.04900629,\n",
       "       15499.14433837, 11902.64285789, 11285.74023839, 15775.62082787,\n",
       "        6744.12984471, 10642.52056576,  7339.63230787,  7369.10352784,\n",
       "       14747.70155103,  8390.21500518, 16319.26400208,  8264.91388471,\n",
       "       17401.29550579, 15579.80678942, 14670.63320521, 13143.52055205,\n",
       "       11914.58763997, 12367.0428105 , 13247.91066568, 12527.22764942,\n",
       "       14439.54387629, 21607.93481474, 12880.74337363, 14719.07394261,\n",
       "        7864.03602211, 12817.66004737, 15666.25211471, 15185.88731842,\n",
       "       15371.44801305, 14599.82763684,  6423.42512632, 12636.25950947,\n",
       "       12503.51854945, 19281.91459842, 16662.17510892, 15868.74711734,\n",
       "       11997.26149368, 11387.91608734,  8641.721161  , 11806.79355524,\n",
       "        9410.53230047, 17410.12141632, 12418.51029682, 22476.68047895,\n",
       "       10651.15635155, 10915.06782576, 15638.32507524, 15712.45822576,\n",
       "       17942.57167   , 18797.41981787,  8744.86003105, 19341.5991    ,\n",
       "       11744.42782892, 20299.71487842, 23303.91871632, 13351.82291105,\n",
       "       15013.96840787, 14836.09842105, 11764.32609211,  7000.86409474,\n",
       "        8780.29678361, 11106.276141  , 11321.37616579,  8087.99164684,\n",
       "        8761.67874263, 14781.39177734, 15978.96503626, 12695.1182289 ,\n",
       "        9003.60378895, 15342.06701737,  8945.77497366,  8050.06525258,\n",
       "       11258.38913311, 13747.94136837, 12019.40320684, 18802.25878842,\n",
       "       13730.83182579, 15788.70549261, 16788.70514474, 14191.71390632,\n",
       "       25415.55638316,  9421.36728947, 12163.61868837, 10783.28748418,\n",
       "       11954.94682629, 15028.07739263, 13888.58572892, 10898.11953947,\n",
       "        8015.69804892, 14403.77421576, 15223.92329471,  8121.15800787,\n",
       "        7296.30072632, 14168.10631471, 14091.11404103, 13686.78108418,\n",
       "       24195.32432158, 16288.09635839,  9723.71265   , 13405.09364734,\n",
       "        9525.99946579, 23535.06834103, 15185.995     , 10822.90290789,\n",
       "       11606.33307632, 13055.02940311, 23824.33339732,  5250.32795   ,\n",
       "        8386.80659789, 15044.43102316, 11388.82538261, 13544.58973839,\n",
       "        6215.85047261, 10594.70262105, 21985.87763737, 13224.06424471,\n",
       "        7766.77465313, 12331.63953311, 20717.26096574, 12415.13589468,\n",
       "       21161.76821995, 17122.39137632, 15870.737551  , 25341.35014105,\n",
       "       15175.70861418,  8546.26694208, 10944.08035526,  9604.57286416,\n",
       "       10305.64152103, 17075.84192839,  7213.4367605 , 14767.04297947,\n",
       "        7221.04899263, 13765.79757684, 20319.67477368,  8975.11352053,\n",
       "       10697.83066205, 13672.50983047, 11084.20999363, 21397.92717632,\n",
       "       21198.57022574, 14817.88977684,  8722.9553505 , 16620.78862842,\n",
       "       12872.30514211, 12727.42938789, 16787.38578842,  9905.24161837,\n",
       "       12782.14873682, 17874.26808787,  8675.93798368, 12344.98122471,\n",
       "       15255.34081366, 18697.56754208, 14274.07721155, 11962.21421261,\n",
       "       14588.84629892, 10902.53618839, 22014.50305732, 18008.07358421,\n",
       "       11498.40235576, 15620.31193842, 12635.84225358,  9260.39736205,\n",
       "       14001.23908787, 12952.38243784, 14931.05228155,  8141.83958526,\n",
       "        7652.73971368, 10833.43802368, 21884.30334153,  6150.61222787,\n",
       "       21052.27286784, 12907.2769394 , 17324.72142574,  7982.62883045,\n",
       "        6619.73508155, 17385.27434576, 20934.56450839, 12982.181812  ,\n",
       "        9121.31070626,  9641.52461895, 15614.47759366,  9299.69507629,\n",
       "       15638.32507524, 10647.60846421, 12388.79808103, 16584.44720732,\n",
       "       15483.350891  ,  6156.19092787, 13469.64003524,  6435.45646679,\n",
       "       12989.35074208, 13066.92901368, 10946.59429105, 22659.28994   ,\n",
       "        6893.85964632, 12592.06625789, 17043.23498997, 24292.69523421,\n",
       "       21383.73171632, 16423.00686261, 15418.17625842, 11749.94839995,\n",
       "       14546.32472366,  6150.61222787, 12566.76403205, 15306.9461694 ,\n",
       "       14608.49336787, 23555.42340732,  8171.52208155, 26516.94669471,\n",
       "        8117.66343784, 14541.84072576, 23461.78106997,  9605.70442789,\n",
       "       10786.77597368, 12854.17391316, 11865.43227629, 12349.30478471,\n",
       "       13874.51232842, 10569.84806834,  5652.18461947, 17689.93813421,\n",
       "       13372.75264732,  7661.06477208, 11367.94981466,  6241.50422471,\n",
       "       18910.29135947,  9700.89391839, 12982.51092366, 15185.33456468,\n",
       "       11130.83541258,  7778.41820789, 13599.76513155, 16881.5707805 ,\n",
       "       11509.84173316,  7397.47298474, 11040.97974208, 10159.87641211,\n",
       "       16441.22566945, 10366.23398   ,  9042.96913579, 15483.16761626,\n",
       "       15074.24745053,  8776.40621839, 11654.37237053,  9076.40170105,\n",
       "        7485.06688474, 15093.91528789, 19567.83245629, 21132.74950626,\n",
       "       11111.84884053, 16414.74796524,  9947.34708947,  6912.13665892,\n",
       "       11606.50658158,  9007.42536837, 25405.64403842,  7855.72643   ,\n",
       "       17310.38438263, 13074.04138155, 16735.85570579, 12028.79654632,\n",
       "       19701.81722632, 11925.70880261,  8608.35769629, 11793.32116366,\n",
       "       24334.56219789, 12395.86081053, 20456.84855363, 15855.08952787,\n",
       "       15211.78104208, 25493.12233842,  7678.12597053,  8884.94672895,\n",
       "        8715.70857524,  9105.44935155,  7441.57366416, 15541.43347153,\n",
       "       14180.0604905 , 18063.51072784, 16819.62309208, 22646.60584632,\n",
       "       22972.38776105, 15469.50594526, 23515.91702997, 10182.96241105,\n",
       "        9013.57058839, 25383.59673842, 15443.00223311, 13999.08922837,\n",
       "        7806.80602737, 12738.25830942, 11963.63751789, 21151.03804626,\n",
       "       12284.49959208, 13237.99743524, 16890.98282361, 13473.91129418,\n",
       "       22753.68519679, 11894.30524471, 15029.854501  , 22722.4369389 ,\n",
       "       15202.15041474, 17515.70114576,  9007.46208945,  8607.91665311,\n",
       "       23812.71715258, 11083.13772103, 10915.22702366, 16308.66629892,\n",
       "        6088.64891047, 15864.75545521, 15821.59582895,  8111.46359684,\n",
       "       12303.4298705 , 15968.41934629,  6185.22364103, 10623.99668626,\n",
       "       12657.13877632,  7157.99193947, 11349.03887521, 12689.34935997,\n",
       "       15533.33999313, 10239.80965789,  7810.50800097, 17750.84316684,\n",
       "       13802.16574576, 17522.94425366, 13968.72863311, 17401.29550579,\n",
       "       11328.75358947, 12718.61117097,  8651.75274313, 27146.35217789,\n",
       "       10798.21417892, 15212.99954105, 13668.82499097, 15572.9642489 ,\n",
       "       11743.59984737, 13266.92221105, 18426.13253211, 21786.78301368,\n",
       "       18650.47307632, 10961.97234153,  9677.99447   , 12798.71668837,\n",
       "       13805.54278574, 12939.09496679,  8608.17801211, 12232.42458784,\n",
       "       15558.72467626, 12277.64176997, 13025.57836576,  9150.94624053,\n",
       "       11073.59845947, 18667.56303211, 19080.97624942, 15615.46285682,\n",
       "        9718.78009208,  8688.78275684, 11159.90509734,  8774.918621  ,\n",
       "       10600.72354992,  9202.47956789, 10210.17182258, 14956.99486103,\n",
       "       17960.85162105,  9380.41235   , 11970.63117155, 10615.71109363,\n",
       "       18377.20599158, 10653.96157839, 10858.45165895, 15311.06795737,\n",
       "        8047.58130526, 11223.59042574,  8088.86547579,  8162.96011682,\n",
       "       13289.025081  , 12879.463111  , 12690.25952682, 11529.87617363,\n",
       "        8108.41503047,  7553.06287629,  6835.66630787, 27327.43315158,\n",
       "       10951.89889574, 13236.69983261, 10291.91154997, 19750.46689995,\n",
       "       15685.83075421,  7312.14263737, 14957.2805805 , 10680.44075787,\n",
       "        9110.81218053,  9010.10188684, 12440.27897366,  6897.67245629,\n",
       "       23009.87606892,  8401.2704605 , 16336.29815366, 11368.48699787,\n",
       "       14570.13502418, 11226.56115416, 14788.76955158,  8553.9327005 ,\n",
       "       13780.06433789, 27295.47350684,  6145.31262471,  8015.85603105,\n",
       "        7597.96829737,  7278.20667103, 14640.54191895, 15422.74955368,\n",
       "       17483.86574416, 12130.50327418, 13788.83849471, 14456.50708418,\n",
       "       10667.66627366, 15111.17871047,  8528.57823839, 15207.01514208,\n",
       "       12431.58412366, 12922.14261579,  8224.29257789, 13036.91961263,\n",
       "       15689.03089576,  8335.66471576,  9887.41495158,  8379.55852997,\n",
       "       10610.88353947, 23602.65254103, 13070.41485626, 21943.52629   ,\n",
       "       16366.52796155, 16451.71614789, 11738.88725416, 10368.51090789,\n",
       "       17833.76563361, 16007.70290842,  9316.60486155,  9093.20106789,\n",
       "       13303.07758945, 21144.957331  , 15566.72838784,  6988.09103471,\n",
       "       15572.9642489 ,  7652.37334737, 16910.83720684, 11188.16678155,\n",
       "       11275.63171105,  7922.63795208,  7809.37272626, 13942.95750208,\n",
       "       12846.38005105, 18543.00986263,  8824.76637629, 15709.72047103,\n",
       "        9648.13375524, 12525.86278947, 10996.11175263, 13988.46826834,\n",
       "        6737.35950892, 14780.32384729, 14236.96697421,  8356.17480787,\n",
       "        6912.13665892,  6192.69645629,  7426.33843734, 11415.9210894 ,\n",
       "        8050.06525258,  7960.18136737,  7293.74742474, 12113.88866261,\n",
       "       11944.52373839, 11186.57210261, 13907.05858313, 20332.85664576,\n",
       "       10772.36188421, 16775.28266   ,  7667.99369579, 10493.49399521,\n",
       "       13038.36463945, 12774.84377682,  8161.25254947, 17518.48390839,\n",
       "       26640.52831363,  9475.89357892, 15556.82537787, 10069.03495263,\n",
       "       17539.84952158, 11335.96334208,  8540.11744521, 11939.27077579,\n",
       "       15313.14186258, 15022.74042784, 10851.54258679, 14395.76848997,\n",
       "        9640.64244363, 21140.00426421, 15914.43901895, 15185.995     ,\n",
       "       12237.67034205, 17410.12141632, 10766.58668158, 14169.18008945,\n",
       "       12036.13078211])"
      ]
     },
     "execution_count": 228,
     "metadata": {},
     "output_type": "execute_result"
    }
   ],
   "source": [
    "knn_tuned.predict(X_test) #veri kümesi üzerinde tahminler elde ediyoruz."
   ]
  },
  {
   "cell_type": "code",
   "execution_count": 229,
   "id": "7bac9daf-51c5-4766-a5fe-ad67878c17b6",
   "metadata": {
    "tags": []
   },
   "outputs": [
    {
     "data": {
      "text/plain": [
       "11534.968354879415"
      ]
     },
     "execution_count": 229,
     "metadata": {},
     "output_type": "execute_result"
    }
   ],
   "source": [
    "np.sqrt(mean_squared_error(y_test, knn_tuned.predict(X_test))) #model üzerinden test hatasını alalım"
   ]
  },
  {
   "cell_type": "code",
   "execution_count": 230,
   "id": "9b7c5c56-fa85-4d20-9f3a-f4ffe1fb35ef",
   "metadata": {
    "tags": []
   },
   "outputs": [],
   "source": [
    "r2=r2_score(y_test, knn_tuned.predict(X_test)) "
   ]
  },
  {
   "cell_type": "markdown",
   "id": "273d2f5a-888d-41dd-94fd-12b54da1f9e2",
   "metadata": {
    "tags": []
   },
   "source": [
    " Gerçek değerlerle modelin tahminlerinin ne kadar iyi eşleştiğini ölçüyoruz."
   ]
  },
  {
   "cell_type": "code",
   "execution_count": 231,
   "id": "b2f42f3e-8b9a-4299-9ffa-b9aec77b6020",
   "metadata": {
    "tags": []
   },
   "outputs": [
    {
     "data": {
      "text/plain": [
       "0.09696528874559696"
      ]
     },
     "execution_count": 231,
     "metadata": {},
     "output_type": "execute_result"
    }
   ],
   "source": [
    "r2 "
   ]
  },
  {
   "cell_type": "markdown",
   "id": "169c4d15-ad8b-4792-9ebe-9912351866a5",
   "metadata": {},
   "source": [
    "**CART**"
   ]
  },
  {
   "cell_type": "code",
   "execution_count": 232,
   "id": "48ccfd84-330a-4f16-a684-7277c2260e34",
   "metadata": {
    "tags": []
   },
   "outputs": [],
   "source": [
    "hit = pd.read_excel(\"güncellenmiş_veriSeti.xlsx\")\n",
    "df = hit.copy()\n",
    "dms = pd.get_dummies(df[['sex', 'smoker', 'region']])\n",
    "y = df[\"charges\"]\n",
    "X_ = df.drop(['charges', 'sex', 'smoker', 'region'], axis=1).astype('float64')\n",
    "X_train, X_test, y_train, y_test = train_test_split(X, y, \n",
    "                                                    test_size=0.5, \n",
    "                                                    random_state=60)"
   ]
  },
  {
   "cell_type": "code",
   "execution_count": 233,
   "id": "40a56e98-ffc8-438b-aae9-a7b703ee6244",
   "metadata": {
    "tags": []
   },
   "outputs": [
    {
     "data": {
      "text/plain": [
       "(669, 8)"
      ]
     },
     "execution_count": 233,
     "metadata": {},
     "output_type": "execute_result"
    }
   ],
   "source": [
    "X_train.shape #eğitim veri kümesinin şeklini (yani kaç satır ve kaç sütun olduğunu) öğreniyoruz"
   ]
  },
  {
   "cell_type": "code",
   "execution_count": 234,
   "id": "2497f1ba-fa1a-4b15-87e7-a4be6bd81f21",
   "metadata": {
    "tags": []
   },
   "outputs": [],
   "source": [
    "cart_model = DecisionTreeRegressor()\n",
    "cart_model.fit(X_train, y_train)\n",
    "y_pred = cart_model.predict(X_test)"
   ]
  },
  {
   "cell_type": "code",
   "execution_count": 235,
   "id": "974b40b0-4dc6-4eaa-8f98-cdbddbfdff01",
   "metadata": {
    "tags": []
   },
   "outputs": [
    {
     "data": {
      "text/plain": [
       "7268.682005391684"
      ]
     },
     "execution_count": 235,
     "metadata": {},
     "output_type": "execute_result"
    }
   ],
   "source": [
    "np.sqrt(mean_squared_error(y_test, y_pred)) #tune etmeden önceki ilkel hatamıza bakalım"
   ]
  },
  {
   "cell_type": "code",
   "execution_count": 237,
   "id": "3f198c94-a1ef-40c8-bf48-bd1701aaf759",
   "metadata": {
    "tags": []
   },
   "outputs": [],
   "source": [
    "cart_params = {\"min_samples_split\": range(2,100),\n",
    "               \"max_leaf_nodes\": range(2,10)}\n",
    "\n",
    "#min_samples_split: bir düğümü bölmek için gereken minimum örnek sayısı\n",
    "#max_leaf_nodes: ağacın sahip olacağı maksimum yaprak sayısı"
   ]
  },
  {
   "cell_type": "code",
   "execution_count": 238,
   "id": "ee085588-26e8-4ecd-b5a4-ecd4a585f414",
   "metadata": {
    "tags": []
   },
   "outputs": [],
   "source": [
    "cart_cv_model = GridSearchCV(cart_model, cart_params, cv = 20).fit(X_train, y_train) # belirli bir hiperparametre aralığını deneyerek, en iyi hiperparametre setini bulmaya çalışıyoruz."
   ]
  },
  {
   "cell_type": "code",
   "execution_count": 239,
   "id": "32ac05f5-ae3a-45ed-838d-4acff6526092",
   "metadata": {
    "tags": []
   },
   "outputs": [
    {
     "data": {
      "text/plain": [
       "{'max_leaf_nodes': 9, 'min_samples_split': 47}"
      ]
     },
     "execution_count": 239,
     "metadata": {},
     "output_type": "execute_result"
    }
   ],
   "source": [
    "cart_cv_model.best_params_"
   ]
  },
  {
   "cell_type": "code",
   "execution_count": 240,
   "id": "694f8d13-d162-41d4-9040-368a64e21780",
   "metadata": {
    "tags": []
   },
   "outputs": [],
   "source": [
    "cart_tuned = DecisionTreeRegressor(max_leaf_nodes = 9, min_samples_split = 47) #Bu parametreler,modelin en iyi performansını sağlayan değerlerdir."
   ]
  },
  {
   "cell_type": "code",
   "execution_count": 241,
   "id": "eb2b853c-07af-445d-b4ae-45e2c7fe4c7c",
   "metadata": {
    "tags": []
   },
   "outputs": [
    {
     "data": {
      "text/html": [
       "<style>#sk-container-id-7 {color: black;}#sk-container-id-7 pre{padding: 0;}#sk-container-id-7 div.sk-toggleable {background-color: white;}#sk-container-id-7 label.sk-toggleable__label {cursor: pointer;display: block;width: 100%;margin-bottom: 0;padding: 0.3em;box-sizing: border-box;text-align: center;}#sk-container-id-7 label.sk-toggleable__label-arrow:before {content: \"▸\";float: left;margin-right: 0.25em;color: #696969;}#sk-container-id-7 label.sk-toggleable__label-arrow:hover:before {color: black;}#sk-container-id-7 div.sk-estimator:hover label.sk-toggleable__label-arrow:before {color: black;}#sk-container-id-7 div.sk-toggleable__content {max-height: 0;max-width: 0;overflow: hidden;text-align: left;background-color: #f0f8ff;}#sk-container-id-7 div.sk-toggleable__content pre {margin: 0.2em;color: black;border-radius: 0.25em;background-color: #f0f8ff;}#sk-container-id-7 input.sk-toggleable__control:checked~div.sk-toggleable__content {max-height: 200px;max-width: 100%;overflow: auto;}#sk-container-id-7 input.sk-toggleable__control:checked~label.sk-toggleable__label-arrow:before {content: \"▾\";}#sk-container-id-7 div.sk-estimator input.sk-toggleable__control:checked~label.sk-toggleable__label {background-color: #d4ebff;}#sk-container-id-7 div.sk-label input.sk-toggleable__control:checked~label.sk-toggleable__label {background-color: #d4ebff;}#sk-container-id-7 input.sk-hidden--visually {border: 0;clip: rect(1px 1px 1px 1px);clip: rect(1px, 1px, 1px, 1px);height: 1px;margin: -1px;overflow: hidden;padding: 0;position: absolute;width: 1px;}#sk-container-id-7 div.sk-estimator {font-family: monospace;background-color: #f0f8ff;border: 1px dotted black;border-radius: 0.25em;box-sizing: border-box;margin-bottom: 0.5em;}#sk-container-id-7 div.sk-estimator:hover {background-color: #d4ebff;}#sk-container-id-7 div.sk-parallel-item::after {content: \"\";width: 100%;border-bottom: 1px solid gray;flex-grow: 1;}#sk-container-id-7 div.sk-label:hover label.sk-toggleable__label {background-color: #d4ebff;}#sk-container-id-7 div.sk-serial::before {content: \"\";position: absolute;border-left: 1px solid gray;box-sizing: border-box;top: 0;bottom: 0;left: 50%;z-index: 0;}#sk-container-id-7 div.sk-serial {display: flex;flex-direction: column;align-items: center;background-color: white;padding-right: 0.2em;padding-left: 0.2em;position: relative;}#sk-container-id-7 div.sk-item {position: relative;z-index: 1;}#sk-container-id-7 div.sk-parallel {display: flex;align-items: stretch;justify-content: center;background-color: white;position: relative;}#sk-container-id-7 div.sk-item::before, #sk-container-id-7 div.sk-parallel-item::before {content: \"\";position: absolute;border-left: 1px solid gray;box-sizing: border-box;top: 0;bottom: 0;left: 50%;z-index: -1;}#sk-container-id-7 div.sk-parallel-item {display: flex;flex-direction: column;z-index: 1;position: relative;background-color: white;}#sk-container-id-7 div.sk-parallel-item:first-child::after {align-self: flex-end;width: 50%;}#sk-container-id-7 div.sk-parallel-item:last-child::after {align-self: flex-start;width: 50%;}#sk-container-id-7 div.sk-parallel-item:only-child::after {width: 0;}#sk-container-id-7 div.sk-dashed-wrapped {border: 1px dashed gray;margin: 0 0.4em 0.5em 0.4em;box-sizing: border-box;padding-bottom: 0.4em;background-color: white;}#sk-container-id-7 div.sk-label label {font-family: monospace;font-weight: bold;display: inline-block;line-height: 1.2em;}#sk-container-id-7 div.sk-label-container {text-align: center;}#sk-container-id-7 div.sk-container {/* jupyter's `normalize.less` sets `[hidden] { display: none; }` but bootstrap.min.css set `[hidden] { display: none !important; }` so we also need the `!important` here to be able to override the default hidden behavior on the sphinx rendered scikit-learn.org. See: https://github.com/scikit-learn/scikit-learn/issues/21755 */display: inline-block !important;position: relative;}#sk-container-id-7 div.sk-text-repr-fallback {display: none;}</style><div id=\"sk-container-id-7\" class=\"sk-top-container\"><div class=\"sk-text-repr-fallback\"><pre>DecisionTreeRegressor(max_leaf_nodes=9, min_samples_split=47)</pre><b>In a Jupyter environment, please rerun this cell to show the HTML representation or trust the notebook. <br />On GitHub, the HTML representation is unable to render, please try loading this page with nbviewer.org.</b></div><div class=\"sk-container\" hidden><div class=\"sk-item\"><div class=\"sk-estimator sk-toggleable\"><input class=\"sk-toggleable__control sk-hidden--visually\" id=\"sk-estimator-id-7\" type=\"checkbox\" checked><label for=\"sk-estimator-id-7\" class=\"sk-toggleable__label sk-toggleable__label-arrow\">DecisionTreeRegressor</label><div class=\"sk-toggleable__content\"><pre>DecisionTreeRegressor(max_leaf_nodes=9, min_samples_split=47)</pre></div></div></div></div></div>"
      ],
      "text/plain": [
       "DecisionTreeRegressor(max_leaf_nodes=9, min_samples_split=47)"
      ]
     },
     "execution_count": 241,
     "metadata": {},
     "output_type": "execute_result"
    }
   ],
   "source": [
    "cart_tuned.fit(X_train, y_train)"
   ]
  },
  {
   "cell_type": "code",
   "execution_count": 242,
   "id": "b2619771-0707-4957-937d-f4f6718029e5",
   "metadata": {
    "tags": []
   },
   "outputs": [],
   "source": [
    "y_pred = cart_tuned.predict(X_test)"
   ]
  },
  {
   "cell_type": "code",
   "execution_count": 243,
   "id": "8243a008-89c8-4fcc-b094-5cfa563a3a4b",
   "metadata": {
    "tags": []
   },
   "outputs": [
    {
     "data": {
      "text/plain": [
       "5546.423039614233"
      ]
     },
     "execution_count": 243,
     "metadata": {},
     "output_type": "execute_result"
    }
   ],
   "source": [
    "np.sqrt(mean_squared_error(y_test, y_pred)) #model üzerinden test hatasını alalım"
   ]
  },
  {
   "cell_type": "code",
   "execution_count": 244,
   "id": "1ad45f24-d28a-4e41-ad2e-365e71d80e31",
   "metadata": {},
   "outputs": [],
   "source": [
    "r2=r2_score(y_test, y_pred)"
   ]
  },
  {
   "cell_type": "code",
   "execution_count": 245,
   "id": "1a9dc884-73a0-460d-b31e-de8cf190dee8",
   "metadata": {
    "tags": []
   },
   "outputs": [
    {
     "data": {
      "text/plain": [
       "0.7646975232096352"
      ]
     },
     "execution_count": 245,
     "metadata": {},
     "output_type": "execute_result"
    }
   ],
   "source": [
    "r2 #1'e yaklaşan bir R-kare değeri, modelin verileri iyi açıkladığı anlamına gelir."
   ]
  },
  {
   "cell_type": "code",
   "execution_count": 246,
   "id": "be4d08d4-3a73-4e00-a42d-832ead9463e6",
   "metadata": {
    "tags": []
   },
   "outputs": [
    {
     "name": "stdout",
     "output_type": "stream",
     "text": [
      "Requirement already satisfied: SKompiler[full] in c:\\users\\merve\\.nuget\\anaconda\\lib\\site-packages (0.7)\n",
      "Requirement already satisfied: scikit-learn>=0.22 in c:\\users\\merve\\.nuget\\anaconda\\lib\\site-packages (from SKompiler[full]) (1.3.0)\n",
      "Requirement already satisfied: sympy in c:\\users\\merve\\.nuget\\anaconda\\lib\\site-packages (from SKompiler[full]) (1.11.1)\n",
      "Requirement already satisfied: sqlalchemy in c:\\users\\merve\\.nuget\\anaconda\\lib\\site-packages (from SKompiler[full]) (1.4.39)\n",
      "Requirement already satisfied: astor>=0.6 in c:\\users\\merve\\.nuget\\anaconda\\lib\\site-packages (from SKompiler[full]) (0.8.1)\n",
      "Requirement already satisfied: numpy>=1.17.3 in c:\\users\\merve\\.nuget\\anaconda\\lib\\site-packages (from scikit-learn>=0.22->SKompiler[full]) (1.24.3)\n",
      "Requirement already satisfied: scipy>=1.5.0 in c:\\users\\merve\\.nuget\\anaconda\\lib\\site-packages (from scikit-learn>=0.22->SKompiler[full]) (1.11.1)\n",
      "Requirement already satisfied: joblib>=1.1.1 in c:\\users\\merve\\.nuget\\anaconda\\lib\\site-packages (from scikit-learn>=0.22->SKompiler[full]) (1.2.0)\n",
      "Requirement already satisfied: threadpoolctl>=2.0.0 in c:\\users\\merve\\.nuget\\anaconda\\lib\\site-packages (from scikit-learn>=0.22->SKompiler[full]) (2.2.0)\n",
      "Requirement already satisfied: greenlet!=0.4.17 in c:\\users\\merve\\.nuget\\anaconda\\lib\\site-packages (from sqlalchemy->SKompiler[full]) (2.0.1)\n",
      "Requirement already satisfied: mpmath>=0.19 in c:\\users\\merve\\.nuget\\anaconda\\lib\\site-packages (from sympy->SKompiler[full]) (1.3.0)\n"
     ]
    }
   ],
   "source": [
    "!pip install SKompiler[full] "
   ]
  },
  {
   "cell_type": "code",
   "execution_count": 247,
   "id": "d55ca802-d8f2-443e-b98b-83a974c817f4",
   "metadata": {
    "tags": []
   },
   "outputs": [],
   "source": [
    "from skompiler import skompile"
   ]
  },
  {
   "cell_type": "code",
   "execution_count": 248,
   "id": "8be81a30-aff2-4b92-9be5-a6c995fc4ec4",
   "metadata": {
    "tags": []
   },
   "outputs": [
    {
     "name": "stdout",
     "output_type": "stream",
     "text": [
      "(((3948.244438411496 if x[0] <= 27.5 else 7461.249489981803) if x[0] <= \n",
      "    45.5 else 11263.801557593457 if x[0] <= 51.5 else 13728.105758194131) if\n",
      "    x[4] <= 0.5 else (18475.0516817355 if x[0] <= 38.5 else \n",
      "    24459.67398363637) if x[1] <= 30.100000381469727 else (\n",
      "    33790.05550166668 if x[2] <= 0.5 else 40607.73653758621) if x[0] <= \n",
      "    43.5 else 46805.26811533332)\n",
      "\n"
     ]
    }
   ],
   "source": [
    "print(skompile(cart_tuned.predict).to('python/code')) #Bu kodun çıktısı, cart_tuned modelinin predict metodunun Python diline çevrilmiş halini içerecek"
   ]
  },
  {
   "cell_type": "markdown",
   "id": "2c31d8a1-b3ac-4398-949b-68032feb5810",
   "metadata": {},
   "source": [
    "**Bagged Trees Regresyon**"
   ]
  },
  {
   "cell_type": "code",
   "execution_count": 249,
   "id": "aee3e228-9335-44d7-8af6-c67e3b7dd8db",
   "metadata": {
    "tags": []
   },
   "outputs": [],
   "source": [
    "hit = pd.read_excel(\"güncellenmiş_veriSeti.xlsx\")\n",
    "df = hit.copy()\n",
    "dms = pd.get_dummies(df[['sex', 'smoker', 'region']])\n",
    "y = df[\"charges\"]\n",
    "X_ = df.drop(['charges', 'sex', 'smoker', 'region'], axis=1).astype('float64')\n",
    "X_train, X_test, y_train, y_test = train_test_split(X, y, \n",
    "                                                    test_size=0.5, \n",
    "                                                    random_state=60)"
   ]
  },
  {
   "cell_type": "code",
   "execution_count": 250,
   "id": "c89a4153-ab7f-4fa2-82b6-83d0c323f34a",
   "metadata": {
    "tags": []
   },
   "outputs": [
    {
     "data": {
      "text/html": [
       "<style>#sk-container-id-8 {color: black;}#sk-container-id-8 pre{padding: 0;}#sk-container-id-8 div.sk-toggleable {background-color: white;}#sk-container-id-8 label.sk-toggleable__label {cursor: pointer;display: block;width: 100%;margin-bottom: 0;padding: 0.3em;box-sizing: border-box;text-align: center;}#sk-container-id-8 label.sk-toggleable__label-arrow:before {content: \"▸\";float: left;margin-right: 0.25em;color: #696969;}#sk-container-id-8 label.sk-toggleable__label-arrow:hover:before {color: black;}#sk-container-id-8 div.sk-estimator:hover label.sk-toggleable__label-arrow:before {color: black;}#sk-container-id-8 div.sk-toggleable__content {max-height: 0;max-width: 0;overflow: hidden;text-align: left;background-color: #f0f8ff;}#sk-container-id-8 div.sk-toggleable__content pre {margin: 0.2em;color: black;border-radius: 0.25em;background-color: #f0f8ff;}#sk-container-id-8 input.sk-toggleable__control:checked~div.sk-toggleable__content {max-height: 200px;max-width: 100%;overflow: auto;}#sk-container-id-8 input.sk-toggleable__control:checked~label.sk-toggleable__label-arrow:before {content: \"▾\";}#sk-container-id-8 div.sk-estimator input.sk-toggleable__control:checked~label.sk-toggleable__label {background-color: #d4ebff;}#sk-container-id-8 div.sk-label input.sk-toggleable__control:checked~label.sk-toggleable__label {background-color: #d4ebff;}#sk-container-id-8 input.sk-hidden--visually {border: 0;clip: rect(1px 1px 1px 1px);clip: rect(1px, 1px, 1px, 1px);height: 1px;margin: -1px;overflow: hidden;padding: 0;position: absolute;width: 1px;}#sk-container-id-8 div.sk-estimator {font-family: monospace;background-color: #f0f8ff;border: 1px dotted black;border-radius: 0.25em;box-sizing: border-box;margin-bottom: 0.5em;}#sk-container-id-8 div.sk-estimator:hover {background-color: #d4ebff;}#sk-container-id-8 div.sk-parallel-item::after {content: \"\";width: 100%;border-bottom: 1px solid gray;flex-grow: 1;}#sk-container-id-8 div.sk-label:hover label.sk-toggleable__label {background-color: #d4ebff;}#sk-container-id-8 div.sk-serial::before {content: \"\";position: absolute;border-left: 1px solid gray;box-sizing: border-box;top: 0;bottom: 0;left: 50%;z-index: 0;}#sk-container-id-8 div.sk-serial {display: flex;flex-direction: column;align-items: center;background-color: white;padding-right: 0.2em;padding-left: 0.2em;position: relative;}#sk-container-id-8 div.sk-item {position: relative;z-index: 1;}#sk-container-id-8 div.sk-parallel {display: flex;align-items: stretch;justify-content: center;background-color: white;position: relative;}#sk-container-id-8 div.sk-item::before, #sk-container-id-8 div.sk-parallel-item::before {content: \"\";position: absolute;border-left: 1px solid gray;box-sizing: border-box;top: 0;bottom: 0;left: 50%;z-index: -1;}#sk-container-id-8 div.sk-parallel-item {display: flex;flex-direction: column;z-index: 1;position: relative;background-color: white;}#sk-container-id-8 div.sk-parallel-item:first-child::after {align-self: flex-end;width: 50%;}#sk-container-id-8 div.sk-parallel-item:last-child::after {align-self: flex-start;width: 50%;}#sk-container-id-8 div.sk-parallel-item:only-child::after {width: 0;}#sk-container-id-8 div.sk-dashed-wrapped {border: 1px dashed gray;margin: 0 0.4em 0.5em 0.4em;box-sizing: border-box;padding-bottom: 0.4em;background-color: white;}#sk-container-id-8 div.sk-label label {font-family: monospace;font-weight: bold;display: inline-block;line-height: 1.2em;}#sk-container-id-8 div.sk-label-container {text-align: center;}#sk-container-id-8 div.sk-container {/* jupyter's `normalize.less` sets `[hidden] { display: none; }` but bootstrap.min.css set `[hidden] { display: none !important; }` so we also need the `!important` here to be able to override the default hidden behavior on the sphinx rendered scikit-learn.org. See: https://github.com/scikit-learn/scikit-learn/issues/21755 */display: inline-block !important;position: relative;}#sk-container-id-8 div.sk-text-repr-fallback {display: none;}</style><div id=\"sk-container-id-8\" class=\"sk-top-container\"><div class=\"sk-text-repr-fallback\"><pre>BaggingRegressor()</pre><b>In a Jupyter environment, please rerun this cell to show the HTML representation or trust the notebook. <br />On GitHub, the HTML representation is unable to render, please try loading this page with nbviewer.org.</b></div><div class=\"sk-container\" hidden><div class=\"sk-item\"><div class=\"sk-estimator sk-toggleable\"><input class=\"sk-toggleable__control sk-hidden--visually\" id=\"sk-estimator-id-8\" type=\"checkbox\" checked><label for=\"sk-estimator-id-8\" class=\"sk-toggleable__label sk-toggleable__label-arrow\">BaggingRegressor</label><div class=\"sk-toggleable__content\"><pre>BaggingRegressor()</pre></div></div></div></div></div>"
      ],
      "text/plain": [
       "BaggingRegressor()"
      ]
     },
     "execution_count": 250,
     "metadata": {},
     "output_type": "execute_result"
    }
   ],
   "source": [
    "bag_model = BaggingRegressor()\n",
    "bag_model.fit(X_train, y_train) #bir torba (bagging) regresyon modeli oluşturur ve eğitim veri seti üzerinde bu modeli eğitir."
   ]
  },
  {
   "cell_type": "code",
   "execution_count": 251,
   "id": "ec456b9d-3a85-45dc-b67b-61faa8ae2b8e",
   "metadata": {
    "tags": []
   },
   "outputs": [
    {
     "data": {
      "text/plain": [
       "{'base_estimator': 'deprecated',\n",
       " 'bootstrap': True,\n",
       " 'bootstrap_features': False,\n",
       " 'estimator': None,\n",
       " 'max_features': 1.0,\n",
       " 'max_samples': 1.0,\n",
       " 'n_estimators': 10,\n",
       " 'n_jobs': None,\n",
       " 'oob_score': False,\n",
       " 'random_state': None,\n",
       " 'verbose': 0,\n",
       " 'warm_start': False}"
      ]
     },
     "execution_count": 251,
     "metadata": {},
     "output_type": "execute_result"
    }
   ],
   "source": [
    "bag_model.get_params() #modelinin parametrelerini bir sözlük olarak döndürecektir. Bu bilgi, modelin yapılandırılması ve ince ayarları için kullanılabilir"
   ]
  },
  {
   "cell_type": "code",
   "execution_count": 252,
   "id": "b4986fa5-6d85-46ca-88ad-5153be7ece63",
   "metadata": {
    "tags": []
   },
   "outputs": [
    {
     "data": {
      "text/plain": [
       "10"
      ]
     },
     "execution_count": 252,
     "metadata": {},
     "output_type": "execute_result"
    }
   ],
   "source": [
    "bag_model.n_estimators #kaç ağaç oluşturulacağı bilgisidir. Ön tanımlı değeri 10'muş"
   ]
  },
  {
   "cell_type": "code",
   "execution_count": 253,
   "id": "1f66b594-7a1f-4507-94b9-ee2be4df0c44",
   "metadata": {
    "tags": []
   },
   "outputs": [
    {
     "data": {
      "text/plain": [
       "[DecisionTreeRegressor(random_state=836345645),\n",
       " DecisionTreeRegressor(random_state=563244710),\n",
       " DecisionTreeRegressor(random_state=1700233131),\n",
       " DecisionTreeRegressor(random_state=1573087030),\n",
       " DecisionTreeRegressor(random_state=1602138722),\n",
       " DecisionTreeRegressor(random_state=1171426540),\n",
       " DecisionTreeRegressor(random_state=869913091),\n",
       " DecisionTreeRegressor(random_state=995136684),\n",
       " DecisionTreeRegressor(random_state=1485463309),\n",
       " DecisionTreeRegressor(random_state=381484842)]"
      ]
     },
     "execution_count": 253,
     "metadata": {},
     "output_type": "execute_result"
    }
   ],
   "source": [
    "bag_model.estimators_ #oluşturulan ağaçları gösterir"
   ]
  },
  {
   "cell_type": "code",
   "execution_count": 254,
   "id": "6b103065-4c78-4799-959a-3016865a0667",
   "metadata": {
    "tags": []
   },
   "outputs": [
    {
     "data": {
      "text/plain": [
       "[array([530, 343,  84, 333, 579, 241,  27, 376, 252, 542, 119,  35, 118,\n",
       "        588, 597, 306, 402, 162, 572, 259, 299, 443, 318, 490, 196, 517,\n",
       "        286, 454, 363, 127, 563, 577, 636, 352, 577,   9,  18, 650, 457,\n",
       "        528,  56, 109, 493,  83,  97, 594, 127, 224, 266, 451, 290, 341,\n",
       "         14, 202, 467, 665, 146, 555,  24, 610, 458, 178, 325, 648, 301,\n",
       "         84, 401, 542, 269, 362, 587, 657, 275, 619, 659,  84, 293, 629,\n",
       "        235, 524, 194, 325, 293, 297, 171, 663, 475, 144, 537, 115, 378,\n",
       "        414, 402,  87, 554, 379, 567, 625, 489, 348, 362, 476, 549, 636,\n",
       "         52, 581, 493, 448, 150, 287, 238, 514, 327, 392, 664, 414, 338,\n",
       "        180, 539, 458, 205, 331, 349, 110, 122,  97, 250, 261,  85, 388,\n",
       "        269, 139, 230, 572, 337, 597, 493, 476, 362, 135,  25, 163, 131,\n",
       "          9, 647, 512, 101, 626, 666, 457, 407, 351, 137, 225, 594, 579,\n",
       "         26, 664, 644, 415, 176, 364, 632,  53,  56, 655, 245, 462, 489,\n",
       "        609, 134,  37, 528, 587,  81,  46, 167, 666, 391, 465, 205, 541,\n",
       "        562, 226, 433,  91, 639,  39, 331, 655,  21, 603,  73,  91, 175,\n",
       "        379, 378,  14,  83, 528, 334,  37,  99, 358,  22, 152, 567, 480,\n",
       "        135, 373, 342, 542, 602, 580, 305,  38, 449, 631, 443, 419,  62,\n",
       "        658, 148, 581, 497, 605, 660, 493, 476, 235, 213, 297, 154, 569,\n",
       "        602, 479,   7, 482, 373,  17, 234, 643, 496, 547, 417, 338, 393,\n",
       "        240,  90, 266, 539,  91, 348, 238, 608, 623, 134, 431, 619, 192,\n",
       "        569, 207, 291,  79, 193, 647, 244, 554, 590, 372, 207, 124,  62,\n",
       "        599, 151, 220, 531, 321, 461,  97, 319, 237, 630, 622,  62, 348,\n",
       "        328, 409, 664,  29, 496, 626, 663, 634, 399, 443, 656, 397, 288,\n",
       "        490, 208, 164, 166, 581,  61, 129,  72, 473, 615, 428, 463, 194,\n",
       "        128,   1, 442, 174,   4, 338,  68, 416, 450, 108, 213, 659,  91,\n",
       "        483, 212, 421,  39, 412,  83, 337,  81, 529, 668, 407, 156, 566,\n",
       "         68, 569, 444, 392, 327, 387, 342, 156, 273, 349,  38,  55, 537,\n",
       "          0,  94, 639,  68,  78, 291, 134,  54, 204,  11, 354, 493,  22,\n",
       "        455, 418, 246, 584, 577, 363, 461, 228, 121, 225,  10, 513, 493,\n",
       "        415, 290, 339, 582, 368,  74, 311, 611, 175, 554, 433, 527, 158,\n",
       "         13, 558, 649,  91, 512, 440, 593, 625, 600, 198, 100, 637,  16,\n",
       "        395, 237, 374,  23, 330, 287, 521, 248, 381, 452, 484, 254, 526,\n",
       "        197,   4, 385, 432, 310, 217, 366,  50, 157,  19, 378, 403, 418,\n",
       "        587, 447, 524, 615, 389, 139, 172,  98, 357, 324, 316, 368, 257,\n",
       "         64, 626, 429, 228, 218,  30, 468, 103, 239, 492, 605, 593, 246,\n",
       "        132, 638, 336, 316, 447, 169,  95, 365, 619, 530, 612, 636, 660,\n",
       "        239, 171,  26, 397, 474, 454, 179, 496,  91,  30, 253, 665, 519,\n",
       "        405, 552,  77,  76, 240, 660, 132, 149, 626, 171, 192, 606, 190,\n",
       "        574, 156,  58, 422, 362, 576, 349, 347, 217, 583, 151, 372, 315,\n",
       "         17, 217, 210, 204,  14, 415, 213,   5,  77,  22, 396,  76,  90,\n",
       "        453, 181, 446, 134, 344, 657, 603, 540, 302,  19, 247, 372,  70,\n",
       "        140, 327, 307, 413, 475, 317, 132, 597, 350, 643,  96, 174, 619,\n",
       "        657, 565, 388, 263,  31, 418, 181,  51, 606, 245, 633, 651, 276,\n",
       "         50, 206, 387, 435, 634, 569,   5, 174, 195, 168, 304, 184,  28,\n",
       "        412, 489, 497, 121, 271, 149, 320, 290, 494, 422, 392, 527, 267,\n",
       "        570, 648, 354, 418, 252, 551, 546, 338,  70,  53, 457,  69, 319,\n",
       "        131, 665,  21, 359, 152, 211,  34, 407, 328, 319, 513, 161, 593,\n",
       "          5,  90, 343, 603, 202, 367, 585, 296,  84, 311, 567, 433, 369,\n",
       "        628, 146, 473, 472, 389, 197, 260, 275, 126, 197, 167, 422, 539,\n",
       "        443, 109, 324, 428, 528, 524, 552, 396, 510, 536, 563, 115, 299,\n",
       "        615, 595, 192, 580, 354,   5, 252, 123, 526, 198, 200, 206, 193,\n",
       "        496, 571, 313, 607, 146, 407]),\n",
       " array([112,   8, 178,  63, 661, 186, 167, 503, 597, 438, 290, 308, 128,\n",
       "        555, 349, 110, 425,  61, 322, 540, 619, 313,  36, 236,  27, 195,\n",
       "        536,  69, 118, 631, 236, 575,  36, 658, 126,  89, 115, 430, 161,\n",
       "        612, 154, 499, 585,  10, 473, 490, 627, 546, 505, 415, 441, 562,\n",
       "        488, 624, 644, 534, 589, 156, 464, 187, 517, 248, 604, 296, 634,\n",
       "        425, 343, 539, 203, 356, 595,   3, 530, 199, 340, 406,  90,  55,\n",
       "         57, 436, 474, 538, 431,  80, 578, 578, 163, 379, 561, 181, 195,\n",
       "        166, 133, 383, 493,  33, 424,   4,  99, 419, 363, 254, 328,  54,\n",
       "        236, 452, 202, 271, 668, 423, 579, 218,  70,  21, 426, 241, 228,\n",
       "         66,  47, 593,  19, 431, 171, 504, 596, 249, 223, 660, 192, 238,\n",
       "        222, 109, 197, 643, 119,  29, 177, 305, 237, 210, 449, 601, 623,\n",
       "        473, 518, 615,  35, 378, 191, 129,  59, 345, 617, 635, 582, 395,\n",
       "        285,  17, 318, 544, 399, 160, 223, 103, 277, 380,  15, 203, 345,\n",
       "        508, 233, 596, 330,   9, 295,  10, 574, 328, 191,  94, 222, 426,\n",
       "        258, 258, 552, 188, 425, 216, 392, 656, 184, 236, 543, 499, 339,\n",
       "        195, 487, 100, 277, 617, 544, 539, 166, 374, 374, 410, 419,  75,\n",
       "         28, 348, 303, 606, 178, 536,  94, 210, 308, 316, 458,   9,  70,\n",
       "         95, 410, 639,  51, 473, 532,  64,  35, 363,   5, 142,  42, 477,\n",
       "        368, 412, 324, 342, 137, 378, 333, 326, 587, 209,  69, 568,  89,\n",
       "        146, 622,  50, 611, 570,  56, 235, 664, 573, 160,  87,  36, 362,\n",
       "        367, 409,  92, 656, 491, 628, 446,  32,  96, 100, 381, 307, 500,\n",
       "         86, 180, 341, 285, 128, 222, 146, 537,   1, 392,  82,  28, 555,\n",
       "        252, 533, 608, 661, 157, 534,   4, 667, 173, 132, 550, 578, 449,\n",
       "        134, 169,  77,  13, 387, 635,  38, 406, 267, 252, 199,  63, 283,\n",
       "        390,  83, 556, 543, 338,  99, 103, 223, 636, 464, 184, 124, 454,\n",
       "        238, 667, 634, 413, 652, 542, 325,  27, 256, 655, 118,  38,  47,\n",
       "        305, 187, 438,  27, 279, 210, 143, 564, 387, 171, 430, 272, 205,\n",
       "         53, 359, 291, 534, 308, 200, 278, 308,  62, 344, 459, 515,   3,\n",
       "        233,   9, 218, 296,  80, 138, 657, 659,  83, 163, 432, 460, 111,\n",
       "        468, 604, 379, 359, 368, 648, 630, 386, 206, 213,   5, 328, 431,\n",
       "         43, 238,  84, 662, 294, 547, 604,   3, 666, 525, 423, 590, 601,\n",
       "        509, 290, 208, 327, 451, 467, 319, 110,  42, 384, 569, 104,  52,\n",
       "         43, 364, 149,  65, 500,  13, 204, 228, 289, 135, 107, 498, 639,\n",
       "        361, 548, 375, 327, 605, 545,  34, 621, 293, 648, 217, 118, 507,\n",
       "        218,  46, 520, 231,  44, 502,  54, 493, 265, 516,  83, 552,  48,\n",
       "         19,   4, 354, 290, 612, 657, 266, 322, 337, 168, 371, 510, 313,\n",
       "        397, 440, 263, 161, 513, 509, 126,  12, 385, 265, 122, 460, 157,\n",
       "        176,  45,  72, 296, 450, 241, 552,  85, 484, 618,  57,  22, 498,\n",
       "         33, 344, 479, 117, 424, 183, 583, 500, 421, 420, 280, 294, 667,\n",
       "         43, 323, 270, 202, 551, 511, 469, 500, 564, 417, 236,  36,  23,\n",
       "        667, 376, 467, 453, 613, 450, 442,  93, 579, 518, 281, 447, 184,\n",
       "        153, 376, 349, 302,  88, 343, 655, 181, 502,   0, 535, 647, 304,\n",
       "        311, 396, 231, 341, 384, 599, 413, 515, 591, 444, 234, 639, 264,\n",
       "        422, 518, 384, 533,  33, 192,  62,  19, 244, 343, 552, 138,  82,\n",
       "        646, 462, 108, 232, 460, 109, 560, 547, 584,  27, 539, 265,   0,\n",
       "        581, 473, 363, 617, 283, 631,  57,  44, 575, 279, 189, 263, 371,\n",
       "         17, 645, 654, 166, 223, 223, 117, 432, 524, 406,  41, 622, 164,\n",
       "        217, 309, 444, 497, 515, 219, 481, 623, 580,  75, 310, 563, 342,\n",
       "        265, 519, 162,  66, 377, 374, 333, 227, 269, 402, 644, 465, 424,\n",
       "        296, 606, 266,  75,  15, 624, 483, 572, 345, 294, 600, 121, 492,\n",
       "        528, 189, 621, 459, 495, 263, 420, 294, 602,  37, 515, 233, 341,\n",
       "        427,  60, 518, 631, 383, 232]),\n",
       " array([445, 638, 652, 252, 571, 518, 359, 138, 446, 668, 559, 629, 258,\n",
       "        288, 236, 161, 625, 132, 484, 526, 571, 275, 380,  40, 506,   1,\n",
       "        123, 354, 154, 338, 624,  75,  39, 210, 536,  47,  73, 353, 156,\n",
       "         84, 541,  19, 125, 303, 385, 345, 594, 355, 118, 433,  73, 364,\n",
       "        366, 596, 350, 335,  90, 466,  19, 430, 132, 414,  34, 561,  14,\n",
       "        606, 560,  17, 545, 532, 660, 347, 140, 427, 570, 522, 333,  63,\n",
       "        308, 397, 537, 610, 633, 157,  83, 107, 507,  88, 284, 224, 348,\n",
       "        380,  73, 520,  59,   9, 506, 453, 462,  78, 103, 298, 131,  88,\n",
       "        172, 427, 172, 627, 216, 181, 275, 580, 201, 213, 486, 117, 529,\n",
       "        289, 491, 348,  29, 646, 193, 361, 374, 447,  33, 345,  70, 412,\n",
       "        372, 131, 156, 430, 373, 137, 556,  64, 443, 376, 114, 431, 486,\n",
       "        241,  73, 312, 313, 131, 253, 425, 278, 405, 566,  38, 313,  47,\n",
       "        613, 170, 303, 623, 121, 392, 419,  93, 388, 200, 249,  99, 442,\n",
       "        448, 228, 504, 498, 497, 619, 645, 585, 301, 433, 569, 473, 638,\n",
       "        258, 418, 464, 455, 504, 636, 288, 343,  72, 121, 654, 562, 543,\n",
       "        199, 386, 294, 589,  80,  11, 273, 171, 465, 228, 331, 229, 418,\n",
       "        264, 365, 189, 436, 552,  72, 334, 506, 143,  50,  72, 408, 142,\n",
       "        202, 255, 663,  64, 444, 532, 524, 487, 426,  52, 456, 588, 488,\n",
       "        636, 231, 387, 284, 632, 213, 443, 293, 607,  56, 356, 242, 353,\n",
       "          8, 527, 542, 544, 586, 321,  38, 311,  51, 548,  87,  32, 299,\n",
       "         80, 319,  64,  74, 144, 171, 406, 238,   2, 581, 423, 468, 459,\n",
       "         47, 198, 521, 109,  65, 195, 152, 500, 469, 254,  85, 163, 536,\n",
       "        357, 519, 267, 217, 602, 561,  25,  54, 637, 221, 268, 125, 350,\n",
       "        323,  80, 438, 285, 122, 581, 568,  75, 632, 286, 560, 403,  90,\n",
       "        642, 369, 428,  12, 631, 370, 158, 229, 522, 266, 493, 252, 278,\n",
       "        167, 286,  30, 266, 365, 423, 455, 231, 313, 197, 593, 276, 245,\n",
       "        553, 296, 255, 623, 459, 144, 449, 290, 538, 232,   2, 549, 230,\n",
       "         81, 582, 352, 246, 126,  78, 367, 388, 524, 176, 185, 572, 422,\n",
       "        236,  50, 583, 122, 366, 246, 389, 308, 497,  16, 632, 658, 522,\n",
       "          8, 447, 128, 332, 336, 175, 662, 147, 416, 142, 649, 233, 558,\n",
       "        105, 422, 230, 165, 184,  72, 382,  39, 210, 516, 168,  48, 658,\n",
       "        106, 153, 582, 380, 473, 306, 319,  73, 230, 231, 326, 624, 449,\n",
       "        585, 621,  97, 142, 151, 519, 169, 170, 227, 593, 147, 524, 391,\n",
       "        260,  41,  23,  69, 598, 226, 143, 449, 196, 426, 125, 403, 174,\n",
       "        190,  19, 238, 571, 100, 250, 132, 373, 603, 310, 271,  43, 172,\n",
       "        642, 108, 660, 423, 404, 200, 637, 156, 493, 581, 487, 384, 468,\n",
       "        308, 330, 621, 432, 106, 461, 312, 172, 194, 602, 124, 238,  10,\n",
       "        417, 321,  70, 664, 325, 531, 537, 164,  63, 621, 459, 232, 644,\n",
       "        653, 483, 137, 470, 192, 460, 315, 407, 399, 531, 142,  85, 297,\n",
       "        639, 133, 515, 365, 206, 648, 554, 466,   6, 204, 340, 199, 117,\n",
       "        409, 361,  58,  63, 615, 588, 635, 181, 263, 420, 122,  53,  38,\n",
       "        502, 122, 490, 629, 369, 192, 474,  66, 130, 387, 474, 505, 546,\n",
       "        321,  98,  61, 349, 254, 419, 491, 287, 623, 130, 415,  24, 298,\n",
       "        619, 354, 123, 614, 400, 420, 477, 138, 617,  48, 111, 123, 336,\n",
       "        527, 651, 645, 543, 590, 370, 179, 185, 149, 332, 290, 329, 146,\n",
       "         48, 384,  81, 381, 304,  11,  18, 263, 352, 612, 527, 562, 432,\n",
       "        113, 202, 377, 667, 562, 343, 606, 216, 473,  66, 170,  70,  45,\n",
       "        121,  37, 420,  13, 578,  42, 185,   9, 397, 532, 514, 176, 620,\n",
       "        199, 306, 304, 451, 154,  60, 283, 258, 155,  60, 348, 255, 563,\n",
       "        276, 550, 594,  76, 125, 656,  78, 606, 137, 545, 655, 541, 634,\n",
       "        576, 101, 392, 659, 169, 425, 167, 653, 143, 422, 445, 216, 251,\n",
       "        105, 174, 577, 286,  80, 220]),\n",
       " array([236, 445, 268, 380, 658, 553, 117, 247, 458, 156, 554, 374, 150,\n",
       "        158, 129, 227, 408, 378, 384, 648, 341, 154, 561, 445, 303, 568,\n",
       "        105, 591, 361, 512, 126, 390, 271, 575, 619,  63, 106, 361,  91,\n",
       "        211, 391, 549, 488, 275, 616, 660, 163,  86, 144, 293, 247, 658,\n",
       "        387, 128,  50, 407, 468, 237, 339, 651,  19, 618, 111, 321, 413,\n",
       "        216, 119, 212,  25, 498,   9, 416, 178,  63, 425,  77, 373, 600,\n",
       "         92, 270, 351,  91, 389,  37, 351, 467, 537, 617, 559,  83, 499,\n",
       "        210, 110, 541, 111,  66, 281, 332, 619, 475,  95, 153, 231, 426,\n",
       "        368, 219, 119, 364, 611, 117, 238, 556, 539, 190, 244,  43,  95,\n",
       "         87, 592, 452, 428, 409,   9,  67, 115, 529, 267, 252, 654, 287,\n",
       "        575, 466, 242, 488, 401, 431, 527, 368, 358, 597,  10,  55, 457,\n",
       "        629, 121, 172, 207, 230,  25, 209, 613, 525, 641, 165, 308, 636,\n",
       "        381, 633, 298, 472, 395, 474, 397,  81, 137, 442, 526,  26, 516,\n",
       "        352, 225, 571, 388, 256, 593, 223, 646, 387, 579, 647, 404, 326,\n",
       "        557, 559, 317,  48, 376, 600, 309, 142, 406, 279, 102,  76, 225,\n",
       "        225, 243, 581, 517, 648, 381, 415, 337, 426, 223, 516, 547, 608,\n",
       "        201, 220, 332, 293, 452, 228, 460, 340, 158, 197, 253, 331,  51,\n",
       "        565, 229, 608, 257, 114, 585, 267, 295, 508, 367, 349, 479, 421,\n",
       "        396, 247,  98, 314, 138, 520, 633, 523, 280, 246, 476, 478, 410,\n",
       "        622, 479,   4, 240, 121, 251, 249, 514, 144, 300,  73, 372, 447,\n",
       "         75,  19,  66, 226,  16, 347, 276, 333, 246, 202, 270, 154, 341,\n",
       "        607, 121, 300, 150, 277, 564,  45, 533, 543, 486,  47, 173, 324,\n",
       "        239, 532, 186,  79, 491, 366, 269, 492, 143, 603, 598, 154, 515,\n",
       "        523, 339, 520, 412,  84,  27, 135, 120, 169, 570,  49,  27, 538,\n",
       "        231,  93, 305, 250, 348, 169, 268,  85, 387, 414, 247, 264, 492,\n",
       "        200, 525, 486,  33, 109, 653, 531, 357, 413, 443, 655, 562, 585,\n",
       "        454, 103, 415, 339, 371, 351, 177, 364, 125, 490, 330, 397, 270,\n",
       "        385,  83, 588, 268,   4, 361, 299, 274, 470, 329, 138, 373, 569,\n",
       "          0, 634,  26,  52, 117, 639,  87, 204, 539,   7, 431, 438,  88,\n",
       "        232, 296, 646, 528, 633,  69, 411, 564, 641,   2, 289, 299, 540,\n",
       "        272,  18, 247, 203, 403, 480, 526, 475, 128, 388, 667, 584, 353,\n",
       "        480, 191, 391, 304, 504, 502, 364, 657, 278, 505, 393,  28, 381,\n",
       "        210, 423, 163, 529, 553, 308, 617, 342, 237, 146, 233, 163, 219,\n",
       "        595, 209, 361, 498, 322, 233,  83, 302, 219, 511, 593, 589, 576,\n",
       "        408, 275, 275, 495, 359, 158,   3, 213,  45, 247, 304, 316, 289,\n",
       "        409, 117, 314, 379,  61, 652, 274, 433, 399, 356, 235,  87, 375,\n",
       "        152, 123, 360, 128, 550,  40,   0, 638, 514,  93, 624, 641, 152,\n",
       "        403, 417, 448, 647, 523, 610, 553, 337, 408, 275, 436, 653,  20,\n",
       "        601, 467, 273, 513, 357, 183, 567,  14, 406, 359, 649, 281, 655,\n",
       "        424,  68, 396,  57, 486, 211, 280, 405, 124,  28,  93, 490, 128,\n",
       "        206, 195, 379, 462,  61, 430, 132, 280, 448, 530, 364, 550, 501,\n",
       "         49,  15, 479, 299, 576, 105, 241, 631, 251, 228, 402,   2,  24,\n",
       "         48, 611, 665, 158,  23, 165, 360, 219, 534, 546, 176, 534, 534,\n",
       "        241, 306, 182, 512, 362, 353, 380,  38, 510,  65, 334, 236, 223,\n",
       "        186,  36, 341, 559, 374,  69, 513,  68, 504, 119, 197, 124, 156,\n",
       "        125, 395,  29, 313,  51, 499, 612, 419, 411, 486, 468, 215, 170,\n",
       "        596, 101, 336, 323, 449,  47, 149, 500, 447, 538, 461, 143,  47,\n",
       "        455, 463, 591, 247,  69, 492, 326, 318, 306, 588, 152, 276, 426,\n",
       "        146, 394, 316, 440, 410, 463, 471, 579,  10, 354,  13, 450, 279,\n",
       "        138, 432, 157, 284, 514, 605,   2, 632, 149,   7, 454, 664,  71,\n",
       "         54,  86, 484, 270, 586, 547,  93, 465, 224, 629, 573, 520, 632,\n",
       "        292, 318,  58, 121,  37,   9]),\n",
       " array([610, 206, 633, 284, 155, 230, 299, 648, 559, 402,  91, 274, 641,\n",
       "        588, 105, 450, 586, 165,  40, 506,  75,  40, 618, 563, 291,   8,\n",
       "         42, 353, 241, 295,  19, 627, 551, 440, 578, 352, 443, 491, 213,\n",
       "        534, 339, 268, 662,   8, 322, 130, 516, 431, 542,  66, 240,  47,\n",
       "        188, 358, 179,  27, 462,  52, 260,  13,  91,  22, 404, 336, 108,\n",
       "        628, 437, 402,  39, 102, 494, 546, 382, 606, 291, 378, 543, 218,\n",
       "        105, 340, 223, 275,  51, 329, 311, 653, 169, 613, 378, 516,   6,\n",
       "        438,  70,  95, 538, 443, 308, 507, 135, 330, 441, 554, 417, 225,\n",
       "        639, 539, 599, 236, 491, 619, 615, 419, 552,  80, 171,  84, 541,\n",
       "        246, 389, 206, 410, 299, 605,  15, 262, 201, 135,  99, 364, 570,\n",
       "        548,  34, 308, 425, 546, 396, 335, 630,  97, 632, 438, 124, 124,\n",
       "        432, 519, 160, 169, 571, 153, 329, 430, 447, 189, 323, 360,  90,\n",
       "        112, 643, 131, 138, 323,  48, 179, 351, 102, 430, 615, 254,   7,\n",
       "        128, 596, 225, 575, 449, 373, 214, 204, 368, 289, 638, 282, 506,\n",
       "        240, 452, 610,  84, 276,  46,  74, 386, 123, 116, 667, 272, 434,\n",
       "        641, 180, 500, 407,   3, 602,  14,  61, 279, 409, 372, 128, 287,\n",
       "        350, 375, 393, 552, 397, 242,  96, 296, 165,  74,  43, 603, 388,\n",
       "        344, 471, 283, 459, 222, 282, 280,  77, 362, 372, 423, 321, 594,\n",
       "        466, 597,  53, 157,  40, 263, 185, 339, 229, 458,  86, 266, 441,\n",
       "        602,  14, 139, 485, 100, 158, 560, 313, 533, 237, 431, 264, 433,\n",
       "        390, 517, 264,  38, 326, 107, 632, 649, 367, 200, 359, 333,  35,\n",
       "        645, 501, 611, 614,   8, 165,  94, 448,  97, 437, 507, 617, 463,\n",
       "        363, 182, 565, 644, 282, 228,  56, 527, 109, 540, 478, 497, 102,\n",
       "        665,  71, 163, 441, 435, 177, 136, 621, 555, 230, 649, 362, 354,\n",
       "        142, 468, 105, 220, 363, 647, 624,  18,  98, 569, 231, 419, 230,\n",
       "        142, 210, 365, 331, 136, 281, 462,  42, 537, 535,   9, 131, 395,\n",
       "         11, 628, 417, 326, 578, 518, 551,  33, 204, 358, 406, 645, 531,\n",
       "        244, 628, 136, 436, 459, 490, 130, 165, 605, 303, 270, 324, 105,\n",
       "        616, 121, 460, 111, 372, 261, 580, 505, 527,  22, 191, 509, 426,\n",
       "         46, 230, 451, 103, 329, 401, 561, 282, 390, 642, 181,  14,  67,\n",
       "         59, 160, 313, 415, 255, 309,  81, 190, 182, 411, 558, 255, 397,\n",
       "        102, 169, 376, 398, 496, 623, 272, 568, 320,  11, 530, 458, 283,\n",
       "        125, 304, 597, 182, 565, 452, 117,  49,  18, 435,  94, 431, 325,\n",
       "        452, 182, 350, 483, 645, 611, 109, 292, 421, 320, 365, 271, 472,\n",
       "        371, 368, 598, 290,  39, 364, 279, 116, 411, 660, 226, 287, 624,\n",
       "        309, 538, 351, 296, 389,  83, 450,  72, 378,  29, 637,  34, 302,\n",
       "        416, 357, 390,   2, 278, 313, 515,  94,  57, 194, 236, 562, 256,\n",
       "        208, 406,  73, 436, 435, 120, 111, 632, 396, 117, 405, 370, 193,\n",
       "        600, 309, 540, 497, 191, 229, 214, 579, 449, 104, 181, 563, 116,\n",
       "         19, 486, 557, 285, 167, 193, 519, 354, 399, 101, 561,  22, 450,\n",
       "        118, 451, 515, 596, 450,  14, 238, 126, 455, 168, 114, 109, 531,\n",
       "         31, 598,  24, 570, 411, 543, 246, 614, 204, 183,  86, 162, 275,\n",
       "        249, 202, 198, 116, 436, 348, 348, 330, 426, 233, 623, 500, 648,\n",
       "        118, 138,  70, 342, 167,  28, 611, 226, 307, 148, 185, 142,  54,\n",
       "        505, 332, 600,  31, 570, 207, 297, 421, 160, 653, 279, 152, 170,\n",
       "        493,  44, 284, 494, 125, 567,  32, 240, 501, 263, 241, 367, 665,\n",
       "        296,  40, 472,   5,  13,  61, 393,  55,   1, 188, 116, 368, 375,\n",
       "         51, 255, 301, 616, 441, 168, 333, 118,   7, 630, 602, 642, 618,\n",
       "        421, 483, 622, 518, 495, 297, 576, 291, 176, 153, 147,  48, 287,\n",
       "        492, 121,  21,  64, 189, 457, 513, 601, 446, 419, 420, 448, 108,\n",
       "        415, 129, 656, 167, 331, 263, 578,  11, 594, 385, 395, 347, 443,\n",
       "        103, 648, 531, 386,  86, 163]),\n",
       " array([236,  93, 477, 486, 287, 596, 351, 295, 543, 642, 437, 364, 411,\n",
       "        486, 260, 435, 483, 497, 275, 579, 562, 323, 114,  53, 169, 222,\n",
       "        208,  38, 506, 518, 660, 329, 425, 647,  11,  70, 302, 128, 123,\n",
       "        599, 439,  75, 234, 205, 207, 568, 613, 345,  26, 346, 570, 346,\n",
       "         36, 390, 131, 502, 663, 535, 474, 133, 245, 654, 666,  18, 583,\n",
       "        126, 591, 318, 354, 557, 665, 310, 330, 467, 474, 261, 365, 439,\n",
       "        113,  89,   5,  40, 174, 310, 465, 596, 337, 525, 231, 109, 280,\n",
       "        391,  85,  17, 197, 342, 547, 165, 240, 217,  52,  77, 492, 101,\n",
       "        410,  61, 421,  26, 177, 449, 319, 419,  33,  43, 392,  63, 191,\n",
       "        257, 492, 167, 307, 502, 620, 361, 571, 487, 645,  27, 193, 576,\n",
       "        246,   3, 176, 328,  77, 452, 175,  33, 193,  10,  42, 261, 267,\n",
       "        178, 346, 445, 566, 120, 170, 653, 403, 135, 575, 109, 107, 617,\n",
       "        146,  56,   4, 531, 339,  59, 503,  82, 667, 579, 230, 390, 593,\n",
       "        524, 145, 462, 122,  43, 466, 210, 503, 225, 116, 466, 112, 341,\n",
       "        242, 380, 339,  55,  31, 491, 608, 202,   7, 431, 595, 450, 283,\n",
       "        310, 558, 481, 485, 376,  32, 447,  48, 218, 667, 284, 499, 531,\n",
       "        534,  44, 291, 625,  94, 515, 475, 503, 612, 193, 141, 658, 109,\n",
       "        411, 147, 111,   7, 135, 202, 144, 352,  33, 627, 367, 232, 430,\n",
       "        338, 268, 146, 354, 657, 216, 483, 107, 570, 120, 570, 654, 259,\n",
       "         85, 286,  23, 479,  54, 578, 471, 375, 635, 593, 143, 147, 159,\n",
       "        448, 549, 543, 223,  64, 613, 431, 260, 232, 480, 265, 489,  33,\n",
       "        323, 631, 565, 323, 213, 592, 240, 499, 539, 379, 519, 411, 584,\n",
       "        441, 443, 328, 181, 342, 634, 360, 340, 247, 167,  15, 379, 503,\n",
       "        135, 486, 194,   6, 225, 368, 530,  76,  58, 364, 523, 641, 581,\n",
       "        439, 618, 375, 148, 121, 104, 534, 137, 112, 512, 488,  21, 424,\n",
       "        499, 522, 117, 531, 215,  78, 559, 429, 210, 660, 328, 229, 575,\n",
       "        448, 279,  12, 346, 572, 444,  12,  79, 360, 355, 285, 104, 204,\n",
       "         92,  37, 177, 176, 328, 100, 139, 127, 446, 207, 355, 424, 378,\n",
       "        345, 319, 143, 261,  86, 619, 359,  56,  53, 125, 398, 436, 528,\n",
       "          2, 222,  98,  45, 513, 244, 340, 202, 242, 351, 123, 351,  67,\n",
       "        269, 435,  54, 493, 587, 652, 302, 313, 558, 270, 311, 214, 632,\n",
       "        347, 233, 275, 308, 584,  89, 264, 507, 612, 475, 198, 447,  99,\n",
       "        244,  32,  76, 342, 547, 270, 330, 377, 604, 623, 209, 458, 562,\n",
       "        467, 140,   0, 500, 540, 214, 275, 203, 464, 115, 562, 389, 231,\n",
       "        501, 179, 543, 290, 109, 427,  12, 267, 454, 205,  98, 171, 610,\n",
       "        458, 324,  60,  99, 155, 574, 277, 574, 191, 431,  78, 499, 165,\n",
       "        242, 643,  88, 158,  43, 340, 634,  39, 320, 350,  51,  78, 239,\n",
       "         84, 349, 112,  34, 656, 388, 368, 424, 469, 565, 104, 370,   8,\n",
       "        206, 417, 188, 215, 547, 516,   5, 375, 446,  72,  77, 461, 300,\n",
       "        652, 565, 223, 407, 376, 387, 238, 219,  38, 624, 306,  29, 333,\n",
       "        301,  79, 606, 163, 360,  28, 627, 201, 307,  35,  46, 101, 362,\n",
       "        474, 588, 548, 624,  82, 578,  17, 629, 415, 590, 141, 335, 501,\n",
       "        327, 626, 542, 503,  19, 622,  31, 153, 515, 404, 169, 421, 148,\n",
       "        653, 121, 519, 368, 143, 615, 271, 505,  79, 493, 208, 414, 119,\n",
       "        308, 475, 568, 576, 650, 295, 524, 259, 114, 581, 286, 209, 403,\n",
       "        322, 312, 501, 621,  87,  23, 337, 465, 359,  95, 495,   5, 586,\n",
       "        360, 275, 662, 223, 301, 585,  96,  57, 607, 323, 281, 481,  59,\n",
       "         57,  88, 222, 558,  73, 453, 173, 510, 303, 608, 298,  89, 663,\n",
       "        254, 632, 660, 312, 340, 117,  39, 470, 323, 320, 314, 306, 239,\n",
       "        178, 608, 338, 178, 647, 402,  27,  80, 255, 127, 343, 481, 566,\n",
       "        400,  71, 251, 466,   2, 579,   8, 140, 273,  61, 567, 144, 321,\n",
       "        548, 594, 453, 558, 324, 436]),\n",
       " array([515, 590, 515, 346, 283,  81, 536,  68, 580, 226, 342, 165, 529,\n",
       "        556, 414, 251, 516,  33,  11, 273,  45, 188, 536, 432, 529, 110,\n",
       "        207, 479, 138, 131, 143, 397,  70,  12, 553, 368, 167, 506, 471,\n",
       "        449, 290, 367,  27, 341,  51,  76, 339, 453, 514, 402, 584,  91,\n",
       "        305, 320, 112, 635,  42, 177,  67, 107, 153, 562, 174,  67, 522,\n",
       "        471, 467,  26,  57,  19,  96, 493, 137, 151,   3,  33, 607, 247,\n",
       "        486, 238, 583, 440, 103,  30,  77, 499, 630, 605, 410, 416, 545,\n",
       "        540, 248, 264, 178, 544, 291, 615, 192, 408, 556, 307, 103, 318,\n",
       "        232, 464,  12, 199, 455, 187, 659, 153, 537, 121, 236, 445,  16,\n",
       "        259, 123, 549, 591,  22, 605, 194, 250, 380, 550,  48, 281, 204,\n",
       "        228, 145,   0, 565, 386, 615, 417, 666,  74,  61, 127, 246, 211,\n",
       "        496,  63, 496, 640, 354, 100, 318, 145, 498, 621,  64, 104, 668,\n",
       "        506,  30, 332, 644, 385, 598, 610, 568, 359, 250, 146, 237, 434,\n",
       "        593, 159, 190, 140, 559, 315, 135, 202, 187,  57, 361, 510,  86,\n",
       "        511, 471, 178,  95, 613, 327, 244, 221, 521, 215,   3, 299, 600,\n",
       "        530, 559, 340, 506, 114, 452, 490, 447, 153, 263,  53, 119, 358,\n",
       "        603, 314, 638, 315, 497,  92, 134,  39, 450, 221, 274, 285, 593,\n",
       "        339, 165, 584,  67, 598, 422, 490, 431, 498, 144, 507, 163, 113,\n",
       "          2, 284, 124, 621, 264, 104, 134,  60, 228, 511, 269,  88, 276,\n",
       "        104, 175, 151, 108, 319, 294, 299, 421, 638, 265, 388, 509, 564,\n",
       "        531, 468, 166, 489, 368,  12,   6, 244, 586, 293,  87, 134, 632,\n",
       "         13, 430, 336, 209, 341, 505, 168, 544, 164, 641, 214, 338, 127,\n",
       "        316, 493, 477,  67, 627, 464, 428, 437, 646,  88, 384, 414, 547,\n",
       "        496,  36, 407, 172, 237, 470, 480,  53, 611,  14, 650,   1, 526,\n",
       "        325, 571, 121,  53, 180, 253, 655, 176,  86, 479, 303,  41, 414,\n",
       "        361, 105, 481, 601, 544, 165, 186, 470, 573, 445,  99, 407, 179,\n",
       "        599, 188, 368, 396, 214,  55, 617, 374, 376,   4,  60, 361, 129,\n",
       "        236, 265, 334, 219, 205, 469,  83, 564, 668, 536, 516, 297, 644,\n",
       "        185, 302, 497, 339, 487,  41,  38, 250, 542, 523, 477, 142, 632,\n",
       "        361, 355, 622, 181,  88, 473, 423, 555,  37, 574, 556,  80, 668,\n",
       "        246,  44, 331, 612,  74, 620, 359, 185, 649, 599, 183, 181, 273,\n",
       "        478, 222,  33, 322, 440,  18, 147, 333,  87, 295, 459, 660, 181,\n",
       "        610, 478, 528, 624, 328, 218,  89, 398, 188, 143,  56, 256,  20,\n",
       "        270, 145, 274, 100, 276, 616, 359, 441,  80, 214, 245, 347, 323,\n",
       "        341, 405, 427, 351, 563, 398, 655, 448, 629, 440, 567, 584, 513,\n",
       "        253, 569, 590,  32, 320, 661, 406, 546, 170, 166, 358, 654, 573,\n",
       "        300, 639,  16, 290, 305, 488, 529,  21, 646,  44, 409, 435, 260,\n",
       "        377, 267, 390, 298, 389, 170, 467, 258, 499, 220, 378, 450,  74,\n",
       "         85, 471, 584, 412, 202, 530,  15, 363, 457,  23, 548,  30, 321,\n",
       "        610, 445, 280, 415, 460, 588, 456, 590, 542, 292, 552, 450, 420,\n",
       "        353,  18, 483,   6, 665,   1, 149, 227, 266, 666, 290, 343, 111,\n",
       "        255, 302, 350, 359, 584,  87, 311, 468, 528,  49, 320, 135,  88,\n",
       "        399, 615, 536, 510,  85,   5, 562, 327, 143, 595,  86,  20, 626,\n",
       "        361, 543, 242,  99, 315, 437, 305, 288, 112, 222, 222, 361, 184,\n",
       "        532, 356, 463, 342, 225, 402,  28, 448, 437, 599, 350, 628, 481,\n",
       "        234, 585, 519, 154, 242, 352, 513, 184, 606, 106, 351, 228, 199,\n",
       "        491, 150,  27, 648, 209, 211, 430,  77, 237, 474, 436,  78, 218,\n",
       "        450, 455, 503, 580, 325, 337, 318,  63, 440, 370, 510, 337, 334,\n",
       "        205, 142, 629, 396, 401, 147, 276, 458, 367,  19, 338,  74,  87,\n",
       "        423, 240,  25, 482, 476, 279,  96, 277, 576, 440, 211,   3,  74,\n",
       "        398,  23, 119, 207, 386, 620, 387, 212, 661, 298, 520,   9, 563,\n",
       "        126, 187, 339, 462, 417, 490]),\n",
       " array([172, 419,  59, 659, 222, 442, 430, 638, 553, 334, 258, 645, 409,\n",
       "        263, 565,  38, 238, 411,  57, 110, 119, 174, 390, 455, 117, 567,\n",
       "        503, 118, 195, 141, 168,  11, 431, 208, 444, 257, 144, 457, 114,\n",
       "        219, 580, 376, 587, 664, 103, 100, 501, 243, 233, 537, 528,  96,\n",
       "        214, 651, 175, 179, 662, 493, 255, 109,  57, 440, 487, 210, 195,\n",
       "         46, 193, 404, 462, 303, 344,  83, 266, 276, 559, 348, 597, 350,\n",
       "        105, 242, 645, 666, 613, 107, 117, 668,  38,   0,  19, 422, 400,\n",
       "        200,  60,  13, 511, 230, 508,  74, 542, 195, 616,  49, 121, 378,\n",
       "        278, 532, 159,  22,  28, 404, 160, 514, 586, 100, 653, 488, 507,\n",
       "        496, 205, 251, 162, 442, 423, 263, 503, 323, 196, 236, 639, 533,\n",
       "        294, 626,  71, 232, 449, 613,  80, 344, 297, 274, 572,  43, 567,\n",
       "          7, 209, 228,  45,  40, 557, 649, 376, 462, 621, 213, 316, 254,\n",
       "        661,  26, 110, 301, 380, 218, 395,  27,  23, 442, 324, 400, 165,\n",
       "        168, 204, 547, 507,  28, 595, 404, 182, 490,  47,  88, 290, 565,\n",
       "        317, 382, 621, 396, 491, 510,  40, 614, 307,  82, 355, 149, 393,\n",
       "        159,  78,  14, 572, 439, 599, 252, 465, 537, 354, 656, 194, 480,\n",
       "         81, 140, 219, 581, 516, 584, 659, 247, 422, 318, 163, 318, 657,\n",
       "        135,  70, 466, 126, 427, 518, 620, 556, 347, 201, 456, 533, 200,\n",
       "        520, 419, 157, 632,  40, 361,  83, 558, 170, 287, 397, 621, 412,\n",
       "        307, 309, 311, 417, 110, 119, 190, 250,  59, 185, 546, 347,  42,\n",
       "        664, 218, 309, 625, 327, 285, 460, 312, 582, 326, 445, 237, 149,\n",
       "        619, 485, 270, 280, 251, 527, 626, 589, 212, 654, 272,  63, 356,\n",
       "         98, 242,  97, 535, 525, 223, 317, 209, 430, 462, 160,  95, 425,\n",
       "         49, 282, 374, 192, 384, 237, 163, 599,  29,  47, 468, 140, 214,\n",
       "        565, 440, 480, 227, 330,   7, 419, 230, 183, 484, 614, 128, 289,\n",
       "        113,  11, 620, 222,   7, 496, 536, 301, 326, 495, 288, 422, 563,\n",
       "         45, 310,  73,  82, 355, 588, 457, 510, 154, 580,  58, 389, 519,\n",
       "         38,  50, 606,  24, 210, 489,  84, 167, 308, 325, 153, 261, 636,\n",
       "        227, 604, 178,  64,   2, 564, 602, 243, 322, 532, 659,  15, 639,\n",
       "        261, 179, 577, 609, 225, 236, 579, 310, 484, 602, 604, 457, 281,\n",
       "         89, 455, 255, 348, 645, 488, 248, 332, 290,   4, 443, 416, 493,\n",
       "        380, 577, 287,  96, 579, 448, 557, 573, 514, 215, 208, 141, 478,\n",
       "        538,  45,  78, 455, 450,  62, 551, 442, 189,  30, 421, 375, 627,\n",
       "         35,  65, 430, 406, 108,  59, 237,  82, 243, 169, 568,   2, 325,\n",
       "        602, 554,  21, 102, 633, 529,  53, 664, 374, 242, 189, 378, 410,\n",
       "        370, 475, 660, 292, 582, 378, 626, 138, 164, 159, 407, 492, 285,\n",
       "        207, 437, 367,  29, 358,  81, 198, 123, 145, 139, 421, 263, 307,\n",
       "        148,  55, 340, 354,  51,  48, 426, 266, 663, 371,  83, 391, 334,\n",
       "        358, 148, 406, 649, 119, 368, 267, 606, 614,  62, 348,  44, 133,\n",
       "        498, 537, 525, 286, 666, 305, 335, 348, 187, 432, 493, 417, 426,\n",
       "        138,  48, 226, 364, 347, 187, 250,  51, 522,  81, 271, 477, 524,\n",
       "         15, 260, 307, 291, 619, 392, 424, 160, 201, 152, 105, 214, 198,\n",
       "        613, 251,  92, 198, 285, 560,  56, 472, 574, 166,  33, 638, 503,\n",
       "         35, 218,   9, 290, 226,   4, 152, 236, 534, 525,  49, 508, 254,\n",
       "        221, 315, 227, 473, 202, 513, 252, 588, 444, 554, 121, 111, 154,\n",
       "        274, 140, 657, 239, 324, 179, 472,  21, 499,  95, 167, 273, 503,\n",
       "        344, 116, 392, 429, 216, 222, 613, 370, 664, 468, 176, 259, 289,\n",
       "        564, 148, 603,  94, 622, 323, 388, 233, 294, 550,  79,   3, 460,\n",
       "        431, 632, 584, 132,  63, 657, 458, 178, 437, 308, 198, 145,  36,\n",
       "        479,  41, 566, 646,  80, 483, 175,  45, 443, 466, 180,  33, 281,\n",
       "         76, 357, 105, 419, 283, 141, 328,  70,  92, 305,   6, 542, 324,\n",
       "         79, 516, 431, 160, 342, 204]),\n",
       " array([405,  16, 557, 154,  72, 598,  72, 217,  38, 524, 181, 392, 363,\n",
       "        562,  42, 102, 249, 662, 434, 308, 105, 184,  35, 146, 468, 350,\n",
       "        293, 501, 172, 255, 622, 585, 237, 196, 592, 474, 380, 578, 393,\n",
       "        289,  41, 566, 224, 585, 194, 358, 513, 596, 447, 229, 247, 251,\n",
       "        297, 399,  52, 252, 285, 515, 634, 451, 431, 318, 340,  42, 650,\n",
       "        326, 325, 353, 534, 236, 129, 288, 218, 418, 403, 109, 589, 425,\n",
       "        561, 494, 342, 575, 206, 491, 323, 430, 168, 504, 146, 314, 431,\n",
       "        268,  65, 613, 301, 146, 633, 370, 280, 639, 657,  89,  19, 356,\n",
       "        449, 659, 351, 443,  68, 217, 610, 221, 424, 439, 666, 303,  72,\n",
       "        513, 258, 257, 661, 109, 514, 179, 555, 433, 356, 365, 512, 496,\n",
       "        571, 369,  20, 267, 217, 505, 540, 350, 253, 423, 293, 466,  34,\n",
       "        335,  10, 318, 595, 214, 238, 401, 212, 366, 229, 232, 268, 197,\n",
       "        320, 460, 237, 329, 330, 234, 141,  94, 257, 187, 366, 398, 296,\n",
       "        435, 637, 590, 442, 544, 152,  90,  38, 501, 567, 451, 543, 398,\n",
       "        446, 505,  96, 332, 554, 496, 311, 480, 358, 120, 482, 506, 198,\n",
       "        154, 592,  83, 300, 232, 158,  28, 336, 141,  55,  37, 168,  69,\n",
       "        406, 370, 494,  66, 391, 373, 195, 176,  95,  93, 190, 320,  33,\n",
       "        390,  92, 333, 240, 443, 409, 343, 564, 421, 666, 139, 355, 307,\n",
       "         88, 565, 579, 305, 533, 341, 513, 451, 373, 574, 604, 227,  47,\n",
       "        317, 260, 493, 468, 196, 241,  94, 530, 573, 553,  97, 487, 275,\n",
       "        142, 460, 614, 571, 361,  45, 406,  15, 514,  51,  43, 660, 187,\n",
       "        617,  51, 277,  86, 132,  38, 529,  55, 347, 260, 152,   9, 533,\n",
       "        241, 616, 667,  10, 431, 621, 264,  12, 181, 423,  66, 351, 130,\n",
       "        412, 446, 162, 599,  31, 648, 152, 502, 108, 660, 255, 186, 358,\n",
       "         68, 132, 473, 164, 231, 239, 333, 132, 228, 177, 387, 316, 322,\n",
       "         31, 540,  22, 604, 584, 591, 248, 320, 443, 401, 158, 286,  40,\n",
       "        343, 529, 394, 238, 533, 100, 301, 623,  52, 587, 510, 439, 532,\n",
       "        643, 225, 211, 181,  71, 183, 299, 407,  31, 622, 108,  97, 230,\n",
       "         74,  50, 503, 240, 330,  76, 497, 442, 142,  46, 162, 395, 451,\n",
       "        149, 195, 312, 619, 645,  83, 212,  96, 181, 520, 637, 557, 268,\n",
       "        118, 585,  68, 563, 193, 156, 553, 316, 617, 652, 202, 301, 276,\n",
       "        102, 185, 268,  17, 278, 274, 460, 610, 459, 147, 619,  12, 112,\n",
       "        365, 596, 628, 603, 467, 311, 333, 254, 526, 240, 639, 574, 612,\n",
       "        143, 129, 305, 107, 664, 425, 476, 165, 161, 662, 534, 556, 150,\n",
       "        242, 316, 303, 464, 191, 467, 542, 261, 400,  14, 272, 520, 611,\n",
       "        395, 339, 385, 660, 200,  98, 246, 246, 242, 284, 178,  50, 571,\n",
       "         66,  43, 468,   3, 599, 396, 552, 427, 593, 268, 277, 292, 269,\n",
       "        135, 453, 173, 429,  27, 380, 227, 661, 470, 256, 157, 466, 406,\n",
       "        220, 484, 210,   4, 482,  43, 109, 495, 153,  34, 567, 426, 416,\n",
       "         45, 665, 601,  24,  10, 466,  88, 109, 187, 420, 123,   9, 515,\n",
       "        396, 213,  87, 421, 211, 512, 593,  26, 296, 239, 118, 452, 300,\n",
       "        128, 512, 355,  35, 169,  18, 235, 607, 568, 489, 543, 505, 559,\n",
       "        337, 517, 598, 486, 200, 312, 229, 221, 304, 604, 428, 503, 652,\n",
       "        488, 604, 290, 623, 241,   7,  77, 555, 644, 536, 118, 536, 599,\n",
       "        340, 100, 384,  36, 562, 360, 283, 325, 359,  17,   8, 117,  22,\n",
       "        285, 112,  51, 467, 547,  59,  73,  90, 619, 591,  26, 582, 554,\n",
       "         75, 536, 105, 363, 283, 348, 467, 258, 258, 355, 176,  68, 609,\n",
       "         20, 121, 135, 175, 288, 196, 211, 617,  27, 291, 279, 500, 291,\n",
       "        494, 174, 196, 630, 139, 462, 172,  23, 227, 440, 574, 290, 485,\n",
       "        443, 525, 269, 603, 621, 270, 198, 243, 586, 128,  79, 434, 454,\n",
       "        602, 389, 483,  73, 430, 435, 583, 436, 191, 203,  23, 410, 127,\n",
       "        129, 612, 159, 366, 630, 657]),\n",
       " array([267,  46, 304, 486,  54, 563, 397, 241, 308, 374, 527, 211, 378,\n",
       "        601, 463, 180,  98, 492, 195, 307,  39, 176, 406, 507, 222, 163,\n",
       "        508, 434, 605, 567, 378, 251, 562, 239, 603, 245, 343,  66, 215,\n",
       "        467, 160, 123, 155, 160, 411, 542, 163, 626, 552,  78, 431, 108,\n",
       "         47, 319, 641,   9, 479, 317, 328, 326, 282, 144,  31, 407, 576,\n",
       "        571, 126, 288, 288, 334, 467, 466, 524, 166, 558, 110, 294, 487,\n",
       "        379, 319, 243, 638, 512, 154, 374,  40,  36, 371, 150, 658,  14,\n",
       "        256, 602,  87, 550, 114, 161, 549, 512, 447, 170,  79, 221, 545,\n",
       "        295, 566, 347, 492,  62, 533, 134, 665, 397, 628,  61, 516,  21,\n",
       "        547, 211,  42, 570, 527, 167, 138, 178, 270, 247, 643, 528, 156,\n",
       "        607, 192, 476, 349, 313, 409, 131, 462, 255, 396, 164,  43, 254,\n",
       "        379,  35,  18,  31,  15, 446, 605,  55,  17, 406, 372, 169, 554,\n",
       "        216, 425, 237, 238, 200, 470, 535,  34, 435, 196,  99, 250, 448,\n",
       "        270, 453, 664, 493,  44, 103, 147, 266, 306, 274, 111, 279, 190,\n",
       "        630, 441, 132, 491,  27, 110, 585, 163, 485, 579, 615,  34,  18,\n",
       "        618,  27, 525, 530,  71, 250, 572, 635, 459, 358, 138, 464,  37,\n",
       "        280, 173, 369, 261, 289, 351, 453, 175,  91, 256,  75, 374,  67,\n",
       "        655, 159, 149,  57,  56,  62, 381, 397,  66, 611, 560,  30, 494,\n",
       "         38,  76, 425, 361, 381, 421, 617, 249, 207,  71, 408, 126, 182,\n",
       "        151, 181, 591, 160, 468, 448, 501, 613, 134,  75, 362, 581,  96,\n",
       "        397, 629, 655, 296, 105, 243, 349, 424, 443, 154, 489, 606, 297,\n",
       "        199,  39, 410, 167, 633, 365, 175, 616,  80, 416, 629, 490, 552,\n",
       "        118, 596, 549, 306, 448, 591, 111, 572, 306, 309, 587, 575, 373,\n",
       "        206, 343, 284, 382,  40, 377, 615, 447, 398, 510,  98, 136, 102,\n",
       "        453, 393, 388, 499, 518, 523, 410,  64, 222,  19, 629, 263, 216,\n",
       "        170, 212,  93,  51, 588, 131, 495,  77,  78, 541,  82, 290, 222,\n",
       "         37, 372, 533, 246, 209, 185, 653, 296, 351, 663, 481, 400, 150,\n",
       "        182, 271, 383, 183, 636, 556, 325, 599, 275, 216, 415, 414,  78,\n",
       "        276, 302, 449, 666, 550, 595, 327, 622, 424,  34,  17, 560, 418,\n",
       "        591, 370, 363, 278, 308, 392, 524, 376, 289,  56, 533, 427, 376,\n",
       "         19, 275, 425, 209, 442, 346, 177, 630, 126, 557, 211, 522,  79,\n",
       "        377, 613, 285, 324, 198, 512, 636, 135, 430, 656, 423, 153, 506,\n",
       "        508,  32, 485, 428, 151, 116, 279, 348, 268, 586, 239, 326, 530,\n",
       "        242, 336, 268, 334, 554, 621, 328, 470,  40, 209,   3,  39, 543,\n",
       "        663, 235, 296, 357,  21,  97, 565, 401, 324,  94,   6, 378, 430,\n",
       "        221,  49, 482, 406, 220, 562, 333, 306, 236, 360, 497, 507, 188,\n",
       "        146, 598, 276, 311, 144, 371, 394, 463, 590, 296, 612, 619, 414,\n",
       "         72, 372, 112, 208,  75, 229, 457, 317, 656, 479,  25,  14, 460,\n",
       "        318, 645, 306, 648, 484, 291, 637, 164, 115, 470, 605, 438, 217,\n",
       "        292, 345, 569, 282, 200, 297, 520,  88, 182, 361,  84, 644,  79,\n",
       "         68,  13, 331, 389, 423, 300,  50, 615, 347, 629, 613, 612, 590,\n",
       "        411, 271, 380, 529, 454, 455, 206, 484, 490, 542, 284,  98, 385,\n",
       "        127, 274, 443, 136, 333, 598, 653, 565, 337, 380, 145,  21, 584,\n",
       "        513, 479, 638,  83, 549, 104,  46, 609,  31,  88, 589, 183,  55,\n",
       "        523, 528,   2, 210, 560, 256, 552, 519, 132, 337,  56,  47, 470,\n",
       "        507, 518, 519, 201, 536, 244, 503,  57,   8,   4, 534, 331, 277,\n",
       "        128, 581, 384, 185,  24, 203,  18, 666, 472, 495,  65, 125, 169,\n",
       "        561, 622,  49, 581, 207, 661, 263,  73,  64, 232, 648, 294, 495,\n",
       "        592, 305, 395, 382, 197, 178, 246, 104, 254, 237, 290, 220, 553,\n",
       "        535, 584,  25, 299, 229,  44, 386, 354,  30, 230, 528, 126, 494,\n",
       "        237, 422, 337,  70, 213, 308, 222, 626, 642, 649, 456, 501, 479,\n",
       "        588, 409, 487, 112, 144, 393])]"
      ]
     },
     "execution_count": 254,
     "metadata": {},
     "output_type": "execute_result"
    }
   ],
   "source": [
    "bag_model.estimators_samples_ #her bir ağaçta kullanılacak örneklerin bilgisini verir"
   ]
  },
  {
   "cell_type": "markdown",
   "id": "b39ae06b-d26a-485c-9be3-4849472cf846",
   "metadata": {},
   "source": [
    "**TAHMİN**"
   ]
  },
  {
   "cell_type": "code",
   "execution_count": 255,
   "id": "2ca547f4-573d-4f3c-8460-1300d3d7146f",
   "metadata": {
    "tags": []
   },
   "outputs": [],
   "source": [
    "y_pred = bag_model.predict(X_test)"
   ]
  },
  {
   "cell_type": "code",
   "execution_count": 256,
   "id": "c80c94cd-076f-48cb-9402-1c2f05d875cf",
   "metadata": {
    "tags": []
   },
   "outputs": [
    {
     "data": {
      "text/plain": [
       "5984.0240139751595"
      ]
     },
     "execution_count": 256,
     "metadata": {},
     "output_type": "execute_result"
    }
   ],
   "source": [
    "np.sqrt(mean_squared_error(y_test, y_pred))#tune edilmeden önceki ilkel test değerleri"
   ]
  },
  {
   "cell_type": "code",
   "execution_count": 257,
   "id": "572ac30b-c6fb-4d95-9580-cdc3d940739b",
   "metadata": {
    "tags": []
   },
   "outputs": [],
   "source": [
    "iki_y = bag_model.estimators_[1].fit(X_train, y_train)#2 numaralı ağacın fikri"
   ]
  },
  {
   "cell_type": "code",
   "execution_count": 258,
   "id": "30a38f28-3a50-4354-9bad-21b9a3461085",
   "metadata": {
    "tags": []
   },
   "outputs": [],
   "source": [
    "iki_y_pred=iki_y.predict(X_test)"
   ]
  },
  {
   "cell_type": "code",
   "execution_count": 259,
   "id": "c0b42939-ca04-453f-966d-a7701e4c4df7",
   "metadata": {
    "tags": []
   },
   "outputs": [
    {
     "data": {
      "text/plain": [
       "7339.015567337942"
      ]
     },
     "execution_count": 259,
     "metadata": {},
     "output_type": "execute_result"
    }
   ],
   "source": [
    "np.sqrt(mean_squared_error(y_test, iki_y_pred))"
   ]
  },
  {
   "cell_type": "code",
   "execution_count": 260,
   "id": "a0c40115-0ce4-405c-a394-3bc2bc1753b6",
   "metadata": {
    "tags": []
   },
   "outputs": [],
   "source": [
    "sekiz_y_pred = bag_model.estimators_[7].fit(X_train, y_train).predict(X_test)"
   ]
  },
  {
   "cell_type": "markdown",
   "id": "7542ff61-020a-4524-8721-00445096d704",
   "metadata": {},
   "source": [
    "eldeki tahmin değeri ile gerçek değer karşılaştırılıp hata hesaplanıyor"
   ]
  },
  {
   "cell_type": "code",
   "execution_count": 261,
   "id": "e8a5ea7f-8580-4fdf-a818-e197c681126c",
   "metadata": {
    "tags": []
   },
   "outputs": [
    {
     "data": {
      "text/plain": [
       "7579.857531619202"
      ]
     },
     "execution_count": 261,
     "metadata": {},
     "output_type": "execute_result"
    }
   ],
   "source": [
    "np.sqrt(mean_squared_error(y_test, sekiz_y_pred)) #model üzerinden test hatasını alalım"
   ]
  },
  {
   "cell_type": "markdown",
   "id": "e038f213-99ba-4754-b365-1a2e6d85e329",
   "metadata": {},
   "source": [
    "**MODEL TUNİNG**"
   ]
  },
  {
   "cell_type": "code",
   "execution_count": 326,
   "id": "6a9ba6e5-bf31-4ac6-888f-f4b42e07d02b",
   "metadata": {
    "tags": []
   },
   "outputs": [
    {
     "data": {
      "text/html": [
       "<style>#sk-container-id-11 {color: black;}#sk-container-id-11 pre{padding: 0;}#sk-container-id-11 div.sk-toggleable {background-color: white;}#sk-container-id-11 label.sk-toggleable__label {cursor: pointer;display: block;width: 100%;margin-bottom: 0;padding: 0.3em;box-sizing: border-box;text-align: center;}#sk-container-id-11 label.sk-toggleable__label-arrow:before {content: \"▸\";float: left;margin-right: 0.25em;color: #696969;}#sk-container-id-11 label.sk-toggleable__label-arrow:hover:before {color: black;}#sk-container-id-11 div.sk-estimator:hover label.sk-toggleable__label-arrow:before {color: black;}#sk-container-id-11 div.sk-toggleable__content {max-height: 0;max-width: 0;overflow: hidden;text-align: left;background-color: #f0f8ff;}#sk-container-id-11 div.sk-toggleable__content pre {margin: 0.2em;color: black;border-radius: 0.25em;background-color: #f0f8ff;}#sk-container-id-11 input.sk-toggleable__control:checked~div.sk-toggleable__content {max-height: 200px;max-width: 100%;overflow: auto;}#sk-container-id-11 input.sk-toggleable__control:checked~label.sk-toggleable__label-arrow:before {content: \"▾\";}#sk-container-id-11 div.sk-estimator input.sk-toggleable__control:checked~label.sk-toggleable__label {background-color: #d4ebff;}#sk-container-id-11 div.sk-label input.sk-toggleable__control:checked~label.sk-toggleable__label {background-color: #d4ebff;}#sk-container-id-11 input.sk-hidden--visually {border: 0;clip: rect(1px 1px 1px 1px);clip: rect(1px, 1px, 1px, 1px);height: 1px;margin: -1px;overflow: hidden;padding: 0;position: absolute;width: 1px;}#sk-container-id-11 div.sk-estimator {font-family: monospace;background-color: #f0f8ff;border: 1px dotted black;border-radius: 0.25em;box-sizing: border-box;margin-bottom: 0.5em;}#sk-container-id-11 div.sk-estimator:hover {background-color: #d4ebff;}#sk-container-id-11 div.sk-parallel-item::after {content: \"\";width: 100%;border-bottom: 1px solid gray;flex-grow: 1;}#sk-container-id-11 div.sk-label:hover label.sk-toggleable__label {background-color: #d4ebff;}#sk-container-id-11 div.sk-serial::before {content: \"\";position: absolute;border-left: 1px solid gray;box-sizing: border-box;top: 0;bottom: 0;left: 50%;z-index: 0;}#sk-container-id-11 div.sk-serial {display: flex;flex-direction: column;align-items: center;background-color: white;padding-right: 0.2em;padding-left: 0.2em;position: relative;}#sk-container-id-11 div.sk-item {position: relative;z-index: 1;}#sk-container-id-11 div.sk-parallel {display: flex;align-items: stretch;justify-content: center;background-color: white;position: relative;}#sk-container-id-11 div.sk-item::before, #sk-container-id-11 div.sk-parallel-item::before {content: \"\";position: absolute;border-left: 1px solid gray;box-sizing: border-box;top: 0;bottom: 0;left: 50%;z-index: -1;}#sk-container-id-11 div.sk-parallel-item {display: flex;flex-direction: column;z-index: 1;position: relative;background-color: white;}#sk-container-id-11 div.sk-parallel-item:first-child::after {align-self: flex-end;width: 50%;}#sk-container-id-11 div.sk-parallel-item:last-child::after {align-self: flex-start;width: 50%;}#sk-container-id-11 div.sk-parallel-item:only-child::after {width: 0;}#sk-container-id-11 div.sk-dashed-wrapped {border: 1px dashed gray;margin: 0 0.4em 0.5em 0.4em;box-sizing: border-box;padding-bottom: 0.4em;background-color: white;}#sk-container-id-11 div.sk-label label {font-family: monospace;font-weight: bold;display: inline-block;line-height: 1.2em;}#sk-container-id-11 div.sk-label-container {text-align: center;}#sk-container-id-11 div.sk-container {/* jupyter's `normalize.less` sets `[hidden] { display: none; }` but bootstrap.min.css set `[hidden] { display: none !important; }` so we also need the `!important` here to be able to override the default hidden behavior on the sphinx rendered scikit-learn.org. See: https://github.com/scikit-learn/scikit-learn/issues/21755 */display: inline-block !important;position: relative;}#sk-container-id-11 div.sk-text-repr-fallback {display: none;}</style><div id=\"sk-container-id-11\" class=\"sk-top-container\"><div class=\"sk-text-repr-fallback\"><pre>BaggingRegressor()</pre><b>In a Jupyter environment, please rerun this cell to show the HTML representation or trust the notebook. <br />On GitHub, the HTML representation is unable to render, please try loading this page with nbviewer.org.</b></div><div class=\"sk-container\" hidden><div class=\"sk-item\"><div class=\"sk-estimator sk-toggleable\"><input class=\"sk-toggleable__control sk-hidden--visually\" id=\"sk-estimator-id-11\" type=\"checkbox\" checked><label for=\"sk-estimator-id-11\" class=\"sk-toggleable__label sk-toggleable__label-arrow\">BaggingRegressor</label><div class=\"sk-toggleable__content\"><pre>BaggingRegressor()</pre></div></div></div></div></div>"
      ],
      "text/plain": [
       "BaggingRegressor()"
      ]
     },
     "execution_count": 326,
     "metadata": {},
     "output_type": "execute_result"
    }
   ],
   "source": [
    "bag_model = BaggingRegressor()\n",
    "bag_model.fit(X_train, y_train)"
   ]
  },
  {
   "cell_type": "code",
   "execution_count": 327,
   "id": "a3430f05-5353-4fae-8948-89a978861f69",
   "metadata": {
    "tags": []
   },
   "outputs": [],
   "source": [
    "bag_params = {\"n_estimators\": range(2,20)}"
   ]
  },
  {
   "cell_type": "code",
   "execution_count": 328,
   "id": "9c2d5daa-cd61-4e83-9f4c-038d16167b05",
   "metadata": {
    "tags": []
   },
   "outputs": [],
   "source": [
    "bag_cv_model = GridSearchCV(bag_model, bag_params, cv = 10).fit(X_train, y_train)"
   ]
  },
  {
   "cell_type": "code",
   "execution_count": 329,
   "id": "db29d830-9345-4963-ba93-641f901027b6",
   "metadata": {
    "tags": []
   },
   "outputs": [
    {
     "data": {
      "text/plain": [
       "{'n_estimators': 14}"
      ]
     },
     "execution_count": 329,
     "metadata": {},
     "output_type": "execute_result"
    }
   ],
   "source": [
    "bag_cv_model.best_params_ # en iyi hiperparametre setine ulaştık. , 18 alt model kullanılmış."
   ]
  },
  {
   "cell_type": "code",
   "execution_count": 330,
   "id": "02eb6a73-3687-4694-a7bd-ce0c66e5cf42",
   "metadata": {
    "tags": []
   },
   "outputs": [],
   "source": [
    "bag_tuned = BaggingRegressor( n_estimators = 14, random_state=45) #her çalıştırdığımızda farklı örnekler seçmesin diye random_state'e bir değer atadık"
   ]
  },
  {
   "cell_type": "code",
   "execution_count": 331,
   "id": "3c87d3f4-0c9f-4c30-bae4-c620021a453b",
   "metadata": {
    "tags": []
   },
   "outputs": [
    {
     "data": {
      "text/html": [
       "<style>#sk-container-id-12 {color: black;}#sk-container-id-12 pre{padding: 0;}#sk-container-id-12 div.sk-toggleable {background-color: white;}#sk-container-id-12 label.sk-toggleable__label {cursor: pointer;display: block;width: 100%;margin-bottom: 0;padding: 0.3em;box-sizing: border-box;text-align: center;}#sk-container-id-12 label.sk-toggleable__label-arrow:before {content: \"▸\";float: left;margin-right: 0.25em;color: #696969;}#sk-container-id-12 label.sk-toggleable__label-arrow:hover:before {color: black;}#sk-container-id-12 div.sk-estimator:hover label.sk-toggleable__label-arrow:before {color: black;}#sk-container-id-12 div.sk-toggleable__content {max-height: 0;max-width: 0;overflow: hidden;text-align: left;background-color: #f0f8ff;}#sk-container-id-12 div.sk-toggleable__content pre {margin: 0.2em;color: black;border-radius: 0.25em;background-color: #f0f8ff;}#sk-container-id-12 input.sk-toggleable__control:checked~div.sk-toggleable__content {max-height: 200px;max-width: 100%;overflow: auto;}#sk-container-id-12 input.sk-toggleable__control:checked~label.sk-toggleable__label-arrow:before {content: \"▾\";}#sk-container-id-12 div.sk-estimator input.sk-toggleable__control:checked~label.sk-toggleable__label {background-color: #d4ebff;}#sk-container-id-12 div.sk-label input.sk-toggleable__control:checked~label.sk-toggleable__label {background-color: #d4ebff;}#sk-container-id-12 input.sk-hidden--visually {border: 0;clip: rect(1px 1px 1px 1px);clip: rect(1px, 1px, 1px, 1px);height: 1px;margin: -1px;overflow: hidden;padding: 0;position: absolute;width: 1px;}#sk-container-id-12 div.sk-estimator {font-family: monospace;background-color: #f0f8ff;border: 1px dotted black;border-radius: 0.25em;box-sizing: border-box;margin-bottom: 0.5em;}#sk-container-id-12 div.sk-estimator:hover {background-color: #d4ebff;}#sk-container-id-12 div.sk-parallel-item::after {content: \"\";width: 100%;border-bottom: 1px solid gray;flex-grow: 1;}#sk-container-id-12 div.sk-label:hover label.sk-toggleable__label {background-color: #d4ebff;}#sk-container-id-12 div.sk-serial::before {content: \"\";position: absolute;border-left: 1px solid gray;box-sizing: border-box;top: 0;bottom: 0;left: 50%;z-index: 0;}#sk-container-id-12 div.sk-serial {display: flex;flex-direction: column;align-items: center;background-color: white;padding-right: 0.2em;padding-left: 0.2em;position: relative;}#sk-container-id-12 div.sk-item {position: relative;z-index: 1;}#sk-container-id-12 div.sk-parallel {display: flex;align-items: stretch;justify-content: center;background-color: white;position: relative;}#sk-container-id-12 div.sk-item::before, #sk-container-id-12 div.sk-parallel-item::before {content: \"\";position: absolute;border-left: 1px solid gray;box-sizing: border-box;top: 0;bottom: 0;left: 50%;z-index: -1;}#sk-container-id-12 div.sk-parallel-item {display: flex;flex-direction: column;z-index: 1;position: relative;background-color: white;}#sk-container-id-12 div.sk-parallel-item:first-child::after {align-self: flex-end;width: 50%;}#sk-container-id-12 div.sk-parallel-item:last-child::after {align-self: flex-start;width: 50%;}#sk-container-id-12 div.sk-parallel-item:only-child::after {width: 0;}#sk-container-id-12 div.sk-dashed-wrapped {border: 1px dashed gray;margin: 0 0.4em 0.5em 0.4em;box-sizing: border-box;padding-bottom: 0.4em;background-color: white;}#sk-container-id-12 div.sk-label label {font-family: monospace;font-weight: bold;display: inline-block;line-height: 1.2em;}#sk-container-id-12 div.sk-label-container {text-align: center;}#sk-container-id-12 div.sk-container {/* jupyter's `normalize.less` sets `[hidden] { display: none; }` but bootstrap.min.css set `[hidden] { display: none !important; }` so we also need the `!important` here to be able to override the default hidden behavior on the sphinx rendered scikit-learn.org. See: https://github.com/scikit-learn/scikit-learn/issues/21755 */display: inline-block !important;position: relative;}#sk-container-id-12 div.sk-text-repr-fallback {display: none;}</style><div id=\"sk-container-id-12\" class=\"sk-top-container\"><div class=\"sk-text-repr-fallback\"><pre>BaggingRegressor(n_estimators=14, random_state=45)</pre><b>In a Jupyter environment, please rerun this cell to show the HTML representation or trust the notebook. <br />On GitHub, the HTML representation is unable to render, please try loading this page with nbviewer.org.</b></div><div class=\"sk-container\" hidden><div class=\"sk-item\"><div class=\"sk-estimator sk-toggleable\"><input class=\"sk-toggleable__control sk-hidden--visually\" id=\"sk-estimator-id-12\" type=\"checkbox\" checked><label for=\"sk-estimator-id-12\" class=\"sk-toggleable__label sk-toggleable__label-arrow\">BaggingRegressor</label><div class=\"sk-toggleable__content\"><pre>BaggingRegressor(n_estimators=14, random_state=45)</pre></div></div></div></div></div>"
      ],
      "text/plain": [
       "BaggingRegressor(n_estimators=14, random_state=45)"
      ]
     },
     "execution_count": 331,
     "metadata": {},
     "output_type": "execute_result"
    }
   ],
   "source": [
    "bag_tuned.fit(X_train, y_train)"
   ]
  },
  {
   "cell_type": "code",
   "execution_count": 332,
   "id": "fd3b6fa4-2ab5-4a4c-be7c-a9cf06a0c9cd",
   "metadata": {
    "tags": []
   },
   "outputs": [],
   "source": [
    "y_pred = bag_tuned.predict(X_test)"
   ]
  },
  {
   "cell_type": "code",
   "execution_count": 333,
   "id": "3214802b-77af-459e-9461-21136aa1aead",
   "metadata": {
    "tags": []
   },
   "outputs": [
    {
     "data": {
      "text/plain": [
       "5673.595655574779"
      ]
     },
     "execution_count": 333,
     "metadata": {},
     "output_type": "execute_result"
    }
   ],
   "source": [
    "np.sqrt(mean_squared_error(y_test, y_pred)) #model üzerinden test hatasını alalım"
   ]
  },
  {
   "cell_type": "code",
   "execution_count": 334,
   "id": "6d9fdd33-d1ce-4fb9-b3c0-7d2ad5dbcb3f",
   "metadata": {
    "tags": []
   },
   "outputs": [
    {
     "data": {
      "text/plain": [
       "0.730235525316"
      ]
     },
     "execution_count": 334,
     "metadata": {},
     "output_type": "execute_result"
    }
   ],
   "source": [
    "r2=r2_score(y_test, y_pred)\n",
    "r2"
   ]
  },
  {
   "cell_type": "markdown",
   "id": "fd69d49f-6dec-418c-9926-de5ebd095ef8",
   "metadata": {},
   "source": [
    "**Doğrusal (lineer) SVR**"
   ]
  },
  {
   "cell_type": "code",
   "execution_count": 271,
   "id": "683376ac-12f0-4974-ba30-d084e9750dba",
   "metadata": {
    "tags": []
   },
   "outputs": [],
   "source": [
    "hit = pd.read_excel(\"güncellenmiş_veriSeti.xlsx\")\n",
    "df = hit.copy()\n",
    "dms = pd.get_dummies(df[['sex', 'smoker', 'region']])\n",
    "y = df[\"charges\"]\n",
    "X_ = df.drop(['charges', 'sex', 'smoker', 'region'], axis=1).astype('float64')\n",
    "X_train, X_test, y_train, y_test = train_test_split(X, y, \n",
    "                                                    test_size=0.25, \n",
    "                                                    random_state=60)\n"
   ]
  },
  {
   "cell_type": "markdown",
   "id": "76277c14-705c-46a5-9f04-7383996aed70",
   "metadata": {},
   "source": [
    "Basit doğrusal regresyon ile aralarındaki durumu değerlendirmek adına sadece tek bir değişken alarak SVR'ı kullanacağız\n",
    "age değişkenini seçelim, bağımsız değişkenin train ve test'ini hit için oluşturalım. Bağımlı değişken y'nin train ve testi zaten aynı "
   ]
  },
  {
   "cell_type": "code",
   "execution_count": 272,
   "id": "eacd9b42-a784-41f3-b1d8-7b259c6552bb",
   "metadata": {
    "tags": []
   },
   "outputs": [],
   "source": [
    "X_train = pd.DataFrame(X_train[\"age\"])\n",
    "X_test = pd.DataFrame(X_test[\"age\"])"
   ]
  },
  {
   "cell_type": "code",
   "execution_count": 273,
   "id": "a18c3b89-5c61-4a3a-8dfb-48cf9def893a",
   "metadata": {
    "tags": []
   },
   "outputs": [
    {
     "data": {
      "text/html": [
       "<div>\n",
       "<style scoped>\n",
       "    .dataframe tbody tr th:only-of-type {\n",
       "        vertical-align: middle;\n",
       "    }\n",
       "\n",
       "    .dataframe tbody tr th {\n",
       "        vertical-align: top;\n",
       "    }\n",
       "\n",
       "    .dataframe thead th {\n",
       "        text-align: right;\n",
       "    }\n",
       "</style>\n",
       "<table border=\"1\" class=\"dataframe\">\n",
       "  <thead>\n",
       "    <tr style=\"text-align: right;\">\n",
       "      <th></th>\n",
       "      <th>age</th>\n",
       "    </tr>\n",
       "  </thead>\n",
       "  <tbody>\n",
       "    <tr>\n",
       "      <th>1120</th>\n",
       "      <td>23.0</td>\n",
       "    </tr>\n",
       "    <tr>\n",
       "      <th>566</th>\n",
       "      <td>38.0</td>\n",
       "    </tr>\n",
       "    <tr>\n",
       "      <th>198</th>\n",
       "      <td>51.0</td>\n",
       "    </tr>\n",
       "    <tr>\n",
       "      <th>139</th>\n",
       "      <td>22.0</td>\n",
       "    </tr>\n",
       "    <tr>\n",
       "      <th>248</th>\n",
       "      <td>19.0</td>\n",
       "    </tr>\n",
       "    <tr>\n",
       "      <th>...</th>\n",
       "      <td>...</td>\n",
       "    </tr>\n",
       "    <tr>\n",
       "      <th>72</th>\n",
       "      <td>53.0</td>\n",
       "    </tr>\n",
       "    <tr>\n",
       "      <th>99</th>\n",
       "      <td>38.0</td>\n",
       "    </tr>\n",
       "    <tr>\n",
       "      <th>399</th>\n",
       "      <td>18.0</td>\n",
       "    </tr>\n",
       "    <tr>\n",
       "      <th>1089</th>\n",
       "      <td>56.0</td>\n",
       "    </tr>\n",
       "    <tr>\n",
       "      <th>205</th>\n",
       "      <td>28.0</td>\n",
       "    </tr>\n",
       "  </tbody>\n",
       "</table>\n",
       "<p>1003 rows × 1 columns</p>\n",
       "</div>"
      ],
      "text/plain": [
       "       age\n",
       "1120  23.0\n",
       "566   38.0\n",
       "198   51.0\n",
       "139   22.0\n",
       "248   19.0\n",
       "...    ...\n",
       "72    53.0\n",
       "99    38.0\n",
       "399   18.0\n",
       "1089  56.0\n",
       "205   28.0\n",
       "\n",
       "[1003 rows x 1 columns]"
      ]
     },
     "execution_count": 273,
     "metadata": {},
     "output_type": "execute_result"
    }
   ],
   "source": [
    "X_train"
   ]
  },
  {
   "cell_type": "code",
   "execution_count": 274,
   "id": "0463da1e-72eb-4768-9f33-89f0d19f984f",
   "metadata": {
    "tags": []
   },
   "outputs": [],
   "source": [
    "from sklearn.svm import SVR"
   ]
  },
  {
   "cell_type": "code",
   "execution_count": 275,
   "id": "f7294fc1-2106-48ca-a7fb-c56ed9f49127",
   "metadata": {
    "tags": []
   },
   "outputs": [],
   "source": [
    "svr_model = SVR(kernel=\"linear\").fit(X_train, y_train)"
   ]
  },
  {
   "cell_type": "code",
   "execution_count": 276,
   "id": "16aefb7b-66a1-4371-9d23-43c8a481a001",
   "metadata": {
    "tags": []
   },
   "outputs": [
    {
     "data": {
      "text/plain": [
       "array([-3155.10040766])"
      ]
     },
     "execution_count": 276,
     "metadata": {},
     "output_type": "execute_result"
    }
   ],
   "source": [
    "svr_model.intercept_ #ş SVR modelinin doğrusal bileşeninin değerini sağlar bu değer, regresyon doğrusunun yatay eksendeki konumunu gösterir."
   ]
  },
  {
   "cell_type": "code",
   "execution_count": 277,
   "id": "5fe5ec7d-27f7-43d2-9ae8-8a508908555e",
   "metadata": {
    "tags": []
   },
   "outputs": [
    {
     "data": {
      "text/plain": [
       "array([[270.80202863]])"
      ]
     },
     "execution_count": 277,
     "metadata": {},
     "output_type": "execute_result"
    }
   ],
   "source": [
    "svr_model.coef_ # SVR modelinin doğrusal olmayan bileşeninin katsayılarını içerir ve bu katsayılar modelin tahminlerini oluşturmak için kullanılır."
   ]
  },
  {
   "cell_type": "code",
   "execution_count": 278,
   "id": "5b3988bb-0ac6-4705-bd0e-82f997b72d77",
   "metadata": {
    "tags": []
   },
   "outputs": [
    {
     "data": {
      "text/plain": [
       "array([ 3073.34625089,  7135.37668038, 10655.8030526 ,  2802.54422226,\n",
       "        1990.13813636])"
      ]
     },
     "execution_count": 278,
     "metadata": {},
     "output_type": "execute_result"
    }
   ],
   "source": [
    "svr_model.predict(X_train)[0:5] #eğitim veri seti üzerindeki ilk beş örneğin model tarafından yapılan tahminlerini yazdırıyoruz."
   ]
  },
  {
   "cell_type": "code",
   "execution_count": 279,
   "id": "0a52187a-d845-4351-bc48-1f9f042b5f67",
   "metadata": {
    "tags": []
   },
   "outputs": [
    {
     "name": "stdout",
     "output_type": "stream",
     "text": [
      "y = [-3155.10040766] + [[270.80202863]] x\n"
     ]
    }
   ],
   "source": [
    "print (\"y = {0} + {1} x\".format(svr_model.intercept_,  #formatı ekrana yazdırıyoruz.\n",
    "                                svr_model.coef_)) "
   ]
  },
  {
   "cell_type": "code",
   "execution_count": 280,
   "id": "6aed05fe-ed3e-4e7a-b3ba-1a834ec458e0",
   "metadata": {
    "tags": []
   },
   "outputs": [
    {
     "name": "stdout",
     "output_type": "stream",
     "text": [
      "y = -3155.100407659008 + 270.8020286325782 x\n"
     ]
    }
   ],
   "source": [
    "print (\"y = {0} + {1} x\".format(svr_model.intercept_[0], \n",
    "                                svr_model.coef_[0][0])) "
   ]
  },
  {
   "cell_type": "code",
   "execution_count": 281,
   "id": "2c9bcce8-7857-4b5e-a53e-54242eb5a8e6",
   "metadata": {
    "tags": []
   },
   "outputs": [
    {
     "data": {
      "text/plain": [
       "1120    23.0\n",
       "Name: age, dtype: float64"
      ]
     },
     "execution_count": 281,
     "metadata": {},
     "output_type": "execute_result"
    }
   ],
   "source": [
    "X_train[\"age\"][0:1]"
   ]
  },
  {
   "cell_type": "code",
   "execution_count": 282,
   "id": "4124db88-eac4-465f-94e8-b447c492d7cd",
   "metadata": {
    "tags": []
   },
   "outputs": [
    {
     "data": {
      "text/plain": [
       "3071.2839615400308"
      ]
     },
     "execution_count": 282,
     "metadata": {},
     "output_type": "execute_result"
    }
   ],
   "source": [
    "-3210.2906068080565 + 273.11193775426466*23.0 #ilk değer kullanarak tahmin yaptığımızda gerçekten de yukarıdaki gibi bir değer çıktı."
   ]
  },
  {
   "cell_type": "code",
   "execution_count": 283,
   "id": "2b8628aa-3844-4eab-a5d0-2e1d1e5c05f9",
   "metadata": {
    "tags": []
   },
   "outputs": [],
   "source": [
    "y_pred = svr_model.predict(X_train)"
   ]
  },
  {
   "cell_type": "code",
   "execution_count": 284,
   "id": "44805350-5286-4c58-bbe9-e8da069d83d2",
   "metadata": {
    "tags": []
   },
   "outputs": [
    {
     "data": {
      "text/plain": [
       "[<matplotlib.lines.Line2D at 0x221a5dda8d0>]"
      ]
     },
     "execution_count": 284,
     "metadata": {},
     "output_type": "execute_result"
    },
    {
     "data": {
      "image/png": "[encoded data removed]",
      "text/plain": [
       "<Figure size 640x480 with 1 Axes>"
      ]
     },
     "metadata": {},
     "output_type": "display_data"
    }
   ],
   "source": [
    "plt.scatter(X_train, y_train)\n",
    "plt.plot(X_train,y_pred, color = \"r\") #yapılan tahminleri görselleştiriyoruz."
   ]
  },
  {
   "cell_type": "code",
   "execution_count": 285,
   "id": "4b9504af-d188-4564-82b0-f4cec63a45d9",
   "metadata": {
    "tags": []
   },
   "outputs": [
    {
     "name": "stdout",
     "output_type": "stream",
     "text": [
      "y = 3238.0527444176496 + 261.16134800211705 x\n"
     ]
    }
   ],
   "source": [
    "from sklearn.linear_model import LinearRegression\n",
    "lm_model = LinearRegression().fit(X_train, y_train)\n",
    "lm_pred  = lm_model.predict(X_train)\n",
    "print(\"y = {0} + {1} x\".format(lm_model.intercept_, lm_model.coef_[0])) #Bu değerlerle birlikte, modelin öğrendiği doğruyu ifade eden bir denklem elde edilir."
   ]
  },
  {
   "cell_type": "code",
   "execution_count": 286,
   "id": "77f212ba-7e9f-4143-9fe1-da727461fd18",
   "metadata": {
    "tags": []
   },
   "outputs": [
    {
     "data": {
      "text/plain": [
       "13129.461480814947"
      ]
     },
     "execution_count": 286,
     "metadata": {},
     "output_type": "execute_result"
    }
   ],
   "source": [
    "2987.315978866218 + 266.898565840756*38.0"
   ]
  },
  {
   "cell_type": "code",
   "execution_count": 287,
   "id": "6115afda-bdc4-416f-8a98-5c08127cc68d",
   "metadata": {
    "tags": []
   },
   "outputs": [
    {
     "data": {
      "text/plain": [
       "Text(0, 0.5, 'charges(masraflar')"
      ]
     },
     "execution_count": 287,
     "metadata": {},
     "output_type": "execute_result"
    },
    {
     "data": {
      "image/png": "[encoded data removed]",
      "text/plain": [
       "<Figure size 640x480 with 1 Axes>"
      ]
     },
     "metadata": {},
     "output_type": "display_data"
    }
   ],
   "source": [
    "plt.scatter(X_train, y_train, alpha=0.5, s=23)\n",
    "plt.plot(X_train, lm_pred, 'g') #Doğrusal regresyon modelinin eğitim veri seti üzerindeki tahminini yeşil renkte çizer.\n",
    "plt.plot(X_train, y_pred, color='r')#Başka bir modelin eğitim veri seti üzerindeki tahminini kırmızı renkte çizer.\n",
    "\n",
    "plt.xlabel(\"age(yaş)\")           # bu grafik ki farklı modelin gerçek değerlere ne kadar iyi uyduğunu ve birbirinden nasıl farklılaştığını anlamak için kullanılabilir.\n",
    "plt.ylabel(\"charges(masraflar\")"
   ]
  },
  {
   "cell_type": "markdown",
   "id": "e69e1e87-2ec9-4437-b904-a7530b350d7f",
   "metadata": {},
   "source": [
    "**Yeşil ve kırmızı çizgiler ise iki farklı modelin bu veri setine olan uyumunu temsil eder**"
   ]
  },
  {
   "cell_type": "markdown",
   "id": "b6c8bb0a-48ec-4ed7-b4cc-654b53c39e7f",
   "metadata": {},
   "source": [
    "**TAHMİN**"
   ]
  },
  {
   "cell_type": "code",
   "execution_count": 288,
   "id": "9b522fcf-a9b4-40ea-a9dc-69f75a25bc0e",
   "metadata": {
    "tags": []
   },
   "outputs": [
    {
     "name": "stdout",
     "output_type": "stream",
     "text": [
      "y = -3155.100407659008 + 270.8020286325782 x\n"
     ]
    }
   ],
   "source": [
    "print (\"y = {0} + {1} x\".format(svr_model.intercept_[0], svr_model.coef_[0][0])) "
   ]
  },
  {
   "cell_type": "markdown",
   "id": "e1d02116-0745-42ff-a51f-8876aa358eff",
   "metadata": {
    "tags": []
   },
   "source": [
    "**intercept_[0] ifadesi modelin kesişim noktasını (yani y-eksenini kestiği noktadaki değeri) ifade eder.coef_[0][0] ifadesi ise bağımsız değişkenin (x) katsayısını temsil eder.**"
   ]
  },
  {
   "cell_type": "code",
   "execution_count": 289,
   "id": "f458d6a0-e5d4-4509-b4ab-2b5a70a6f269",
   "metadata": {
    "tags": []
   },
   "outputs": [],
   "source": [
    "y_pred = svr_model.predict(X_test)"
   ]
  },
  {
   "cell_type": "code",
   "execution_count": 290,
   "id": "2e5c02f3-85b7-42cb-a7e2-c0a9a14641e0",
   "metadata": {
    "tags": []
   },
   "outputs": [
    {
     "data": {
      "text/plain": [
       "11989.222267630637"
      ]
     },
     "execution_count": 290,
     "metadata": {},
     "output_type": "execute_result"
    }
   ],
   "source": [
    "np.sqrt(mean_squared_error(y_test, y_pred))#model üzerinden test hatasını alalım"
   ]
  },
  {
   "cell_type": "code",
   "execution_count": 291,
   "id": "a7d0cfb2-8cd8-48e5-a233-cd27d796390a",
   "metadata": {
    "tags": []
   },
   "outputs": [],
   "source": [
    "k_t = pd.DataFrame({\"gercek_y\": y_test,\n",
    "                   \"tahmin_y\": y_pred}) "
   ]
  },
  {
   "cell_type": "code",
   "execution_count": 292,
   "id": "fea80cb2-bf3a-46fe-800f-8321bae46eaa",
   "metadata": {
    "tags": []
   },
   "outputs": [
    {
     "data": {
      "text/html": [
       "<div>\n",
       "<style scoped>\n",
       "    .dataframe tbody tr th:only-of-type {\n",
       "        vertical-align: middle;\n",
       "    }\n",
       "\n",
       "    .dataframe tbody tr th {\n",
       "        vertical-align: top;\n",
       "    }\n",
       "\n",
       "    .dataframe thead th {\n",
       "        text-align: right;\n",
       "    }\n",
       "</style>\n",
       "<table border=\"1\" class=\"dataframe\">\n",
       "  <thead>\n",
       "    <tr style=\"text-align: right;\">\n",
       "      <th></th>\n",
       "      <th>gercek_y</th>\n",
       "      <th>tahmin_y</th>\n",
       "    </tr>\n",
       "  </thead>\n",
       "  <tbody>\n",
       "    <tr>\n",
       "      <th>1210</th>\n",
       "      <td>5373.36425</td>\n",
       "      <td>6593.772623</td>\n",
       "    </tr>\n",
       "    <tr>\n",
       "      <th>1105</th>\n",
       "      <td>10338.93160</td>\n",
       "      <td>11468.209139</td>\n",
       "    </tr>\n",
       "    <tr>\n",
       "      <th>636</th>\n",
       "      <td>2709.11190</td>\n",
       "      <td>7419.033903</td>\n",
       "    </tr>\n",
       "    <tr>\n",
       "      <th>252</th>\n",
       "      <td>44260.74990</td>\n",
       "      <td>11468.209139</td>\n",
       "    </tr>\n",
       "    <tr>\n",
       "      <th>775</th>\n",
       "      <td>10560.49170</td>\n",
       "      <td>10655.803053</td>\n",
       "    </tr>\n",
       "    <tr>\n",
       "      <th>...</th>\n",
       "      <td>...</td>\n",
       "      <td>...</td>\n",
       "    </tr>\n",
       "    <tr>\n",
       "      <th>1079</th>\n",
       "      <td>15161.53440</td>\n",
       "      <td>13905.427396</td>\n",
       "    </tr>\n",
       "    <tr>\n",
       "      <th>463</th>\n",
       "      <td>11165.41765</td>\n",
       "      <td>12009.813196</td>\n",
       "    </tr>\n",
       "    <tr>\n",
       "      <th>866</th>\n",
       "      <td>1141.44510</td>\n",
       "      <td>1719.336108</td>\n",
       "    </tr>\n",
       "    <tr>\n",
       "      <th>945</th>\n",
       "      <td>11674.13000</td>\n",
       "      <td>7419.033903</td>\n",
       "    </tr>\n",
       "    <tr>\n",
       "      <th>560</th>\n",
       "      <td>9193.83850</td>\n",
       "      <td>9301.792909</td>\n",
       "    </tr>\n",
       "  </tbody>\n",
       "</table>\n",
       "<p>335 rows × 2 columns</p>\n",
       "</div>"
      ],
      "text/plain": [
       "         gercek_y      tahmin_y\n",
       "1210   5373.36425   6593.772623\n",
       "1105  10338.93160  11468.209139\n",
       "636    2709.11190   7419.033903\n",
       "252   44260.74990  11468.209139\n",
       "775   10560.49170  10655.803053\n",
       "...           ...           ...\n",
       "1079  15161.53440  13905.427396\n",
       "463   11165.41765  12009.813196\n",
       "866    1141.44510   1719.336108\n",
       "945   11674.13000   7419.033903\n",
       "560    9193.83850   9301.792909\n",
       "\n",
       "[335 rows x 2 columns]"
      ]
     },
     "execution_count": 292,
     "metadata": {},
     "output_type": "execute_result"
    }
   ],
   "source": [
    "k_t "
   ]
  },
  {
   "cell_type": "markdown",
   "id": "12b9f258-ab6c-447c-9681-81c65b8cbb8e",
   "metadata": {},
   "source": [
    "**MODEL TUNING**"
   ]
  },
  {
   "cell_type": "code",
   "execution_count": 293,
   "id": "99755d78-b14c-4451-9ea1-7ed1cdf3e769",
   "metadata": {
    "tags": []
   },
   "outputs": [
    {
     "data": {
      "text/plain": [
       "{'C': 1.0,\n",
       " 'cache_size': 200,\n",
       " 'coef0': 0.0,\n",
       " 'degree': 3,\n",
       " 'epsilon': 0.1,\n",
       " 'gamma': 'scale',\n",
       " 'kernel': 'linear',\n",
       " 'max_iter': -1,\n",
       " 'shrinking': True,\n",
       " 'tol': 0.001,\n",
       " 'verbose': False}"
      ]
     },
     "execution_count": 293,
     "metadata": {},
     "output_type": "execute_result"
    }
   ],
   "source": [
    "svr_model.get_params()"
   ]
  },
  {
   "cell_type": "code",
   "execution_count": 294,
   "id": "ed0128f5-e53a-4b53-b3f2-a9cac6bacbd9",
   "metadata": {
    "tags": []
   },
   "outputs": [],
   "source": [
    "svr_params = {\"C\": np.arange(0.3,2,0.5)} #0.3'den 2'ye kadar 0.5 artış yapan değerleri C olarak denesin\n",
    "svr_cv_model = GridSearchCV(svr_model, svr_params, cv = 15).fit(X_train,y_train) #15 çapraz doğrulama ile en iyi paramtre değerini bul"
   ]
  },
  {
   "cell_type": "code",
   "execution_count": 295,
   "id": "c496cbd4-3ea8-4ac4-b40b-5cd9242dc63c",
   "metadata": {
    "tags": []
   },
   "outputs": [
    {
     "data": {
      "text/plain": [
       "{'C': 1.8}"
      ]
     },
     "execution_count": 295,
     "metadata": {},
     "output_type": "execute_result"
    }
   ],
   "source": [
    "svr_cv_model.best_params_ # çapraz doğrulama sonuçlarına dayanarak elde edilen en iyi hiperparametre setini elde ederiz."
   ]
  },
  {
   "cell_type": "code",
   "execution_count": 296,
   "id": "5385cff2-85de-46df-9b0f-34c01e6cbe01",
   "metadata": {
    "tags": []
   },
   "outputs": [
    {
     "data": {
      "text/plain": [
       "1.8"
      ]
     },
     "execution_count": 296,
     "metadata": {},
     "output_type": "execute_result"
    }
   ],
   "source": [
    "svr_cv_model.best_params_[\"C\"] #en iyi performansı gösteren \"C\" hiperparametresinin değerini sağlar."
   ]
  },
  {
   "cell_type": "code",
   "execution_count": 297,
   "id": "f1aa6d2b-a074-4149-9a7f-a6385c85b1b3",
   "metadata": {
    "tags": []
   },
   "outputs": [],
   "source": [
    "svr_tuned = SVR(kernel= \"linear\", \n",
    "                C = svr_cv_model.best_params_[\"C\"]).fit(X_train, y_train)\n"
   ]
  },
  {
   "cell_type": "code",
   "execution_count": 298,
   "id": "b938a7e9-c20f-4629-a7ef-d7fca0c183ee",
   "metadata": {
    "tags": []
   },
   "outputs": [],
   "source": [
    "y_pred = svr_tuned.predict(X_test)"
   ]
  },
  {
   "cell_type": "code",
   "execution_count": 299,
   "id": "bd2f264c-89b6-4046-b6ad-1868498f7e02",
   "metadata": {
    "tags": []
   },
   "outputs": [
    {
     "data": {
      "text/plain": [
       "11987.544177864493"
      ]
     },
     "execution_count": 299,
     "metadata": {},
     "output_type": "execute_result"
    }
   ],
   "source": [
    "np.sqrt(mean_squared_error(y_test, y_pred)) #kök ortalama karesel hatayı buluyoruz."
   ]
  },
  {
   "cell_type": "markdown",
   "id": "40cef1bf-416c-4652-b10b-7ee90bed90e0",
   "metadata": {},
   "source": [
    "**Tek değişken değil de tüm değişkenleri baz alıp SVR uygulayalım**"
   ]
  },
  {
   "cell_type": "code",
   "execution_count": 300,
   "id": "aeafc3c5-3796-4316-b357-72f5f444fee4",
   "metadata": {
    "tags": []
   },
   "outputs": [],
   "source": [
    "hit = pd.read_excel(\"güncellenmiş_veriSeti.xlsx\")\n",
    "df = hit.copy()\n",
    "dms = pd.get_dummies(df[['sex', 'smoker', 'region']])\n",
    "y = df[\"charges\"]\n",
    "X_ = df.drop(['charges', 'sex', 'smoker', 'region'], axis=1).astype('float64')\n",
    "X_train, X_test, y_train, y_test = train_test_split(X, y, \n",
    "                                                    test_size=0.25, \n",
    "                                                    random_state=60)"
   ]
  },
  {
   "cell_type": "code",
   "execution_count": 301,
   "id": "7efed226-f264-46e6-9f12-86bf3beb7157",
   "metadata": {
    "tags": []
   },
   "outputs": [],
   "source": [
    "svr_model = SVR(kernel=\"linear\").fit(X_train, y_train)"
   ]
  },
  {
   "cell_type": "code",
   "execution_count": 302,
   "id": "c023865f-8372-414d-a2de-5e71b857b44e",
   "metadata": {
    "tags": []
   },
   "outputs": [],
   "source": [
    "svr_params = {\"C\": np.arange(0.3,2,0.5)}\n",
    "svr_cv_model = GridSearchCV(svr_model, svr_params, cv = 15).fit(X_train,y_train) #15 çapraz doğrulama ile eğitim verileri için en iyi paramtre değerini bul"
   ]
  },
  {
   "cell_type": "code",
   "execution_count": 303,
   "id": "23788fdd-851c-4c1d-9018-49456adb9141",
   "metadata": {
    "tags": []
   },
   "outputs": [
    {
     "data": {
      "text/plain": [
       "{'C': 1.8}"
      ]
     },
     "execution_count": 303,
     "metadata": {},
     "output_type": "execute_result"
    }
   ],
   "source": [
    "svr_cv_model.best_params_"
   ]
  },
  {
   "cell_type": "code",
   "execution_count": 304,
   "id": "ed18f65b-8c62-40b5-901a-87de88032164",
   "metadata": {
    "tags": []
   },
   "outputs": [
    {
     "data": {
      "text/plain": [
       "1.8"
      ]
     },
     "execution_count": 304,
     "metadata": {},
     "output_type": "execute_result"
    }
   ],
   "source": [
    "svr_cv_model.best_params_[\"C\"]"
   ]
  },
  {
   "cell_type": "code",
   "execution_count": 305,
   "id": "41667dca-f68e-49c4-94ff-96bdbc42b66d",
   "metadata": {
    "tags": []
   },
   "outputs": [],
   "source": [
    "svr_tuned = SVR(kernel= \"linear\", \n",
    "                C = svr_cv_model.best_params_[\"C\"]).fit(X_train, y_train)\n"
   ]
  },
  {
   "cell_type": "code",
   "execution_count": 306,
   "id": "0f17f55f-fac2-447a-8958-202140502493",
   "metadata": {
    "tags": []
   },
   "outputs": [],
   "source": [
    "y_pred = svr_tuned.predict(X_test)"
   ]
  },
  {
   "cell_type": "code",
   "execution_count": 307,
   "id": "ed0f145f-232e-4a01-9708-9cf8768110a3",
   "metadata": {
    "tags": []
   },
   "outputs": [
    {
     "data": {
      "text/plain": [
       "11853.842272985545"
      ]
     },
     "execution_count": 307,
     "metadata": {},
     "output_type": "execute_result"
    }
   ],
   "source": [
    "np.sqrt(mean_squared_error(y_test, y_pred))"
   ]
  },
  {
   "cell_type": "code",
   "execution_count": 308,
   "id": "d7ad83a1-bee5-4cf5-9384-d2118672334f",
   "metadata": {
    "tags": []
   },
   "outputs": [],
   "source": [
    "k_t = pd.DataFrame({\"gercek_y\": y_test,\n",
    "                   \"tahmin_y\": y_pred}) "
   ]
  },
  {
   "cell_type": "code",
   "execution_count": 309,
   "id": "4416f0eb-df9e-46c4-9573-951b817e04fe",
   "metadata": {
    "tags": []
   },
   "outputs": [
    {
     "data": {
      "text/html": [
       "<div>\n",
       "<style scoped>\n",
       "    .dataframe tbody tr th:only-of-type {\n",
       "        vertical-align: middle;\n",
       "    }\n",
       "\n",
       "    .dataframe tbody tr th {\n",
       "        vertical-align: top;\n",
       "    }\n",
       "\n",
       "    .dataframe thead th {\n",
       "        text-align: right;\n",
       "    }\n",
       "</style>\n",
       "<table border=\"1\" class=\"dataframe\">\n",
       "  <thead>\n",
       "    <tr style=\"text-align: right;\">\n",
       "      <th></th>\n",
       "      <th>gercek_y</th>\n",
       "      <th>tahmin_y</th>\n",
       "    </tr>\n",
       "  </thead>\n",
       "  <tbody>\n",
       "    <tr>\n",
       "      <th>1210</th>\n",
       "      <td>5373.36425</td>\n",
       "      <td>6496.833566</td>\n",
       "    </tr>\n",
       "    <tr>\n",
       "      <th>1105</th>\n",
       "      <td>10338.93160</td>\n",
       "      <td>11085.080205</td>\n",
       "    </tr>\n",
       "    <tr>\n",
       "      <th>636</th>\n",
       "      <td>2709.11190</td>\n",
       "      <td>7357.621126</td>\n",
       "    </tr>\n",
       "    <tr>\n",
       "      <th>252</th>\n",
       "      <td>44260.74990</td>\n",
       "      <td>11965.255580</td>\n",
       "    </tr>\n",
       "    <tr>\n",
       "      <th>775</th>\n",
       "      <td>10560.49170</td>\n",
       "      <td>11078.122872</td>\n",
       "    </tr>\n",
       "    <tr>\n",
       "      <th>...</th>\n",
       "      <td>...</td>\n",
       "      <td>...</td>\n",
       "    </tr>\n",
       "    <tr>\n",
       "      <th>1079</th>\n",
       "      <td>15161.53440</td>\n",
       "      <td>14274.200747</td>\n",
       "    </tr>\n",
       "    <tr>\n",
       "      <th>463</th>\n",
       "      <td>11165.41765</td>\n",
       "      <td>12666.376161</td>\n",
       "    </tr>\n",
       "    <tr>\n",
       "      <th>866</th>\n",
       "      <td>1141.44510</td>\n",
       "      <td>1451.573625</td>\n",
       "    </tr>\n",
       "    <tr>\n",
       "      <th>945</th>\n",
       "      <td>11674.13000</td>\n",
       "      <td>7356.259084</td>\n",
       "    </tr>\n",
       "    <tr>\n",
       "      <th>560</th>\n",
       "      <td>9193.83850</td>\n",
       "      <td>9468.084054</td>\n",
       "    </tr>\n",
       "  </tbody>\n",
       "</table>\n",
       "<p>335 rows × 2 columns</p>\n",
       "</div>"
      ],
      "text/plain": [
       "         gercek_y      tahmin_y\n",
       "1210   5373.36425   6496.833566\n",
       "1105  10338.93160  11085.080205\n",
       "636    2709.11190   7357.621126\n",
       "252   44260.74990  11965.255580\n",
       "775   10560.49170  11078.122872\n",
       "...           ...           ...\n",
       "1079  15161.53440  14274.200747\n",
       "463   11165.41765  12666.376161\n",
       "866    1141.44510   1451.573625\n",
       "945   11674.13000   7356.259084\n",
       "560    9193.83850   9468.084054\n",
       "\n",
       "[335 rows x 2 columns]"
      ]
     },
     "execution_count": 309,
     "metadata": {},
     "output_type": "execute_result"
    }
   ],
   "source": [
    "k_t"
   ]
  },
  {
   "cell_type": "code",
   "execution_count": 310,
   "id": "164026d6-2d68-4cc4-8eca-d642fd94c137",
   "metadata": {
    "tags": []
   },
   "outputs": [],
   "source": [
    "r2=r2_score(y_test, y_pred) #Negatifsonucun gelmesini genellikle modelin seçilen bağımsız değişkenlere göre verileri kötü açıkladığı olarak yorumlayabiliriz."
   ]
  },
  {
   "cell_type": "code",
   "execution_count": 311,
   "id": "c2a06004-fd2e-4cad-acbe-6ac2ce719498",
   "metadata": {
    "tags": []
   },
   "outputs": [
    {
     "data": {
      "text/plain": [
       "-0.17756877864779974"
      ]
     },
     "execution_count": 311,
     "metadata": {},
     "output_type": "execute_result"
    }
   ],
   "source": [
    "r2"
   ]
  },
  {
   "cell_type": "markdown",
   "id": "5c22805c-0485-4d52-bd36-adb650fa05e7",
   "metadata": {},
   "source": [
    "**TÜM MODELLERİN KARŞILAŞTIRILMASI**"
   ]
  },
  {
   "cell_type": "code",
   "execution_count": 312,
   "id": "18445dd9-c616-4e92-abf4-6f2710790fe5",
   "metadata": {
    "tags": []
   },
   "outputs": [],
   "source": [
    "from sklearn.metrics import accuracy_score"
   ]
  },
  {
   "cell_type": "code",
   "execution_count": 313,
   "id": "2e48f170-4e59-43cb-8561-7f349f30982b",
   "metadata": {
    "tags": []
   },
   "outputs": [],
   "source": [
    "from sklearn.preprocessing import MinMaxScaler\n",
    "\n",
    "# Ölçeklendirme işlemi\n",
    "scaler = MinMaxScaler()\n",
    "X_test_scaled = scaler.fit_transform(X_test)\n"
   ]
  },
  {
   "cell_type": "code",
   "execution_count": 314,
   "id": "945e8ecc-eb6a-4aa3-a742-4d69e5c4c885",
   "metadata": {
    "tags": []
   },
   "outputs": [
    {
     "name": "stdout",
     "output_type": "stream",
     "text": [
      "----------------------------\n",
      "KNeighborsRegressor:\n",
      "Mean Squared Error: 10699594141.7901%\n",
      "----------------------------\n",
      "DecisionTreeRegressor:\n",
      "Mean Squared Error: 2915282229.1718%\n",
      "----------------------------\n",
      "BaggingRegressor:\n",
      "Mean Squared Error: 3694375745.9058%\n",
      "----------------------------\n",
      "SVR:\n",
      "Mean Squared Error: 38084029015.3558%\n"
     ]
    }
   ],
   "source": [
    "from sklearn.metrics import mean_squared_error\n",
    "\n",
    "modeller = [\n",
    "    knn_tuned,\n",
    "    cart_tuned,\n",
    "    bag_tuned,\n",
    "    svr_tuned,\n",
    "]\n",
    "\n",
    "for model in modeller:\n",
    "    isimler = model.__class__.__name__\n",
    "    y_pred = model.predict(X_test_scaled) if isimler == \"SVR\" else model.predict(X_test)\n",
    "    dogruluk = mean_squared_error(y_test, y_pred)\n",
    "    print(\"-\" * 28)\n",
    "    print(isimler + \":\")\n",
    "    print(\"Mean Squared Error: {:.4%}\".format(dogruluk))\n"
   ]
  },
  {
   "cell_type": "code",
   "execution_count": 315,
   "id": "03e66c54-5c77-4d18-8d83-e840d6f5786c",
   "metadata": {
    "tags": []
   },
   "outputs": [
    {
     "data": {
      "image/png": "[encoded data removed]",
      "text/plain": [
       "<Figure size 640x480 with 1 Axes>"
      ]
     },
     "metadata": {},
     "output_type": "display_data"
    }
   ],
   "source": [
    "import pandas as pd\n",
    "from sklearn.metrics import r2_score, mean_squared_error\n",
    "import seaborn as sns\n",
    "import matplotlib.pyplot as plt\n",
    "\n",
    "sonuclar = pd.DataFrame(columns=[\"Modeller\", \"R2 Score\", \"Mean Squared Error\"])\n",
    "\n",
    "for model in modeller:\n",
    "    isimler = model.__class__.__name__\n",
    "    if isimler == \"SVR\":\n",
    "        y_pred = model.predict(X_test_scaled)\n",
    "    else:\n",
    "        y_pred = model.predict(X_test)\n",
    "    # Regresyon ölçütlerini hesapla\n",
    "    r2 = r2_score(y_test, y_pred)\n",
    "    mse = mean_squared_error(y_test, y_pred)\n",
    "    # R2 Score ve Mean Squared Error değerlerini yüzde cinsinden ifade et\n",
    "    r2_percentage = r2 * 100\n",
    "    mse_percentage = mse * 100\n",
    "\n",
    "    sonuc = pd.DataFrame([[isimler, r2_percentage, mse_percentage]], columns=[\"Modeller\", \"R2 Score\", \"Mean Squared Error\"])\n",
    "    sonuclar = pd.concat([sonuclar, sonuc], ignore_index=True)\n",
    "\n",
    "sns.barplot(x='R2 Score', y='Modeller', data=sonuclar, color=\"b\")\n",
    "plt.xlabel('R2 Score (%)')\n",
    "plt.title('Modellerin R2 Score Değerleri')\n",
    "plt.show()\n",
    "\n",
    "\n"
   ]
  },
  {
   "cell_type": "code",
   "execution_count": null,
   "id": "0299e5f6-a020-4238-b4cf-9cf4bbd1d00c",
   "metadata": {},
   "outputs": [],
   "source": []
  }
 ],
 "metadata": {
  "kernelspec": {
   "display_name": "Python 3 (ipykernel)",
   "language": "python",
   "name": "python3"
  },
  "language_info": {
   "codemirror_mode": {
    "name": "ipython",
    "version": 3
   },
   "file_extension": ".py",
   "mimetype": "text/x-python",
   "name": "python",
   "nbconvert_exporter": "python",
   "pygments_lexer": "ipython3",
   "version": "3.11.5"
  }
 },
 "nbformat": 4,
 "nbformat_minor": 5
}
